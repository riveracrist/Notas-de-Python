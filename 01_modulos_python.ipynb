{
 "cells": [
  {
   "cell_type": "markdown",
   "metadata": {},
   "source": [
    "> Este curso es el segundo en una serie de dos cursos, y te prepara para el examen de certificación PCAP: Certified Associate in Python Programming a través de Pearson VUE."
   ]
  },
  {
   "cell_type": "markdown",
   "metadata": {},
   "source": [
    "# Introducción a los Módulos de Python\n",
    "\n",
    "## ¿Qué es un módulo?\n",
    "\n",
    "* El Tutorial de Python lo define como un archivo que contiene definiciones y sentencias de Python, que se pueden importar más tarde y utilizar cuando sea necesario.\n",
    "\n",
    "* En Python, un módulo es un archivo que contiene código Python, incluyendo definiciones de funciones, clases, variables, y sentencias ejecutables.\n",
    "\n",
    "* Un módulo es un fichero con la extensión .py que puede contener variables globales, funciones, clases, y sentencias ejecutables. Estos elementos se organizan de manera que permiten estructurar programas de forma más simple y cohesiva.\n",
    "\n",
    "Cada módulo tiene su propio espacio de nombres privado, lo que evita colisiones entre identificadores de valores y funciones. Esto permite al autor del módulo usar variables globales sin preocuparse por conflictos con variables globales del usuario.\n",
    "\n",
    "\n",
    "## ¿Cómo usar un módulo?\n",
    "\n",
    "Si se desea utilizar cualquier módulo, se necesita saber su nombre. Se entrega una cantidad (bastante grande) de módulos junto con Python. Se puede pensar en ellos como una especie de “equipamiento adicional de Python”.\n",
    "\n",
    "Todos estos módulos, junto con las funciones integradas, forman la Biblioteca Estándar de Python - un tipo especial de biblioteca donde los módulos desempeñan el papel de libros (incluso podemos decir que las carpetas desempeñan el papel de estanterías).\n",
    "\n",
    "Si deseas ver la lista completa de todos los «volúmenes» recopilados en esa biblioteca, se puede encontrar aquí: https://docs.python.org/3/library/index.html\n",
    "\n",
    "Cada módulo consta de entidades (como un libro consta de capítulos). Estas entidades pueden ser funciones, variables, constantes, clases y objetos. Si se sabe como acceder a un módulo en particular, se puede utilizar cualquiera de las entidades que almacena.\n",
    "\n",
    "Uno de los módulos más utilizados es el que lleva por nombre `math`. Este módulo contiene una extensa colección de entidades (no solo funciones) que permiten al usuario implementar cálculos que exigen el uso de funciones matemáticas como `sen()` o `log()`.\n",
    "\n",
    "\n",
    "## Importar un Módulo\n",
    "\n",
    "Para que un módulo sea utilizable, hay que importarlo (piensa en ello como sacar un libro del estante). La importación de un módulo se realiza mediante una instrucción llamada `import`. \n",
    "\n",
    "> Nota: `import` es también una palabra clave reservada (con todas sus implicaciones).\n",
    "\n",
    "\n",
    "La instrucción puede colocarse en cualquier parte del código, pero debe colocarse antes del primer uso de cualquiera de las entidades del módulo."
   ]
  },
  {
   "cell_type": "code",
   "execution_count": null,
   "metadata": {},
   "outputs": [],
   "source": [
    "import math\n",
    "import sys"
   ]
  },
  {
   "cell_type": "code",
   "execution_count": null,
   "metadata": {},
   "outputs": [],
   "source": [
    "import math, sys"
   ]
  },
  {
   "cell_type": "markdown",
   "metadata": {},
   "source": [
    "## Namespace\n",
    "\n",
    "Un namespace es un espacio (entendido en un contexto no físico) en el que existen algunos nombres y los nombres no entran en conflicto entre sí (es decir, no hay dos objetos diferentes con el mismo nombre).\n",
    "\n",
    "Esta singularidad se puede lograr de muchas maneras, por ejemplo, mediante el uso de apodos junto con los nombres (funcionará dentro de un grupo pequeño como una clase en una escuela) o asignando identificadores especiales a todos los miembros del grupo (el número de Seguro Social de EE. UU. es un buen ejemplo de tal práctica).\n",
    "\n",
    "Dentro de un determinado namespace, cada nombre debe permanecer único. Esto puede significar que algunos nombres pueden desaparecer cuando cualquier otra entidad de un nombre ya conocido ingresa al namespace. Mostraremos como funciona y como controlarlo, pero primero, volvamos a las importaciones.\n",
    "\n",
    "Si el módulo de un nombre especificado existe y es accesible (un módulo es de hecho un archivo fuente de Python), Python importa su contenido, se hacen conocidos todos los nombres definidos en el módulo, pero no ingresan al namespace del código.\n",
    "\n",
    "Esto significa que puedes tener tus propias entidades llamadas y no serán afectadas en alguna manera por la importación."
   ]
  },
  {
   "cell_type": "markdown",
   "metadata": {},
   "source": [
    "## Importando un Modulo\n",
    "\n",
    "En este caso se importa el módulo `math` que contiene las función `sin()` la cual calcula el seno de un valor, o la variable `pi`  que contiene el valor del número $\\pi = 3.1415$...\n",
    "\n",
    "Si no importamos el módulo, esta función no estará habilitada por lo tanto no es posible hacer uso de ella."
   ]
  },
  {
   "cell_type": "code",
   "execution_count": 8,
   "metadata": {},
   "outputs": [
    {
     "name": "stdout",
     "output_type": "stream",
     "text": [
      "1.0\n"
     ]
    }
   ],
   "source": [
    "import math\n",
    "\n",
    "print(math.sin(math.pi/2))"
   ]
  },
  {
   "cell_type": "markdown",
   "metadata": {},
   "source": [
    "Esta es la forma en la que se habilitan los nombres de `pi` y `sin` con el nombre de su módulo de origen. `math.pi`, `math.sin`.\n",
    "\n",
    "Es sencillo, se coloca:\n",
    "\n",
    "* El nombre del módulo (`math`).\n",
    "* Un punto (`.`).\n",
    "* El nombre de la entidad (`pi`).\n",
    "\n",
    "Tal forma indica claramente el namespace en el que existe el nombre.\n",
    "\n",
    "\n",
    "> Nota: el uso de esto es obligatorio si un módulo ha sido importado con la instrucción import. No importa si alguno de los nombres del código y del namespace del módulo están en conflicto o no.\n",
    "\n",
    "\n",
    "> Nota: el eliminar cualquiera de las dos indicaciones del nombre del módulo hará que el código sea erróneo. No hay otra forma de entrar al namespace de math si se hizo lo siguiente: `import math`.\n",
    "\n",
    "Ahora, te mostraremos cómo pueden dos namespace (el tuyo y el del módulo) coexistir.\n",
    "\n",
    "Hemos definido nuestros propios pi y sin aquí.\n",
    "\n",
    "Como se puede apreciar a continuación, las entidades no se afectan entre sí.\n"
   ]
  },
  {
   "cell_type": "code",
   "execution_count": 2,
   "metadata": {},
   "outputs": [
    {
     "name": "stdout",
     "output_type": "stream",
     "text": [
      "0.99999999\n",
      "1.0\n"
     ]
    }
   ],
   "source": [
    "import math\n",
    "\n",
    "\n",
    "def sin(x):\n",
    "    if 2 * x == pi:\n",
    "        return 0.99999999\n",
    "    else:\n",
    "        return None\n",
    "\n",
    "\n",
    "pi = 3.14\n",
    "\n",
    "print(sin(pi/2))\n",
    "print(math.sin(math.pi/2))\n"
   ]
  },
  {
   "cell_type": "markdown",
   "metadata": {},
   "source": [
    "Una segunda forma de habilitar el uso de los nombres contenidos en los módulos, se hace señalando explícitamente la entidad (o entidades) del módulo que son aceptables o que se desean usar en el código."
   ]
  },
  {
   "cell_type": "code",
   "execution_count": 3,
   "metadata": {},
   "outputs": [
    {
     "name": "stdout",
     "output_type": "stream",
     "text": [
      "1.0\n"
     ]
    }
   ],
   "source": [
    "from math import pi, sin\n",
    "\n",
    "print(sin(pi/2))"
   ]
  },
  {
   "cell_type": "markdown",
   "metadata": {},
   "source": [
    "De esta manera, sólo las entidades listadas con las únicas que son imporatadas del módulo indicado.\n",
    "\n",
    "De esta manera los nombres de las entidades importadas pueden ser accedidas dentro del código sin especificar el nombre del módulo de origen.\n",
    "\n",
    "> Nota: no se importan otras entidades, únicamente las especificadas. Además, no se pueden importar entidades adicionales utilizando - una línea como esta: `print(math.e)`. Esto ocasionará un error."
   ]
  },
  {
   "cell_type": "code",
   "execution_count": 1,
   "metadata": {},
   "outputs": [
    {
     "ename": "NameError",
     "evalue": "name 'math' is not defined",
     "output_type": "error",
     "traceback": [
      "\u001b[0;31m---------------------------------------------------------------------------\u001b[0m",
      "\u001b[0;31mNameError\u001b[0m                                 Traceback (most recent call last)",
      "Cell \u001b[0;32mIn[1], line 3\u001b[0m\n\u001b[1;32m      1\u001b[0m \u001b[38;5;28;01mfrom\u001b[39;00m \u001b[38;5;21;01mmath\u001b[39;00m \u001b[38;5;28;01mimport\u001b[39;00m pi, sin\n\u001b[0;32m----> 3\u001b[0m \u001b[38;5;28mprint\u001b[39m(sin(\u001b[43mmath\u001b[49m\u001b[38;5;241m.\u001b[39me))\n",
      "\u001b[0;31mNameError\u001b[0m: name 'math' is not defined"
     ]
    }
   ],
   "source": [
    "from math import pi, sin\n",
    "\n",
    "print(sin(math.e))"
   ]
  },
  {
   "cell_type": "code",
   "execution_count": 2,
   "metadata": {},
   "outputs": [
    {
     "name": "stdout",
     "output_type": "stream",
     "text": [
      "0.41078129050290885\n"
     ]
    }
   ],
   "source": [
    "from math import pi, sin, e\n",
    "\n",
    "print(sin(e))"
   ]
  },
  {
   "cell_type": "markdown",
   "metadata": {},
   "source": [
    "A continuación:\n",
    "\n",
    "* La línea 01: lleva a cabo la importación selectiva.\n",
    "\n",
    "* La línea 03: hace uso de las entidades importadas y obtiene el resultado esperado (1.0).\n",
    "  \n",
    "* Las líneas 05 a la 12: redefinen el significado de pi y sin - en efecto, reemplazan las definiciones originales (importadas) dentro del namespace del código.\n",
    "\n",
    "* La línea 15: retorna 0.99999999, lo cual confirma nuestras conclusiones."
   ]
  },
  {
   "cell_type": "code",
   "execution_count": 6,
   "metadata": {},
   "outputs": [
    {
     "name": "stdout",
     "output_type": "stream",
     "text": [
      "1.0\n",
      "0.99999999\n"
     ]
    }
   ],
   "source": [
    "from math import sin, pi\n",
    "\n",
    "print(sin(pi / 2))\n",
    "\n",
    "pi = 3.14\n",
    "\n",
    "\n",
    "def sin(x):\n",
    "    if 2 * x == pi:\n",
    "        return 0.99999999\n",
    "    else:\n",
    "        return None\n",
    "\n",
    "\n",
    "print(sin(pi / 2))"
   ]
  },
  {
   "cell_type": "markdown",
   "metadata": {},
   "source": [
    "Otra prueba del funcionamiento de las entidades y los módulos, aquí, se ha invertido la secuencia de las operaciones del código:\n",
    "\n",
    "* Las líneas del 01 al 08: definen nuestro propio pi y sin.\n",
    "\n",
    "* La línea 11: hace uso de ellas (0.99999999 aparece en pantalla).\n",
    "\n",
    "* La línea 13: lleva a cabo la importación - los símbolos importados reemplazan sus definiciones anteriores dentro del namespace.\n",
    "\n",
    "* La línea 15: retorna 1.0 como resultado."
   ]
  },
  {
   "cell_type": "code",
   "execution_count": 7,
   "metadata": {},
   "outputs": [
    {
     "name": "stdout",
     "output_type": "stream",
     "text": [
      "0.99999999\n",
      "1.0\n"
     ]
    }
   ],
   "source": [
    "def sin(x):\n",
    "    if 2 * x == pi:\n",
    "        return 0.99999999\n",
    "    else:\n",
    "        return None\n",
    "\n",
    "\n",
    "print(sin(pi / 2))\n",
    "\n",
    "from math import sin, pi\n",
    "\n",
    "print(sin(pi / 2))"
   ]
  },
  {
   "cell_type": "markdown",
   "metadata": {},
   "source": [
    "## Importando un Módulo: `*`\n"
   ]
  },
  {
   "cell_type": "code",
   "execution_count": null,
   "metadata": {},
   "outputs": [],
   "source": [
    "from module import *"
   ]
  },
  {
   "cell_type": "markdown",
   "metadata": {},
   "source": [
    "En este caso, el nombre de una entidad (o lista de nombres de entidades) se reemplaza con un solo asterisco. Esta instrucción importa todas las entidades del módulo indicado, es decir que se habilitan todas las \"funciones\" del módulo para que podamos usarlas.\n",
    "\n",
    "Trata esto como una opción temporal e intenta no usarlo en un código regular, dado que habilitar funciones que no se necesitan puede ocupar recursos de memoria innecesarios."
   ]
  },
  {
   "cell_type": "markdown",
   "metadata": {},
   "source": [
    "## La palabra clave `as`\n",
    "\n",
    "Si se importa un módulo, al nombre del módulo se le puede dar un *alias* o renombrarlo, lo que se conoce también como *aliasing*.\n",
    "\n",
    "El *aliasing* hace que el módulo se identifique con un nombre diferente al original. Esto también puede acortar los nombres originales.\n",
    "\n",
    "La creación de un alias se realiza junto con la importación del módulo, y exige la siguiente forma de la instrucción `import`:\n",
    "\n",
    "\n",
    "`import modulo as alias`\n",
    "\n",
    "> Nota: `as` es una palabra clave reservada."
   ]
  },
  {
   "cell_type": "code",
   "execution_count": null,
   "metadata": {},
   "outputs": [
    {
     "name": "stdout",
     "output_type": "stream",
     "text": [
      "1.2246467991473532e-16\n"
     ]
    }
   ],
   "source": [
    "import math as m\n",
    "\n",
    "print(m.sin(m.pi))"
   ]
  },
  {
   "cell_type": "markdown",
   "metadata": {},
   "source": [
    "Después de la ejecución exitosa de una importación con alias, el nombre original del módulo se vuelve inaccesible y no debe ser utilizado.\n",
    "\n",
    "A su vez, cuando usa la variante `from module import name` y se necesita cambiar el nombre de la entidad, se crea un alias para la entidad. Esto hará que el nombre sea reemplazado por el alias que se elija."
   ]
  },
  {
   "cell_type": "code",
   "execution_count": null,
   "metadata": {},
   "outputs": [],
   "source": [
    "from math import degrees as grad\n",
    "\n"
   ]
  },
  {
   "cell_type": "markdown",
   "metadata": {},
   "source": [
    "La frase `name as alias` puede repetirse: puedes emplear comas para separar las frases, como a continuación:\n",
    "\n",
    "\n",
    "`from module import n as a, m as b, o as c`"
   ]
  },
  {
   "cell_type": "code",
   "execution_count": 9,
   "metadata": {},
   "outputs": [
    {
     "name": "stdout",
     "output_type": "stream",
     "text": [
      "1.0\n"
     ]
    }
   ],
   "source": [
    "from math import pi as PI, sin as seno\n",
    "  \n",
    "print(seno(PI/2))\n",
    "  \n",
    "\n",
    "  \n"
   ]
  },
  {
   "cell_type": "markdown",
   "metadata": {},
   "source": [
    "## Módulos Selectos de Python (`math`, `random`, `paltform`)\n",
    "\n",
    "Antes de comenzar a revisar algunos módulos estándar de Python, veamos la función `dir()`.\n",
    "\n",
    "*El comando `dir()` puede revelar todos los nombres o funciones proporcionados a través de un módulo en particular.*\n",
    "\n",
    "*Existe una condición*: el módulo debe haberse importado previamente como un todo (es decir, utilizar la instrucción import module - from module no es suficiente).\n",
    "\n",
    "Si el nombre del módulo tiene un alias, debes usar el alias, no el nombre original."
   ]
  },
  {
   "cell_type": "code",
   "execution_count": 11,
   "metadata": {},
   "outputs": [
    {
     "data": {
      "text/plain": [
       "['__doc__',\n",
       " '__loader__',\n",
       " '__name__',\n",
       " '__package__',\n",
       " '__spec__',\n",
       " 'acos',\n",
       " 'acosh',\n",
       " 'asin',\n",
       " 'asinh',\n",
       " 'atan',\n",
       " 'atan2',\n",
       " 'atanh',\n",
       " 'ceil',\n",
       " 'comb',\n",
       " 'copysign',\n",
       " 'cos',\n",
       " 'cosh',\n",
       " 'degrees',\n",
       " 'dist',\n",
       " 'e',\n",
       " 'erf',\n",
       " 'erfc',\n",
       " 'exp',\n",
       " 'expm1',\n",
       " 'fabs',\n",
       " 'factorial',\n",
       " 'floor',\n",
       " 'fmod',\n",
       " 'frexp',\n",
       " 'fsum',\n",
       " 'gamma',\n",
       " 'gcd',\n",
       " 'hypot',\n",
       " 'inf',\n",
       " 'isclose',\n",
       " 'isfinite',\n",
       " 'isinf',\n",
       " 'isnan',\n",
       " 'isqrt',\n",
       " 'lcm',\n",
       " 'ldexp',\n",
       " 'lgamma',\n",
       " 'log',\n",
       " 'log10',\n",
       " 'log1p',\n",
       " 'log2',\n",
       " 'modf',\n",
       " 'nan',\n",
       " 'nextafter',\n",
       " 'perm',\n",
       " 'pi',\n",
       " 'pow',\n",
       " 'prod',\n",
       " 'radians',\n",
       " 'remainder',\n",
       " 'sin',\n",
       " 'sinh',\n",
       " 'sqrt',\n",
       " 'tan',\n",
       " 'tanh',\n",
       " 'tau',\n",
       " 'trunc',\n",
       " 'ulp']"
      ]
     },
     "execution_count": 11,
     "metadata": {},
     "output_type": "execute_result"
    }
   ],
   "source": [
    "import math\n",
    "dir(math)"
   ]
  },
  {
   "cell_type": "markdown",
   "metadata": {},
   "source": [
    "## Funciones Selectas del Módulo `math`"
   ]
  },
  {
   "cell_type": "code",
   "execution_count": 2,
   "metadata": {},
   "outputs": [
    {
     "name": "stdout",
     "output_type": "stream",
     "text": [
      "3.141592653589793\n",
      "29.999999999999996\n",
      "1.0\n",
      "1.0197267436954502\n",
      "2.718281828459045\n",
      "4\n"
     ]
    }
   ],
   "source": [
    "from math import pi, radians, degrees, sin, acos, tan, asin, e\n",
    "\n",
    "grados = 180\n",
    "radianes = pi/6\n",
    "\n",
    "# convierte a radianes x grados\n",
    "print(radians(grados))\n",
    "# convierte a grados x radianes\n",
    "print(degrees(radianes))\n",
    "# calcular el seno de un valor en radianes\n",
    "print(sin(pi/2))\n",
    "# calcular el inverso del coseno de un valor en radianes\n",
    "print(acos(radianes))\n",
    "# número euler\n",
    "print(e)\n",
    "# calcular la potencia de un número\n",
    "# esta función es una función incorporada no se tiene que importar\n",
    "print(pow(2, 2))"
   ]
  },
  {
   "cell_type": "code",
   "execution_count": 3,
   "metadata": {},
   "outputs": [
    {
     "name": "stdout",
     "output_type": "stream",
     "text": [
      "True\n",
      "True\n",
      "True\n"
     ]
    }
   ],
   "source": [
    "# función logaritmo: log\n",
    "# función exponencial: exp\n",
    "\n",
    "from math import e, exp, log\n",
    "\n",
    "print(pow(e, 1) == exp(log(e)))\n",
    "print(pow(2, 2) == exp(2 * log(2)))\n",
    "print(log(e, e) == exp(0))\n"
   ]
  },
  {
   "cell_type": "code",
   "execution_count": 4,
   "metadata": {},
   "outputs": [
    {
     "name": "stdout",
     "output_type": "stream",
     "text": [
      "1 2\n",
      "-2 -3\n",
      "2 3\n",
      "-1 -2\n",
      "1 2\n",
      "-1 -2\n"
     ]
    }
   ],
   "source": [
    "# función techo: ceil\n",
    "# función piso: floor\n",
    "# función parte entera: trunc\n",
    "\n",
    "from math import ceil, floor, trunc\n",
    "\n",
    "x = 1.4\n",
    "y = 2.6\n",
    "\n",
    "print(floor(x), floor(y))\n",
    "print(floor(-x), floor(-y))\n",
    "print(ceil(x), ceil(y))\n",
    "print(ceil(-x), ceil(-y))\n",
    "print(trunc(x), trunc(y))\n",
    "print(trunc(-x), trunc(-y))"
   ]
  },
  {
   "cell_type": "markdown",
   "metadata": {},
   "source": [
    "## Módulo `random`\n",
    "\n",
    "Ofrece algunos mecanismos que permiten operar con números pseudoaleatorios.\n",
    "\n",
    "Toma en cuenta el prefijo pseudo - los números generados por los módulos pueden parecer aleatorios en el sentido de que no se pueden predecir, pero no hay que olvidar que todos se calculan utilizando algoritmos muy refinados.\n",
    "\n",
    "**Los algoritmos no son aleatorios, son deterministas y predecibles. Solo aquellos procesos físicos que se salgan completamente de nuestro control (como la intensidad de la radiación cósmica) pueden usarse como fuente de datos aleatorios reales. Los datos producidos por computadoras deterministas no pueden ser aleatorios de ninguna manera.**\n",
    "\n",
    "Un generador de números aleatorios toma un valor llamado semilla (seed), lo trata como un valor de entrada, calcula un número \"aleatorio\" basado en él (el método depende de un algoritmo elegido) y produce una nueva semilla.\n",
    "\n",
    "La duración de un ciclo en el que todos los valores semilla son únicos puede ser muy largo, pero no es infinito: tarde o temprano los valores iniciales comenzarán a repetirse y los valores generadores también se repetirán. Esto es normal. Es una característica, no un error.\n",
    "\n",
    "El valor de la semilla inicial, establecido durante el inicio del programa, determina el orden en que aparecerán los valores generados.\n",
    "\n",
    "La función general llamada `random()` (no debe confundirse con el nombre del módulo) produce un número flotante x entre el rango (0.0, 1.0) - en otras palabras: (0.0 <= x < 1.0)."
   ]
  },
  {
   "cell_type": "code",
   "execution_count": 34,
   "metadata": {},
   "outputs": [
    {
     "name": "stdout",
     "output_type": "stream",
     "text": [
      "0.5893811691695469\n",
      "0.17330448538359622\n",
      "0.8406097615603211\n",
      "0.7586216901643978\n",
      "0.7706036324287888\n"
     ]
    }
   ],
   "source": [
    "from random import random\n",
    "\n",
    "for i in range(5):\n",
    "    print(random())"
   ]
  },
  {
   "cell_type": "markdown",
   "metadata": {},
   "source": [
    "## Función `seed`\n",
    "\n",
    "La función `seed()` es capaz de establecer la semilla del generador. \n",
    "\n",
    "Te mostramos dos de sus variantes:\n",
    "\n",
    "* `seed()` - establece la semilla con la hora actual.\n",
    "  \n",
    "* `seed(int_value)` - establece la semilla con el valor entero `int_value`."
   ]
  },
  {
   "cell_type": "code",
   "execution_count": 5,
   "metadata": {},
   "outputs": [
    {
     "name": "stdout",
     "output_type": "stream",
     "text": [
      "0.8444218515250481\n",
      "0.7579544029403025\n",
      "0.420571580830845\n",
      "0.25891675029296335\n",
      "0.5112747213686085\n"
     ]
    }
   ],
   "source": [
    "from random import random, seed\n",
    "\n",
    "seed(0)\n",
    "\n",
    "for i in range(5):\n",
    "    print(random())"
   ]
  },
  {
   "cell_type": "markdown",
   "metadata": {},
   "source": [
    "Debido al hecho de que la semilla siempre se establece con el mismo valor, la secuencia de valores generados siempre será la misma cada vez que se ejecute. Esto es útil cuando se desea reproducir los mismo resultados para un código."
   ]
  },
  {
   "cell_type": "markdown",
   "metadata": {},
   "source": [
    "## Las funciones `randrange` y `randint`\n",
    "\n",
    "Si deseas valores aleatorios enteros, una de las siguientes funciones encajaría mejor:\n",
    "\n",
    "* `randrange(fin)`\n",
    "  \n",
    "* `randrange(inicio, fin)`\n",
    "\n",
    "* `randrange(inicio, fin, incremento)`\n",
    "\n",
    "* `randint(izquierda, derecha)`"
   ]
  },
  {
   "cell_type": "code",
   "execution_count": 8,
   "metadata": {},
   "outputs": [
    {
     "name": "stdout",
     "output_type": "stream",
     "text": [
      "0 0 0 1\n"
     ]
    }
   ],
   "source": [
    "from random import randrange, randint\n",
    "\n",
    "print(randrange(1), end=' ')\n",
    "print(randrange(0, 1), end=' ')\n",
    "print(randrange(0, 1, 1), end=' ')\n",
    "print(randint(0, 1))\n"
   ]
  },
  {
   "cell_type": "code",
   "execution_count": 39,
   "metadata": {},
   "outputs": [
    {
     "name": "stdout",
     "output_type": "stream",
     "text": [
      "7*2 "
     ]
    }
   ],
   "source": [
    "print(randrange(10), end='*')"
   ]
  },
  {
   "cell_type": "code",
   "execution_count": 93,
   "metadata": {},
   "outputs": [
    {
     "name": "stdout",
     "output_type": "stream",
     "text": [
      "4 "
     ]
    }
   ],
   "source": [
    "print(randrange(0, 6), end=' ')"
   ]
  },
  {
   "cell_type": "code",
   "execution_count": 110,
   "metadata": {},
   "outputs": [
    {
     "data": {
      "text/plain": [
       "15"
      ]
     },
     "execution_count": 110,
     "metadata": {},
     "output_type": "execute_result"
    }
   ],
   "source": [
    "randint(10, 15)"
   ]
  },
  {
   "cell_type": "markdown",
   "metadata": {},
   "source": [
    "Las funciones anteriores tienen una desventaja importante - pueden producir valores repetidos incluso si el número de invocaciones posteriores no es mayor que el rango especificado."
   ]
  },
  {
   "cell_type": "code",
   "execution_count": 42,
   "metadata": {},
   "outputs": [
    {
     "name": "stdout",
     "output_type": "stream",
     "text": [
      "10,4,9,8,8,9,5,1,9,1,"
     ]
    }
   ],
   "source": [
    "from random import randint\n",
    "\n",
    "for i in range(10):\n",
    "    print(randint(1, 10), end=',')"
   ]
  },
  {
   "cell_type": "markdown",
   "metadata": {},
   "source": [
    "## Las funciones `choice` y `sample`\n",
    "\n",
    "* `choice(secuencia)`\n",
    "\n",
    "* `sample(secuencia, elementos_a_elegir=1)`\n",
    "\n",
    "La primera variante elige un elemento \"aleatorio\" de la secuencia de entrada y lo devuelve.\n",
    "\n",
    "El segundo crea una lista (una muestra) que consta del elemento `elementos_a_elegir` (que por defecto es 1) «sorteado» de la secuencia de entrada.\n",
    "\n",
    "En otras palabras, la función elige algunos de los elementos de entrada, devolviendo una lista con la elección. Los elementos de la muestra se colocan en orden aleatorio. \n",
    "\n",
    "Nota que `elementos_a_elegir` no debe ser mayor que la longitud de la secuencia de entrada."
   ]
  },
  {
   "cell_type": "code",
   "execution_count": 112,
   "metadata": {},
   "outputs": [
    {
     "name": "stdout",
     "output_type": "stream",
     "text": [
      "10\n",
      "[9, 2, 1, 8, 6]\n",
      "[4, 2, 7, 1, 3, 8, 5]\n",
      "[10, 1, 4, 2, 6, 9, 8, 5, 3, 7]\n"
     ]
    }
   ],
   "source": [
    "from random import choice, sample\n",
    "\n",
    "my_list = [1, 2, 3, 4, 5, 6, 7, 8, 9, 10]\n",
    "\n",
    "print(choice(my_list))\n",
    "print(sample(my_list, 5))\n",
    "print(sample(my_list, 7))\n",
    "print(sample(my_list, 10))\n"
   ]
  },
  {
   "cell_type": "markdown",
   "metadata": {},
   "source": [
    "## Módulo `platform`\n",
    "\n",
    "El módulo platform permite acceder a los datos de la plataforma subyacente, es decir, hardware, sistema operativo e información sobre la versión del intérprete.\n",
    "\n",
    "Existe también una función que puede mostrar todas las capas subyacentes en un solo vistazo, llamada `platform`. Simplemente devuelve una cadena que describe el entorno; por lo tanto, su salida está más dirigida a los humanos que al procesamiento automatizado."
   ]
  },
  {
   "cell_type": "code",
   "execution_count": 46,
   "metadata": {},
   "outputs": [
    {
     "data": {
      "text/plain": [
       "'Linux-6.8.0-40-generic-x86_64-with-glibc2.35'"
      ]
     },
     "execution_count": 46,
     "metadata": {},
     "output_type": "execute_result"
    }
   ],
   "source": [
    "import platform as plt\n",
    "\n",
    "plt.platform(aliased = False, terse = False)"
   ]
  },
  {
   "cell_type": "markdown",
   "metadata": {},
   "source": [
    "* `aliased`  cuando se establece a `True` (o cualquier valor distinto a cero) puede hacer que la función presente los nombres de capa subyacentes alternativos en lugar de los comunes.\n",
    "\n",
    "* `terse` cuando se establece a `True` (o cualquier valor distinto a cero) puede convencer a la función de presentar una forma más breve del resultado (si lo fuera posible)."
   ]
  },
  {
   "cell_type": "code",
   "execution_count": 1,
   "metadata": {},
   "outputs": [
    {
     "name": "stdout",
     "output_type": "stream",
     "text": [
      "Linux-6.8.0-49-generic-x86_64-with-glibc2.35\n",
      "Linux-6.8.0-49-generic-x86_64-with-glibc2.35\n",
      "Linux-6.8.0-49-generic-x86_64-with-glibc2.35\n"
     ]
    }
   ],
   "source": [
    "from platform import platform\n",
    " \n",
    "print(platform())\n",
    "print(platform(1))\n",
    "print(platform(0, 1))"
   ]
  },
  {
   "cell_type": "markdown",
   "metadata": {},
   "source": [
    "## Función `machine`\n",
    "\n",
    "En ocasiones, es posible que solo se desee conocer el nombre genérico del procesador que ejecuta el sistema operativo junto con Python y el código, una función llamada `machine()` te lo dirá. Como anteriormente, la función devuelve una cadena."
   ]
  },
  {
   "cell_type": "code",
   "execution_count": 2,
   "metadata": {},
   "outputs": [
    {
     "name": "stdout",
     "output_type": "stream",
     "text": [
      "x86_64\n"
     ]
    }
   ],
   "source": [
    "from platform import machine\n",
    " \n",
    "print(machine())"
   ]
  },
  {
   "cell_type": "markdown",
   "metadata": {},
   "source": [
    "## Función `processor`\n",
    "\n",
    "La función `processor()` devuelve una cadena con el nombre real del procesador (si fuese posible)."
   ]
  },
  {
   "cell_type": "code",
   "execution_count": 3,
   "metadata": {},
   "outputs": [
    {
     "name": "stdout",
     "output_type": "stream",
     "text": [
      "x86_64\n"
     ]
    }
   ],
   "source": [
    "from platform import processor\n",
    " \n",
    "print(processor())"
   ]
  },
  {
   "cell_type": "markdown",
   "metadata": {},
   "source": [
    "## Función `system`\n",
    "\n",
    "Una función llamada `system()` devuelve el nombre genérico del sistema operativo en una cadena."
   ]
  },
  {
   "cell_type": "code",
   "execution_count": 4,
   "metadata": {},
   "outputs": [
    {
     "name": "stdout",
     "output_type": "stream",
     "text": [
      "Linux\n"
     ]
    }
   ],
   "source": [
    "from platform import system\n",
    " \n",
    "print(system())"
   ]
  },
  {
   "cell_type": "markdown",
   "metadata": {},
   "source": [
    "## Función `version`\n",
    "\n",
    "La versión del sistema operativo se proporciona como una cadena por la función `version()`."
   ]
  },
  {
   "cell_type": "code",
   "execution_count": 5,
   "metadata": {},
   "outputs": [
    {
     "name": "stdout",
     "output_type": "stream",
     "text": [
      "#49~22.04.1-Ubuntu SMP PREEMPT_DYNAMIC Wed Nov  6 17:42:15 UTC 2\n"
     ]
    }
   ],
   "source": [
    "from platform import version\n",
    " \n",
    "print(version())"
   ]
  },
  {
   "cell_type": "markdown",
   "metadata": {},
   "source": [
    "## Las funciones `python_implementation` y `python_version_tuple`\n",
    "\n",
    "Si necesitas saber que versión de Python está ejecutando tu código, puedes verificarlo utilizando una serie de funciones dedicadas, aquí hay dos de ellas:\n",
    "\n",
    "* `python_implementation()` devuelve una cadena que denota la implementación de Python (espera CPython aquí, a menos que decidas utilizar cualquier rama de Python no canónica).\n",
    "\n",
    "* `python_version_tuple()` devuelve una tupla de tres elementos la cual contiene:\n",
    "  \n",
    "    * La parte mayor de la versión de Python.\n",
    "    * La parte menor.\n",
    "    * El número del nivel de parche."
   ]
  },
  {
   "cell_type": "code",
   "execution_count": 6,
   "metadata": {},
   "outputs": [
    {
     "name": "stdout",
     "output_type": "stream",
     "text": [
      "CPython\n",
      "3\n",
      "10\n",
      "12\n"
     ]
    }
   ],
   "source": [
    "from platform import python_implementation, python_version_tuple\n",
    "\n",
    "print(python_implementation())\n",
    "\n",
    "for atr in python_version_tuple():\n",
    "    print(atr)"
   ]
  },
  {
   "cell_type": "markdown",
   "metadata": {},
   "source": [
    "## Índice de Módulos en Python\n",
    "\n",
    "Aquí solo hemos cubierto los conceptos básicos de los módulos de Python. Los módulos de Python conforman su propio universo, en el que Python es solo una galaxia, y nos aventuraríamos a decir que explorar las profundidades de estos módulos puede llevar mucho más tiempo que familiarizarse con Python “puro”.\n",
    "\n",
    "Además, la comunidad de Python en todo el mundo crea y mantiene cientos de módulos adicionales utilizados en aplicaciones muy específicas como la genética, la psicología o incluso la astronomía.\n",
    "\n",
    "Estos módulos no están (y no serán) distribuidos junto con Python, o a través de canales oficiales, lo que hace que el universo de Python sea más amplio, casi infinito.\n",
    "\n",
    "Puedes leer sobre todos los módulos estándar de Python aquí: https://docs.python.org/3/py-modindex.html."
   ]
  }
 ],
 "metadata": {
  "kernelspec": {
   "display_name": "Python 3",
   "language": "python",
   "name": "python3"
  },
  "language_info": {
   "codemirror_mode": {
    "name": "ipython",
    "version": 3
   },
   "file_extension": ".py",
   "mimetype": "text/x-python",
   "name": "python",
   "nbconvert_exporter": "python",
   "pygments_lexer": "ipython3",
   "version": "3.10.12"
  }
 },
 "nbformat": 4,
 "nbformat_minor": 2
}
