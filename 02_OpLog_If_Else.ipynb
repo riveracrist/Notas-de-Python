{
 "cells": [
  {
   "cell_type": "markdown",
   "metadata": {},
   "source": [
    "# Operadores de Comparación o Lógicos\n",
    "\n",
    "Sirven para realizar comparaciones entre dos datos o valores. El resultado obtenido es un valor booleano (True, False), ya que son comparaciones del tipo falso o verdadero.\n",
    "\n",
    "Por ejemplo, ¿es 5 mayor que 9? La respuesta será, Falso.\n",
    "\n",
    "* Igualdad `==` compara si dos valores son exactamente iguales. **No confundir con el signo igual ( = ) para asignar un valor a una variable**.\n",
    "\n",
    "* Diferente `!=` evalúa si dos valores son diferentes entre ellos.\n",
    "\n",
    "* Menor que `<` compara si un valor es menor que otro.\n",
    "\n",
    "* Mayor que `>` compara si un valor es mayor que otro.\n",
    "\n",
    "* Menor o igual que `<=` compara si un valor es menor o igual que otro.\n",
    "\n",
    "* Mayor o igual que `>=` compara si un valor es mayor o igual que otro.\n",
    "\n",
    "* Negación `not`, invierte el valor de verdad del dato. \n",
    "\n",
    "\n",
    "Si se requiere hacer múltiples comparaciones al mismo tiempo, puede hacer uso de los operadores lógicos `or` (disyunción) y `and` (conjunción).\n",
    "\n",
    "Por ejemplo, ¿es 5 mayor que 1 y mayor que 7? La respuesta será, Falso.\n",
    "\n",
    "En este caso haríamos uso del operador `and` ya que las dos comparaciones deben ser verdaderas para que la afirmación completa sea verdadera.\n",
    "\n",
    "En otro ejemplo, ¿Es 10 mayor que 5 o mayor que 13? En este caso, la respuesta es True, ya que la respuesta a la pregunta es vervadera, si 10 es mayor sólamente que alguno de los dos valores (5), más no de los dos valores (5 y 13)."
   ]
  },
  {
   "cell_type": "markdown",
   "metadata": {},
   "source": [
    "# Tablas de verdad\n",
    "\n",
    "![](tablaorandnot.webp)"
   ]
  },
  {
   "cell_type": "code",
   "execution_count": 32,
   "metadata": {},
   "outputs": [
    {
     "data": {
      "text/plain": [
       "True"
      ]
     },
     "execution_count": 32,
     "metadata": {},
     "output_type": "execute_result"
    }
   ],
   "source": [
    "5 > 3\n",
    "7 < 0\n",
    "6.8 >= 6.8\n",
    "\n",
    "\"evolucion\" == \"evolucion\"\n",
    "\"evolucion\" != \"evolución\"\n",
    "\n",
    "(5<4) and (8>2)\n",
    "\n",
    "(5<4) or (8>2)\n",
    "\n",
    "not True\n",
    "\n",
    "not False\n",
    "\n",
    "(5<4) or not(8>2)\n",
    "\n",
    "not((5<4) and (8>2))"
   ]
  },
  {
   "cell_type": "markdown",
   "metadata": {},
   "source": [
    "# Valores lógicos vs bits individuales\n",
    "\n",
    "Los operadores lógicos toman sus argumentos como un todo, independiente de cuántos bits contengan. Los operadores solo conocen el valor cero (cuando todos los bits se restablecen) lo que sginifica `False`. No cero (cuando se establece al menos un bit) lo que significa `True`.\n",
    "\n",
    "El resultado de sus operaciones es uno de estos dos valores: `False` o `True`."
   ]
  },
  {
   "cell_type": "code",
   "execution_count": 2,
   "metadata": {},
   "outputs": [
    {
     "data": {
      "text/plain": [
       "True"
      ]
     },
     "execution_count": 2,
     "metadata": {},
     "output_type": "execute_result"
    }
   ],
   "source": [
    "i = 1\n",
    "j = not not i\n",
    "j"
   ]
  },
  {
   "cell_type": "markdown",
   "metadata": {},
   "source": [
    "## Operadores bit a bit\n",
    "\n",
    "Hay cuatro operadores que permiten manipular bits de datos individuales. Se denominan operadores bit a bit.\n",
    "\n",
    "Cubren las operaciones que mencionamos anteriormente en el contexto lógico, y un operador adicional. Este es el operador `xor` (or exclusivo) y se denota como `^` signo de intercalación.\n",
    "\n",
    "Estos son los operadores:\n",
    "\n",
    "* `&` (ampersand) - conjunción a nivel de bits. Requiere exactamente dos 1 para proporcionar 1 como resultado.\n",
    "   \n",
    "* `|` (barra vertical) -  disyunción a nivel de bits. Requiere al menos un 1 para proporcionar 1 como resultado.\n",
    "  \n",
    "* `~` (virgulilla) - negación a nivel de bits.\n",
    "  \n",
    "* `^` (signo de itercalación) - or exclusivo a nivel de bits (**xor**). Requiere exactamente un 1 para proporcionar 1 como resultado.\n",
    "\n",
    "![](operqador_bit_bit.png)"
   ]
  },
  {
   "cell_type": "markdown",
   "metadata": {},
   "source": [
    "> **Los argumentos de estos operadores deben ser de tipo entero, NO debemos usar valores de tipo flotante.**"
   ]
  },
  {
   "cell_type": "markdown",
   "metadata": {},
   "source": [
    "La diferencia en el funcionamiento de los operadores lógicos y de bits es importante: los operadores lógicos no penetran en el nivel de bits de su argumento. Solo les interesa el valor entero final.\n",
    "\n",
    "Los operadores bit a bit son más estrictos: tratan con cada bit por separado. Si asumimos que la variable entera ocupa 64 bits (lo que es común en los sistemas informáticos modernos), puede imaginar la operación a nivel de bits como una evaluación de 64 veces del operador lógico para cada par de bits de los argumentos. Su analogía es obviamente imperfecta, ya que en el mundo real todas estas 64 operaciones se realizan al mismo tiempo (simultáneamente).\n"
   ]
  },
  {
   "cell_type": "markdown",
   "metadata": {},
   "source": [
    "## Operaciones Lógicas vs Operaciones de bit"
   ]
  },
  {
   "cell_type": "code",
   "execution_count": 9,
   "metadata": {},
   "outputs": [],
   "source": [
    "i = 15\n",
    "j = 22"
   ]
  },
  {
   "cell_type": "markdown",
   "metadata": {},
   "source": [
    "Si asumimos que los enteros se almacenan con 32 bits, la imagen a nivel de bits de las dos variables será la siguiente:\n",
    "\n",
    "i: 00000000000000000000000000001111\n",
    "\n",
    "j: 00000000000000000000000000010110"
   ]
  },
  {
   "cell_type": "code",
   "execution_count": 2,
   "metadata": {},
   "outputs": [
    {
     "data": {
      "text/plain": [
       "22"
      ]
     },
     "execution_count": 2,
     "metadata": {},
     "output_type": "execute_result"
    }
   ],
   "source": [
    "i = 15\n",
    "j = 22\n",
    "log = i and j\n",
    "log\n"
   ]
  },
  {
   "cell_type": "code",
   "execution_count": 3,
   "metadata": {},
   "outputs": [
    {
     "data": {
      "text/plain": [
       "int"
      ]
     },
     "execution_count": 3,
     "metadata": {},
     "output_type": "execute_result"
    }
   ],
   "source": [
    "type(log)\n"
   ]
  },
  {
   "cell_type": "markdown",
   "metadata": {},
   "source": [
    "Ahora la operación a nivel de bits:"
   ]
  },
  {
   "cell_type": "code",
   "execution_count": 4,
   "metadata": {},
   "outputs": [
    {
     "data": {
      "text/plain": [
       "6"
      ]
     },
     "execution_count": 4,
     "metadata": {},
     "output_type": "execute_result"
    }
   ],
   "source": [
    "bit = i & j\n",
    "bit"
   ]
  },
  {
   "cell_type": "markdown",
   "metadata": {},
   "source": [
    "El operador & operará con cada par de bits correspondientes por separado, produciendo los valores de los bits relevantes del resultado. Por lo tanto, el resultado será el siguiente:\n",
    "\n",
    "i = 00000000000000000000000000001111\n",
    "\n",
    "j = 00000000000000000000000000000110\n",
    "\n",
    "`bit = i & j`\n",
    "\n",
    "da como resultado:\n",
    "\n",
    "000000000000000000000000000**00110**\n",
    "\n",
    "que corresponde al número entero 6 en decimal."
   ]
  },
  {
   "cell_type": "markdown",
   "metadata": {},
   "source": [
    "El operador de negación:"
   ]
  },
  {
   "cell_type": "code",
   "execution_count": 18,
   "metadata": {},
   "outputs": [
    {
     "data": {
      "text/plain": [
       "-16"
      ]
     },
     "execution_count": 18,
     "metadata": {},
     "output_type": "execute_result"
    }
   ],
   "source": [
    "i = 15\n",
    "bitneg = ~i\n",
    "bitneg\n"
   ]
  },
  {
   "cell_type": "markdown",
   "metadata": {},
   "source": [
    "i = 00000000000000000000000000001111\n",
    "\n",
    "bitneg = 11111111111111111111111111110000\n",
    "\n",
    "Este resultado equivale al número entero -16."
   ]
  },
  {
   "cell_type": "markdown",
   "metadata": {},
   "source": [
    "Puede ser un poco sorprendente: el valor de la variable bitneg es -16. Esto puede parecer extraño, pero no lo es en absoluto. Si deseas obtener más información, debes consultar el sistema de números binarios y las reglas que rigen los números de complemento de dos."
   ]
  },
  {
   "cell_type": "markdown",
   "metadata": {},
   "source": [
    "Cada uno de estos operadores se puede usar de manera abreviada.\n",
    "\n",
    "`x = x & y` -----> `x &= y`\n",
    "\n",
    "`x = x | y` -----> `x |= y`\n",
    "\n",
    "`x = x ^ y` -----> `x ^= y`"
   ]
  },
  {
   "cell_type": "markdown",
   "metadata": {},
   "source": [
    "## ¿Cómo tratar con bits individuales?\n",
    "\n",
    "Ahora te mostraremos para que puedes usar los operadores de bit a bit. Imagina que eres un desarrollador obligado a escribir una pieza importante de un sistema operativo. Se te ha dicho que puedes usar una variable asignada de la siguiente forma:"
   ]
  },
  {
   "cell_type": "code",
   "execution_count": 10,
   "metadata": {},
   "outputs": [
    {
     "data": {
      "text/plain": [
       "4660"
      ]
     },
     "execution_count": 10,
     "metadata": {},
     "output_type": "execute_result"
    }
   ],
   "source": [
    "flag_register = 0x1234\n",
    "flag_register"
   ]
  },
  {
   "cell_type": "markdown",
   "metadata": {},
   "source": [
    "La variable almacena la información sobre varios aspectos de la operación del sistema. Cada bit de la variable almacena un valor de si/no. También se te ha dicho que solo uno de estos bits es tuyo - el tercero (recuerda que los bits se numeran desde cero y el número de bits cero es el más bajo, mientras que el más alto es el número 31). Los bits restantes no pueden cambiar, porque están destinados a almacenar otros datos. Aquí está tu bit marcado con la letra x:\n",
    "\n",
    "\n",
    "flag_register = 0000000000000000000000000000x000\n",
    "\n",
    "\n",
    "Es posible que tengas que hacer frente a las siguientes tareas:\n",
    "\n",
    "1. Comprobar el estado de tu bit - deseas averiguar el valor de su bit; comparar la variable completa con cero no hará nada, porque los bits restantes pueden tener valores completamente impredecibles, pero puedes usar la siguiente propiedad de conjunción:\n",
    "\n",
    "x & 1 = x\n",
    "\n",
    "x & 0 = 0\n",
    "\n",
    "Si aplicas la operación & a la variable flag_register junto con la siguiente imagen de bits:\n",
    "\n",
    "00000000000000000000000000001000\n",
    "\n",
    "(observa el 1 en la posición de tu bit) como resultado, obtendrás una de las siguientes cadenas de bits:\n",
    "\n",
    "* 00000000000000000000000000001000 si tu bit se estableció en 1.\n",
    "\n",
    "* 00000000000000000000000000000000 si tu bit se reseteo a 0.\n",
    "\n",
    "Dicha secuencia de ceros y unos, cuya tarea es tomar el valor o cambiar los bits seleccionados, se denomina máscara de bits."
   ]
  },
  {
   "cell_type": "markdown",
   "metadata": {},
   "source": [
    "Dicha secuencia de ceros y unos, cuya tarea es tomar el valor o cambiar los bits seleccionados, se denomina máscara de bits.\n",
    "\n",
    "Construyamos una máscara de bits para detectar el estado de tus bits. Debería apuntar a el tercer bit. Ese bit tiene el peso de 2³ = 8. Se podría crear una máscara adecuada mediante la siguiente sentencia:"
   ]
  },
  {
   "cell_type": "code",
   "execution_count": null,
   "metadata": {},
   "outputs": [],
   "source": [
    "mascara = 8"
   ]
  },
  {
   "cell_type": "markdown",
   "metadata": {},
   "source": [
    "También puedes hacer una secuencia de instrucciones dependiendo del estado de tu bit, aquí está:\n",
    "\n",
    "```\n",
    "if flag_register & the_mask:\n",
    "    # Mi bit se estableció en 1.\n",
    "else:\n",
    "    # Mi bit se restableció a 0.\n",
    "```"
   ]
  },
  {
   "cell_type": "markdown",
   "metadata": {},
   "source": [
    "2. Reinicia tu bit\n",
    "asigna un cero al bit, mientras que todos los otros bits deben permanecer sin cambios; usemos la misma propiedad de la conjunción que antes, pero usemos una máscara ligeramente diferente - exactamente como se muestra a continuación:\n",
    "\n",
    "11111111111111111111111111110111\n",
    "\n",
    "\n",
    "Toma en cuenta que la máscara se creó como resultado de la negación de todos los bits de la variable the_mask. Restablecer el bit es simple, y se ve así (elige el que más te guste):\n",
    "\n",
    "\n",
    "```\n",
    "flag_register = flag_register & ~the_mask\n",
    "flag_register &= ~the_mask\n",
    "```"
   ]
  },
  {
   "cell_type": "markdown",
   "metadata": {},
   "source": [
    "3. Establece tu bit\n",
    "asigna un 1 a tu bit, mientras que todos los bits restantes deben permanecer sin cambios; usa la siguiente propiedad de disyunción:\n",
    "\n",
    "x | 1 = 1\n",
    "\n",
    "x | 0 = x\n",
    "\n",
    "\n",
    "Ya estás listo para configurar su bit con una de las siguientes instrucciones:\n",
    "\n",
    "flag_register = flag_register | the_mask\n",
    "flag_register |= the_mask"
   ]
  },
  {
   "cell_type": "markdown",
   "metadata": {},
   "source": [
    "4. Niega tu bit\n",
    "\n",
    "reemplaza un 1 con un 0 y un 0 con un 1. Puedes utilizar una propiedad interesante del operador ~x:\n",
    "\n",
    "x ^ 1 = ~x\n",
    "\n",
    "x ^ 0 = x\n",
    "\n",
    "Niega tu bit con las siguientes instrucciones:\n",
    "\n",
    "flag_register = flag_register ^ the_mask\n",
    "flag_register ^= the_mask"
   ]
  },
  {
   "cell_type": "markdown",
   "metadata": {},
   "source": [
    "## Desplazamiento Binario a la Izquierda y Desplazamiento Binario a la Derecha.\n",
    "\n",
    "Python ofrece otra operación relacionada con los bits individuales: shifting. Esto se aplica solo a los valores de número entero, y no debe usar flotantes como argumentos para ello.\n",
    "\n",
    "Ya aplicas esta operación muy a menudo y muy inconscientemente. ¿Cómo multiplicas cualquier número por diez? Echa un vistazo:\n",
    "\n",
    "12345 × 10 = 123450\n",
    "\n",
    "Como puede ver, multiplicar por diez es de hecho un desplazamiento de todos los dígitos a la izquierda y llenar el vacío resultante con cero.\n",
    "\n",
    "¿División entre diez? Echa un vistazo:\n",
    "\n",
    "12340 ÷ 10 = 1234\n",
    "\n",
    "Dividir entre diez no es más que desplazar los dígitos a la derecha.\n",
    "\n",
    "La computadora realiza el mismo tipo de operación, pero con una diferencia: como dos es la base para los números binarios (no 10), desplazar un valor un bit a la izquierda corresponde a multiplicarlo por dos; respectivamente, desplazar un bit a la derecha es como dividir entre dos (observa que se pierde el bit más a la derecha).\n",
    "\n",
    "Los operadores de cambio en Python son un par de dígrafos: < < y > >, sugiriendo claramente en qué dirección actuará el cambio.\n",
    "\n",
    "\n",
    "valor << bits\n",
    "\n",
    "valor >> bits\n",
    "\n",
    "\n",
    "El argumento izquierdo de estos operadores es un valor entero cuyos bits se desplazan. El argumento correcto determina el tamaño del desplazamiento.\n",
    "\n",
    "Esto demuestra que esta operación ciertamente no es conmutativa\n",
    "\n",
    "La prioridad de estos operadores es muy alta. Los verás en la tabla de prioridades actualizada, que te mostraremos al final de esta sección.\n",
    "\n",
    "Echa un vistazo a los turnos en la ventana del editor."
   ]
  },
  {
   "cell_type": "code",
   "execution_count": 13,
   "metadata": {},
   "outputs": [
    {
     "name": "stdout",
     "output_type": "stream",
     "text": [
      "17 68 8\n"
     ]
    }
   ],
   "source": [
    "var = 17\n",
    "var_right = var >> 1\n",
    "var_left = var << 2\n",
    "print(var, var_left, var_right)"
   ]
  },
  {
   "cell_type": "markdown",
   "metadata": {},
   "source": [
    "* 17 >> 1 → 17 // 2 (17 dividido entre 2 a la potencia de 1) → 8 (desplazarse hacia la derecha en un bit equivale a la división entera entre dos)\n",
    "\n",
    "* 17 << 2 → 17 * 4 (17 multiplicado por 2 a la potencia de 2) → 68 (desplazarse hacia la izquierda dos bits es lo mismo que multiplicar números enteros por cuatro)"
   ]
  },
  {
   "cell_type": "markdown",
   "metadata": {},
   "source": [
    "## Ejemplos"
   ]
  },
  {
   "cell_type": "code",
   "execution_count": 5,
   "metadata": {},
   "outputs": [
    {
     "name": "stdout",
     "output_type": "stream",
     "text": [
      "0 5 -5 1 1 16\n"
     ]
    }
   ],
   "source": [
    "x = 4\n",
    "y = 1\n",
    " \n",
    "a = x & y\n",
    "b = x | y\n",
    "c = ~x  # ¡difícil!\n",
    "d = x ^ 5\n",
    "e = x >> 2\n",
    "f = x << 2\n",
    " \n",
    "print(a, b, c, d, e, f)"
   ]
  },
  {
   "cell_type": "markdown",
   "metadata": {},
   "source": [
    "# Condicionales `if`, `elif`  y `else`\n",
    "\n",
    "Estas estructuras de código convierten los datos en programas. Se conocen como *Condicionales.*\n",
    "\n",
    "`if` `else` son sentencias de Python que verifican si una condición es cierta o falsa (True, Flase), o puede ser evaluada como True. Permite hacer comparación entre dos valores.\n",
    "\n",
    "La sentencia if se puede leer como, **\"sí tal cosa ...\"**\n",
    "\n",
    "La sentencia else se puede leer como, **\"de lo contrario ...\"**\n",
    "\n",
    "## `input()`\n",
    "\n",
    "Permite capturar datos o información que el usuario ingrese. Por ejemplo un programa que le indica al usuario que ingrese el peso y la altura para calcular el IMC.\n",
    "\n",
    "Toda la información ingresada por el usuario, Python la toma como un string (cadena de caracteres).\n",
    "\n",
    "## `print()`\n",
    "\n",
    "Sirve para presentar cualquier tipo de información en pantalla. Además, permite concatenar datos para que sean mostrados, como por ejemplo un string con una variable. Esta concatenación se puede realizar separando cada argumento con una coma ( , ) o se pueden concatenar con el uso del signo más ( + )."
   ]
  },
  {
   "cell_type": "code",
   "execution_count": 7,
   "metadata": {},
   "outputs": [
    {
     "name": "stdout",
     "output_type": "stream",
     "text": [
      "El jugo de kiwi es muy delicioso.\n",
      "El jugo de kiwi es muy delicioso.\n"
     ]
    }
   ],
   "source": [
    "fruta = \"kiwi\"\n",
    "print(\"El jugo de\", fruta, \"es muy delicioso.\") # agrega espacios por defecto\n",
    "print(\"El jugo de \" + fruta + \" es muy delicioso.\") # se deben agregar espacios de manera explícita"
   ]
  },
  {
   "cell_type": "code",
   "execution_count": 8,
   "metadata": {},
   "outputs": [
    {
     "name": "stdout",
     "output_type": "stream",
     "text": [
      "Algo anda mal.\n"
     ]
    }
   ],
   "source": [
    "desastre = True\n",
    "\n",
    "if desastre:\n",
    "    print(\"Algo anda mal.\")\n",
    "else:\n",
    "    print(\"Todo está bien.\")\n",
    "    "
   ]
  },
  {
   "cell_type": "markdown",
   "metadata": {},
   "source": [
    "> En el código anterior la sentencia if evalúa por defecto si desastre es True, en efecto como la varibale desastre tiene asignado el valor de True, se ejecuta la línea de código siguiente."
   ]
  },
  {
   "cell_type": "code",
   "execution_count": 3,
   "metadata": {},
   "outputs": [
    {
     "name": "stdout",
     "output_type": "stream",
     "text": [
      "Todo está bien.\n"
     ]
    }
   ],
   "source": [
    "desastre = False\n",
    "\n",
    "if desastre:\n",
    "    print(\"Algo anda mal.\")\n",
    "else:\n",
    "    print(\"Todo está bien.\")"
   ]
  },
  {
   "cell_type": "markdown",
   "metadata": {},
   "source": [
    "> Note que el renglón o fila que contiene la sentencia if o else, finaliza con dos puntos ( : ). Esta es la sintáxis que se debe seguir para ejecutar estas sentencias, de lo contrario Python arroja un error de sintáxis.\n",
    "> "
   ]
  },
  {
   "cell_type": "markdown",
   "metadata": {},
   "source": [
    "## Indentación o Sangrado\n",
    "\n",
    "La Indentación es un anglicismo de uso común en informática; no es un término reconocido por la Real Academia Española. La Real Academia recomienda utilizar sangrado. (Wikipedia).\n",
    "\n",
    "La indentación es la técnica de agregar espacios al principio de las líneas de código para delimitar los bloques y estructuras. \n",
    "\n",
    "Esto es de suma importancia en Python ya que si la identación no define bien cada bloque de código de una sentencia, como por ejemplo la sentencia if, Python arroja un error debido a que la indentación no es la adecuada. El código no se ejecutará hasta que se haya escrito de manera correcta.\n",
    "\n",
    "Así para el caso anterior, la sentencia else tiene el mismo espaciado que la sentencia if ya que ésta, forma parte del cierre de este bloque de código. Por otra parte las líneas de código que siguen a estas sentencias tienen un espaciado adicional que indican que se encuentran en el bloque de ejecución de cada una de las sentencias."
   ]
  },
  {
   "cell_type": "markdown",
   "metadata": {},
   "source": [
    "## Condicionales Anidados `elif`\n",
    "\n",
    "Es posible tener múltiples condicionales dentro de otros condicionales, a esto se le conoce como condicionales anidados. Se presenta cuando existen más de dos posibilidades a evaluar.\n",
    "\n",
    "En este caso se puede hacer uso de otra sentencia conocida como `elif` que es algo así como la unión entre un `else` y un `if` y hará exactamente lo mismo que estas dos sentencias.\n",
    "\n",
    "Se puede leer como **\"De lo contrario, sí tal cosa ...\"**\n",
    "\n",
    "Si existen más de dos opciones para evaluar, haremos uso de `if` para dar inicio o apertura a la comparación, `elif` para evaluar las condiciones intermedias y finalmente para dar cierre, usaremos `else` para la última opción.\n",
    "\n",
    "Al igual que las sentencias if y else, la línea que contiene la sentencia finaliza con dos puntos ( : ). De lo contrario Python arroja un error de sitáxis."
   ]
  },
  {
   "cell_type": "code",
   "execution_count": 4,
   "metadata": {},
   "outputs": [
    {
     "name": "stdout",
     "output_type": "stream",
     "text": [
      "No había escuchado el color magenta\n"
     ]
    }
   ],
   "source": [
    "color = \"magenta\"\n",
    "\n",
    "if color == \"Rojo\":\n",
    "    print(\"Es una manzana.\")\n",
    "elif color == \"verde\":\n",
    "    print(\"Es una pera.\")\n",
    "elif color == \"Naranjado\":\n",
    "    print(\"Es una zanahoria.\")\n",
    "else:\n",
    "    print(\"No había escuchado el color\", color)"
   ]
  },
  {
   "cell_type": "code",
   "execution_count": 17,
   "metadata": {},
   "outputs": [
    {
     "name": "stdout",
     "output_type": "stream",
     "text": [
      "Tienen la misma altura 1.53 cm\n"
     ]
    }
   ],
   "source": [
    "altura1 = 1.53\n",
    "altura2 = 1.53\n",
    "\n",
    "if altura1 > altura2:\n",
    "    print(\"El más alto mide\", altura1, \"cm\")\n",
    "elif altura1 < altura2:\n",
    "    print(\"El más alto mide\", altura2, \"cm\")\n",
    "elif altura1 == altura2:\n",
    "    print(\"Tienen la misma altura\", altura1, \"cm\")\n"
   ]
  },
  {
   "cell_type": "code",
   "execution_count": 18,
   "metadata": {},
   "outputs": [
    {
     "name": "stdout",
     "output_type": "stream",
     "text": [
      "Tienen la misma altura 1.53 cm\n"
     ]
    }
   ],
   "source": [
    "altura1 = 1.53\n",
    "altura2 = 1.53\n",
    "\n",
    "if altura1 > altura2:\n",
    "    print(\"El más alto mide\", altura1, \"cm\")\n",
    "elif altura1 < altura2:\n",
    "    print(\"El más alto mide\", altura2, \"cm\")\n",
    "else:\n",
    "    print(\"Tienen la misma altura\", altura1, \"cm\")"
   ]
  },
  {
   "cell_type": "code",
   "execution_count": 9,
   "metadata": {},
   "outputs": [
    {
     "name": "stdout",
     "output_type": "stream",
     "text": [
      "El más alto mide 1.55 cm\n"
     ]
    }
   ],
   "source": [
    "altura1 = 1.53\n",
    "altura2 = 1.55\n",
    "\n",
    "if altura1 > altura2:\n",
    "    print(\"El más alto mide\", altura1, \"cm\")\n",
    "elif altura1 < altura2:\n",
    "    print(\"El más alto mide\", altura2, \"cm\")\n",
    "else:\n",
    "    print(\"Tienen la misma altura\", altura1, \"cm\")"
   ]
  },
  {
   "cell_type": "markdown",
   "metadata": {},
   "source": [
    "## ¿Qué resultados son True?\n",
    "\n",
    "Si un elemento que estamos comparando no es boleano, ¿qué considera Python como True o False?\n",
    "\n",
    "Un valor False, no necesariamente requiere de manera explícita ser un False. Por ejemplo, los siguientes elementos se consideran False:\n",
    "\n",
    "* boolean = False\n",
    "\n",
    "* null = None\n",
    "\n",
    "* Cero entero = 0\n",
    "\n",
    "* Cero flotante = 0.0\n",
    "\n",
    "* String vacío = \"\"\n",
    "\n",
    "* Lista vacía = [] \n",
    "\n",
    "* Tupla vacía = ()\n",
    "\n",
    "* Diccionario vacío = {}\n",
    "\n",
    "* Conjunto vacío = set()"
   ]
  },
  {
   "cell_type": "markdown",
   "metadata": {},
   "source": [
    "# Operador `in`\n",
    "\n",
    "Para hacer múltiples comparaciones.\n",
    "\n",
    "En el caso de que se requiera realizar varias comparaciones mediante el operador `or`, puede optar por el uso de el operador `in` para evitar hacer la comparación una a una.\n",
    "\n",
    "Por ejemplo si requiere saber si una letra está contenida en un string que contiene sólo las vocales. Si se hiciera con el operador `or` tendría que comparar cada una de las vocales con la letra que se desea evaluar."
   ]
  },
  {
   "cell_type": "code",
   "execution_count": 13,
   "metadata": {},
   "outputs": [
    {
     "name": "stdout",
     "output_type": "stream",
     "text": [
      "El caracter e es una vocal.\n"
     ]
    }
   ],
   "source": [
    "# usando el operador in\n",
    "\n",
    "vocales = \"aeiouAEIOU\"\n",
    "letra = \"e\"\n",
    "\n",
    "if letra in vocales:\n",
    "    print(\"El caracter\", letra, \"es una vocal.\")\n",
    "else:\n",
    "    print(\"El caracter\", letra, \"no es una vocal.\")"
   ]
  },
  {
   "cell_type": "code",
   "execution_count": 4,
   "metadata": {},
   "outputs": [
    {
     "name": "stdout",
     "output_type": "stream",
     "text": [
      "El caracter e es una vocal.\n"
     ]
    }
   ],
   "source": [
    "# usando el operador or\n",
    "\n",
    "letra = \"e\"\n",
    "\n",
    "if letra == \"a\" or letra == \"e\" or letra == \"i\" or letra == \"o\" or letra == \"u\":\n",
    "    print(\"El caracter\", letra, \"es una vocal.\")\n",
    "else:\n",
    "    print(\"El caracter\", letra, \"no es una vocal.\")"
   ]
  },
  {
   "cell_type": "markdown",
   "metadata": {},
   "source": [
    "El operador `in` funciona de igual manera si la variable es una lista, un conjunto, un diccionario o una tupla. Imagine que debe comprobar si un dato se encuentra contenido dentro de una lista que tiene miles de datos, hacerlo con el comparador `or` tomaría tal vez cientos de líneas de código y un tiempo considerable para escribirlas."
   ]
  },
  {
   "cell_type": "markdown",
   "metadata": {},
   "source": [
    "# Operador Walrus o Morsa `:=`"
   ]
  },
  {
   "cell_type": "markdown",
   "metadata": {},
   "source": [
    "Su nombre se debe a que su forma se asemeja a la forma de una morsa. Oficialmente este operador se conoce como *Operador de Expresión de Asignación*.\n",
    "\n",
    "Permite realizar una operación y al mismo tiempo asignar el resultado a una variable.\n",
    "\n",
    "![](morsa.jpg)"
   ]
  },
  {
   "cell_type": "code",
   "execution_count": 14,
   "metadata": {},
   "outputs": [
    {
     "name": "stdout",
     "output_type": "stream",
     "text": [
      " No se recuperó la inversión.\n"
     ]
    }
   ],
   "source": [
    "# usando el operador \"morsa\"\n",
    "\n",
    "inversion = 280\n",
    "\n",
    "ventas = 100\n",
    "\n",
    "if ganancia := (ventas - inversion) <= 0:\n",
    "    print(\" No se recuperó la inversión.\")\n",
    "else:\n",
    "    print(\"La ganancia fué de:\", ganancia)"
   ]
  },
  {
   "cell_type": "code",
   "execution_count": 6,
   "metadata": {},
   "outputs": [
    {
     "name": "stdout",
     "output_type": "stream",
     "text": [
      " No se recuperó la inversión.\n"
     ]
    }
   ],
   "source": [
    "# no se usa el operador \"morsa\"\n",
    "\n",
    "inversion = 280\n",
    "ventas = 100\n",
    "\n",
    "ganancia = ventas - inversion\n",
    "\n",
    "if ganancia <= 0:\n",
    "    print(\" No se recuperó la inversión.\")\n",
    "else:\n",
    "    print(\"La ganancia fué de:\", ganancia)"
   ]
  },
  {
   "cell_type": "markdown",
   "metadata": {},
   "source": [
    "En los fragmentos de código anteriores, podemos ver que el uso del operador `:=` permite definir la variable `ganancia` al resultado de la operación `ventas - inversion` y de la comparación para evaular si es menor o igual que cero `ganancia <= 0`. Simplifica en una línea la comparación y la asignación del valor obtenido."
   ]
  }
 ],
 "metadata": {
  "kernelspec": {
   "display_name": "Python 3",
   "language": "python",
   "name": "python3"
  },
  "language_info": {
   "codemirror_mode": {
    "name": "ipython",
    "version": 3
   },
   "file_extension": ".py",
   "mimetype": "text/x-python",
   "name": "python",
   "nbconvert_exporter": "python",
   "pygments_lexer": "ipython3",
   "version": "3.10.12"
  }
 },
 "nbformat": 4,
 "nbformat_minor": 2
}
