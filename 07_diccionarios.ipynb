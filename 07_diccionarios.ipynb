{
 "cells": [
  {
   "cell_type": "markdown",
   "metadata": {},
   "source": [
    "# Diccionarios\n",
    "\n",
    "Es una estructura de datos que almacena pares de valores del tipo `clave : valor`, donde la clave (también se le conoce como key o llave) es única y está asociada a un valor determinado.\n",
    "\n",
    "Un diccionario es similar a una lista, pero el orden de los elementos no importa, y no se seleccionan por un desplazamiento como 0 o 1 o mediante índices. En su lugar, se especifica una clave (key) única asociada a cada valor. Esta clave suele ser una cadena, pero en realidad puede ser cualquiera de los tipos inmutables de Python: boolean, integer, float, tuple, string, entre otros (**Las listas son el único objeto que no pueden ser usado como clave dentro de un diccionario.**). Los diccionarios son mutables, por lo que puedes añadir, borrar y cambiar sus elementos clave-valor.\n",
    "\n",
    "Esta estructura de datos puede albergar cualquier tipo de dato (excepto listas como clave), tanto en las claves como en los valores.\n",
    "\n",
    "Estas características hacen a los diccionarios especialmente útiles para almacenar y recuperar información de manera eficiente.\n",
    "\n",
    "\n",
    "\n",
    "Para crear un diccionario, se usan las llaves `{ }` alrededor de pares clave : valor separados por comas.\n"
   ]
  },
  {
   "cell_type": "code",
   "execution_count": 1,
   "metadata": {},
   "outputs": [
    {
     "data": {
      "text/plain": [
       "dict"
      ]
     },
     "execution_count": 1,
     "metadata": {},
     "output_type": "execute_result"
    }
   ],
   "source": [
    "# diccionario vacío\n",
    "\n",
    "diccio = {}\n",
    "\n",
    "type(diccio)"
   ]
  },
  {
   "cell_type": "code",
   "execution_count": 2,
   "metadata": {},
   "outputs": [
    {
     "data": {
      "text/plain": [
       "{'Nombre': 'Karla', 'Documento': 123456, 'Ciudad': 'Florencia'}"
      ]
     },
     "execution_count": 2,
     "metadata": {},
     "output_type": "execute_result"
    }
   ],
   "source": [
    "empleados = {\"Nombre\" : \"Karla\",\n",
    "             \"Documento\" : 123456,\n",
    "             \"Ciudad\" : \"Florencia\"}\n",
    "\n",
    "empleados"
   ]
  },
  {
   "cell_type": "markdown",
   "metadata": {},
   "source": [
    "## Crear diccionario con `dict()`"
   ]
  },
  {
   "cell_type": "code",
   "execution_count": 5,
   "metadata": {},
   "outputs": [
    {
     "data": {
      "text/plain": [
       "{'Cálculo': 'AM9324', 'Álgebra': 'AM0978', 'Informática': 'AI4544'}"
      ]
     },
     "execution_count": 5,
     "metadata": {},
     "output_type": "execute_result"
    }
   ],
   "source": [
    "materias = dict(Cálculo = \"AM9324\",\n",
    "                Álgebra = \"AM0978\",\n",
    "                Informática = \"AI4544\")\n",
    "\n",
    "materias"
   ]
  },
  {
   "cell_type": "markdown",
   "metadata": {},
   "source": [
    "> Note la diferencia al crear los diccionarios con la función `dict()`, las claves no requieren ser definidas con comillas dobles en el caso de los string y los valores se asocian con el signo igual `=`. En este caso, se debe tener en cuenta que la palabras reservadas no pueden ser usadas como clave."
   ]
  },
  {
   "cell_type": "code",
   "execution_count": 3,
   "metadata": {},
   "outputs": [
    {
     "ename": "SyntaxError",
     "evalue": "invalid syntax (1866121291.py, line 3)",
     "output_type": "error",
     "traceback": [
      "\u001b[0;36m  Cell \u001b[0;32mIn[3], line 3\u001b[0;36m\u001b[0m\n\u001b[0;31m    def = \"AI4544\")\u001b[0m\n\u001b[0m    ^\u001b[0m\n\u001b[0;31mSyntaxError\u001b[0m\u001b[0;31m:\u001b[0m invalid syntax\n"
     ]
    }
   ],
   "source": [
    "materias = dict(Cálculo = \"AM9324\",\n",
    "                Álgebra = \"AM0978\",\n",
    "                def = \"AI4544\") # palabra reservada def"
   ]
  },
  {
   "cell_type": "markdown",
   "metadata": {},
   "source": [
    "## Convertir con `dict()`\n",
    "\n",
    "También puede utilizar la función `dict()` para convertir secuencias de dos valores en un diccionario. \n",
    "\n",
    "A veces puede encontrarse con este tipo de secuencias clave-valor, como \"Estroncio, 90, Carbono, 14\". El primer elemento de cada secuencia se utiliza como clave y el segundo como valor."
   ]
  },
  {
   "cell_type": "code",
   "execution_count": 4,
   "metadata": {},
   "outputs": [
    {
     "data": {
      "text/plain": [
       "{'Estroncio': 90, 'Carbono': 14, 'Oxígeno': 8}"
      ]
     },
     "execution_count": 4,
     "metadata": {},
     "output_type": "execute_result"
    }
   ],
   "source": [
    "# Covirtiendo lista de dos elementos en diccionario\n",
    "elementos = [[\"Estroncio\", 90], [\"Carbono\", 14], [\"Oxígeno\", 8]]\n",
    "dict(elementos)\n"
   ]
  },
  {
   "cell_type": "code",
   "execution_count": 5,
   "metadata": {},
   "outputs": [
    {
     "data": {
      "text/plain": [
       "{'Estroncio': 90, 'Carbono': 14, 'Oxígeno': 8}"
      ]
     },
     "execution_count": 5,
     "metadata": {},
     "output_type": "execute_result"
    }
   ],
   "source": [
    "# Convirtiendo una lista de tuplas en diccionario\n",
    "elementos = [(\"Estroncio\", 90), (\"Carbono\", 14), (\"Oxígeno\", 8)]\n",
    "dict(elementos)"
   ]
  },
  {
   "cell_type": "code",
   "execution_count": 6,
   "metadata": {},
   "outputs": [
    {
     "data": {
      "text/plain": [
       "{'a': 'b', 'c': 'd', 'e': 'f'}"
      ]
     },
     "execution_count": 6,
     "metadata": {},
     "output_type": "execute_result"
    }
   ],
   "source": [
    "# Convertir una tupla de listas en diccionario\n",
    "tol = ( ['a', 'b'], ['c', 'd'], ['e', 'f'] )\n",
    "dict(tol)"
   ]
  },
  {
   "cell_type": "code",
   "execution_count": 7,
   "metadata": {},
   "outputs": [
    {
     "data": {
      "text/plain": [
       "{'a': 'b', 'c': 'd', 'e': 'f'}"
      ]
     },
     "execution_count": 7,
     "metadata": {},
     "output_type": "execute_result"
    }
   ],
   "source": [
    "# Una lista de caracteres consecutivos\n",
    "los = [ 'ab', 'cd', 'ef' ]\n",
    "dict(los)"
   ]
  },
  {
   "cell_type": "code",
   "execution_count": 8,
   "metadata": {},
   "outputs": [
    {
     "data": {
      "text/plain": [
       "{'a': 'b', 'c': 'd', 'e': 'f'}"
      ]
     },
     "execution_count": 8,
     "metadata": {},
     "output_type": "execute_result"
    }
   ],
   "source": [
    "# Convertir una tupla de caracteres consecutivos\n",
    "tos = ( 'ab', 'cd', 'ef' )\n",
    "dict(tos)"
   ]
  },
  {
   "cell_type": "markdown",
   "metadata": {},
   "source": [
    "## Agregar o Cambiar un elemento mediante `[key]`\n",
    "\n",
    "Agregar un elemento a un diccionario es una tarea simple, sólo es necesario acceder al elemento mediante su clave (key) y asignar el valor deseado. Si la clave ya está presente en el diccionario, el valor existente es reemplazado por el nuevo valor. Si la clave es una clave nueva, esta se agrega al diccionario con su respectivo valor.\n",
    "\n",
    "A diferencia de las listas no tienes que preocuparte de que Python lance una excepción durante la asignación al especificar un índice que está fuera de rango."
   ]
  },
  {
   "cell_type": "code",
   "execution_count": 9,
   "metadata": {},
   "outputs": [
    {
     "data": {
      "text/plain": [
       "{'Suiza': 'Berna',\n",
       " 'Colombia': 'Bogotá',\n",
       " 'Francia': 'París',\n",
       " 'España': 'Madrid'}"
      ]
     },
     "execution_count": 9,
     "metadata": {},
     "output_type": "execute_result"
    }
   ],
   "source": [
    "ciudades = {\"Suiza\": \"Berna\",\n",
    "               \"Colombia\": \"Bogotá\",\n",
    "               \"Francia\": \"París\"}\n",
    "\n",
    "# Agregar un nuevo elemento\n",
    "ciudades[\"España\"] = \"Alicante\"\n",
    "ciudades\n",
    "\n",
    "# Corregir un elemento\n",
    "ciudades[\"España\"] = \"Madrid\"\n",
    "ciudades"
   ]
  },
  {
   "cell_type": "markdown",
   "metadata": {},
   "source": [
    "> Las claves de los diccionarios son únicas y no se pueden repetir. Si usas más de una vez una clave, el último valor asignado a esa clave será el valor de esa clave."
   ]
  },
  {
   "cell_type": "markdown",
   "metadata": {},
   "source": [
    "## Accede a los elementos mediante `[key]` o con `get()`\n",
    "\n",
    "Para acceder al valor de una clave en particular se accede mediante el nombre de la clave dentro de corchetes. Si la clave no se encuentra en el diccionario, Python arroja un error."
   ]
  },
  {
   "cell_type": "code",
   "execution_count": 20,
   "metadata": {},
   "outputs": [
    {
     "data": {
      "text/plain": [
       "'París'"
      ]
     },
     "execution_count": 20,
     "metadata": {},
     "output_type": "execute_result"
    }
   ],
   "source": [
    "capitales = {'Suiza': 'Berna',\n",
    " 'Colombia': 'Bogotá',\n",
    " 'Francia': 'París',\n",
    " 'España': 'Madrid'}\n",
    "\n",
    "capitales[\"Francia\"]"
   ]
  },
  {
   "cell_type": "code",
   "execution_count": 1,
   "metadata": {},
   "outputs": [
    {
     "ename": "NameError",
     "evalue": "name 'capitales' is not defined",
     "output_type": "error",
     "traceback": [
      "\u001b[0;31m---------------------------------------------------------------------------\u001b[0m",
      "\u001b[0;31mNameError\u001b[0m                                 Traceback (most recent call last)",
      "Cell \u001b[0;32mIn[1], line 1\u001b[0m\n\u001b[0;32m----> 1\u001b[0m \u001b[43mcapitales\u001b[49m[\u001b[38;5;124m\"\u001b[39m\u001b[38;5;124mPolonia\u001b[39m\u001b[38;5;124m\"\u001b[39m]\n",
      "\u001b[0;31mNameError\u001b[0m: name 'capitales' is not defined"
     ]
    }
   ],
   "source": [
    "capitales[\"Polonia\"]"
   ]
  },
  {
   "cell_type": "markdown",
   "metadata": {},
   "source": [
    "Para validar si una llave se encuentra dentro de un diccionario:"
   ]
  },
  {
   "cell_type": "code",
   "execution_count": 2,
   "metadata": {},
   "outputs": [
    {
     "data": {
      "text/plain": [
       "False"
      ]
     },
     "execution_count": 2,
     "metadata": {},
     "output_type": "execute_result"
    }
   ],
   "source": [
    "capitales = {'Suiza': 'Berna',\n",
    " 'Colombia': 'Bogotá',\n",
    " 'Francia': 'París',\n",
    " 'España': 'Madrid'}\n",
    "\n",
    "\"Polonia\" in capitales"
   ]
  },
  {
   "cell_type": "markdown",
   "metadata": {},
   "source": [
    "También es posible acceder al valor de la llave mediante la función `get()`."
   ]
  },
  {
   "cell_type": "code",
   "execution_count": 3,
   "metadata": {},
   "outputs": [
    {
     "data": {
      "text/plain": [
       "'Bogotá'"
      ]
     },
     "execution_count": 3,
     "metadata": {},
     "output_type": "execute_result"
    }
   ],
   "source": [
    "capitales.get(\"Colombia\")"
   ]
  },
  {
   "cell_type": "markdown",
   "metadata": {},
   "source": [
    "Si la llave no se encuentra en el diccionario, se obtiene `None` o en el resultado del intérprete no se muestra nada."
   ]
  },
  {
   "cell_type": "code",
   "execution_count": 4,
   "metadata": {},
   "outputs": [],
   "source": [
    "capitales.get(\"Polonia\")"
   ]
  },
  {
   "cell_type": "markdown",
   "metadata": {},
   "source": [
    "Otra forma para indicar si la llave no se encuentra en el diccionario, es mediante el segundo argumento de la función `get()`, en el cual podemos escribir un mensaje explícito."
   ]
  },
  {
   "cell_type": "code",
   "execution_count": 7,
   "metadata": {},
   "outputs": [
    {
     "data": {
      "text/plain": [
       "'No está'"
      ]
     },
     "execution_count": 7,
     "metadata": {},
     "output_type": "execute_result"
    }
   ],
   "source": [
    "capitales.get(\"Polonia\", \"No está\")"
   ]
  },
  {
   "cell_type": "markdown",
   "metadata": {},
   "source": [
    "## Obtener todas las Claves de el diccionario con `keys()`\n",
    "\n",
    "Con esta función obtenemos todas las claves del diccionario."
   ]
  },
  {
   "cell_type": "code",
   "execution_count": 29,
   "metadata": {},
   "outputs": [
    {
     "data": {
      "text/plain": [
       "dict_keys(['Suiza', 'Colombia', 'Francia', 'España'])"
      ]
     },
     "execution_count": 29,
     "metadata": {},
     "output_type": "execute_result"
    }
   ],
   "source": [
    "capitales = {'Suiza': 'Berna',\n",
    " 'Colombia': 'Bogotá',\n",
    " 'Francia': 'París',\n",
    " 'España': 'Madrid'}\n",
    "\n",
    "capitales.keys()"
   ]
  },
  {
   "cell_type": "markdown",
   "metadata": {},
   "source": [
    "`dict_keys` es una lista iterable de las llaves, esta es una forma práctica cuando se tienen diccionarios muy grandes porque de esta manera no se usa tiempo y memoria para crear y almacenar una lista que posiblemente no se vaya a usar.\n",
    "\n",
    "Pero también es posible obtener las llaves del diccionario en una lista:"
   ]
  },
  {
   "cell_type": "code",
   "execution_count": 31,
   "metadata": {},
   "outputs": [
    {
     "data": {
      "text/plain": [
       "['Suiza', 'Colombia', 'Francia', 'España']"
      ]
     },
     "execution_count": 31,
     "metadata": {},
     "output_type": "execute_result"
    }
   ],
   "source": [
    "capitales = {'Suiza': 'Berna',\n",
    " 'Colombia': 'Bogotá',\n",
    " 'Francia': 'París',\n",
    " 'España': 'Madrid'}\n",
    "\n",
    "list(capitales.keys())"
   ]
  },
  {
   "cell_type": "markdown",
   "metadata": {},
   "source": [
    "## Obtener todos los valores del diccionario `values()`"
   ]
  },
  {
   "cell_type": "code",
   "execution_count": 32,
   "metadata": {},
   "outputs": [
    {
     "data": {
      "text/plain": [
       "['Berna', 'Bogotá', 'París', 'Madrid']"
      ]
     },
     "execution_count": 32,
     "metadata": {},
     "output_type": "execute_result"
    }
   ],
   "source": [
    "capitales = {'Suiza': 'Berna',\n",
    " 'Colombia': 'Bogotá',\n",
    " 'Francia': 'París',\n",
    " 'España': 'Madrid'}\n",
    "\n",
    "list(capitales.values())"
   ]
  },
  {
   "cell_type": "markdown",
   "metadata": {},
   "source": [
    "## Obtener todos los pares clave:valor `[key:value]` del diccionario con `items()`\n",
    "\n"
   ]
  },
  {
   "cell_type": "code",
   "execution_count": 34,
   "metadata": {},
   "outputs": [
    {
     "data": {
      "text/plain": [
       "[('Suiza', 'Berna'),\n",
       " ('Colombia', 'Bogotá'),\n",
       " ('Francia', 'París'),\n",
       " ('España', 'Madrid')]"
      ]
     },
     "execution_count": 34,
     "metadata": {},
     "output_type": "execute_result"
    }
   ],
   "source": [
    "capitales = {'Suiza': 'Berna',\n",
    " 'Colombia': 'Bogotá',\n",
    " 'Francia': 'París',\n",
    " 'España': 'Madrid'}\n",
    "\n",
    "capitales.items()\n",
    "\n",
    "list(capitales.items())"
   ]
  },
  {
   "cell_type": "markdown",
   "metadata": {},
   "source": [
    "## Longitud de un diccionario `len()`"
   ]
  },
  {
   "cell_type": "code",
   "execution_count": 35,
   "metadata": {},
   "outputs": [
    {
     "data": {
      "text/plain": [
       "4"
      ]
     },
     "execution_count": 35,
     "metadata": {},
     "output_type": "execute_result"
    }
   ],
   "source": [
    "len(capitales)"
   ]
  },
  {
   "cell_type": "markdown",
   "metadata": {},
   "source": [
    "## Combinar Diccionarios con `**a, **b`\n"
   ]
  },
  {
   "cell_type": "code",
   "execution_count": 36,
   "metadata": {},
   "outputs": [
    {
     "data": {
      "text/plain": [
       "{'a': 'árbol', 'b': 'balón', 'c': 'celular', 'd': 'dado', 'e': 'eclipse'}"
      ]
     },
     "execution_count": 36,
     "metadata": {},
     "output_type": "execute_result"
    }
   ],
   "source": [
    "d1 = {\"a\" : \"árbol\",\n",
    "      \"b\" : \"balón\",\n",
    "      \"c\" : \"celular\"}\n",
    "\n",
    "d2 = {\"d\" : \"dado\",\n",
    "      \"e\" : \"eclipse\"}\n",
    "\n",
    "{**d1, **d2}"
   ]
  },
  {
   "cell_type": "markdown",
   "metadata": {},
   "source": [
    "Pueden ser más de dos diccionarios y la sintáxis es la misma, agregando un tercer diccionario por ejemplo."
   ]
  },
  {
   "cell_type": "code",
   "execution_count": 37,
   "metadata": {},
   "outputs": [
    {
     "data": {
      "text/plain": [
       "{'a': 'árbol',\n",
       " 'b': 'balón',\n",
       " 'c': 'celular',\n",
       " 'd': 'dado',\n",
       " 'e': 'eclipse',\n",
       " 'f': 'flor'}"
      ]
     },
     "execution_count": 37,
     "metadata": {},
     "output_type": "execute_result"
    }
   ],
   "source": [
    "d3 = {\"f\" : \"flor\"}\n",
    "\n",
    "{**d1, **d2, **d3}"
   ]
  },
  {
   "cell_type": "markdown",
   "metadata": {},
   "source": [
    "## Combinar diccionarios con `update()`\n",
    "\n",
    "Es posible copiar las llaves y los valores de un diccionario dentro de otro usando la función `update()`."
   ]
  },
  {
   "cell_type": "code",
   "execution_count": 39,
   "metadata": {},
   "outputs": [
    {
     "data": {
      "text/plain": [
       "{'a': 'árbol', 'b': 'balón', 'c': 'celular', 'd': 'dado', 'e': 'eclipse'}"
      ]
     },
     "execution_count": 39,
     "metadata": {},
     "output_type": "execute_result"
    }
   ],
   "source": [
    "d1 = {\"a\" : \"árbol\",\n",
    "      \"b\" : \"balón\",\n",
    "      \"c\" : \"celular\"}\n",
    "\n",
    "d2 = {\"d\" : \"dado\",\n",
    "      \"e\" : \"eclipse\"}\n",
    "\n",
    "d1.update(d2)\n",
    "\n",
    "d1"
   ]
  },
  {
   "cell_type": "markdown",
   "metadata": {},
   "source": [
    "Si hay claves repetidas, el valor que esté asignado en el segundo diccionario será el valor que quede asignado a esa llave."
   ]
  },
  {
   "cell_type": "markdown",
   "metadata": {},
   "source": [
    "## Eliminar un elemento con `del` por medio de la key"
   ]
  },
  {
   "cell_type": "code",
   "execution_count": 43,
   "metadata": {},
   "outputs": [
    {
     "data": {
      "text/plain": [
       "{'Colombia': 'Bogotá', 'Francia': 'París', 'España': 'Madrid'}"
      ]
     },
     "execution_count": 43,
     "metadata": {},
     "output_type": "execute_result"
    }
   ],
   "source": [
    "capitales = {'Suiza': 'Berna',\n",
    " 'Colombia': 'Bogotá',\n",
    " 'Francia': 'París',\n",
    " 'España': 'Madrid'}\n",
    "\n",
    "del capitales[\"Suiza\"]\n",
    "\n",
    "capitales"
   ]
  },
  {
   "cell_type": "markdown",
   "metadata": {},
   "source": [
    "## Obtener un elemento por medio de la key y borrarlo con `pop()`\n",
    "\n",
    "Esta función combina las acciones de `del` y de `get()`. Si le pasas una llave que exista dentro del diccionario, al argumento de la función `pop()`, esta retorna el valor correspondiente a esa llave y elimina el par `key:value`. Si la llave no existe, se presenta un error."
   ]
  },
  {
   "cell_type": "code",
   "execution_count": 45,
   "metadata": {},
   "outputs": [
    {
     "data": {
      "text/plain": [
       "{'Suiza': 'Berna', 'Colombia': 'Bogotá', 'España': 'Madrid'}"
      ]
     },
     "execution_count": 45,
     "metadata": {},
     "output_type": "execute_result"
    }
   ],
   "source": [
    "capitales = {'Suiza': 'Berna',\n",
    " 'Colombia': 'Bogotá',\n",
    " 'Francia': 'París',\n",
    " 'España': 'Madrid'}\n",
    "\n",
    "capitales.pop(\"Francia\")\n",
    "capitales"
   ]
  },
  {
   "cell_type": "markdown",
   "metadata": {},
   "source": [
    "# Eliminar todos los elementos de un Diccionario con `clear()`\n",
    "\n",
    "Esta función elimina todas las llaves y valores de un diccionario, esto deja como resultado un diccionario vacío."
   ]
  },
  {
   "cell_type": "code",
   "execution_count": 47,
   "metadata": {},
   "outputs": [
    {
     "data": {
      "text/plain": [
       "{}"
      ]
     },
     "execution_count": 47,
     "metadata": {},
     "output_type": "execute_result"
    }
   ],
   "source": [
    "capitales = {'Suiza': 'Berna',\n",
    " 'Colombia': 'Bogotá',\n",
    " 'Francia': 'París',\n",
    " 'España': 'Madrid'}\n",
    "\n",
    "capitales.clear()\n",
    "capitales"
   ]
  },
  {
   "cell_type": "markdown",
   "metadata": {},
   "source": [
    "## Aliasing en los diccionarios\n",
    "\n",
    "Al igual que con las listas, si se asigna un diccionario a otra variable mediante el signo `=`,  los cambios se verán reflejados en las dos variables (Aliasing)."
   ]
  },
  {
   "cell_type": "code",
   "execution_count": null,
   "metadata": {},
   "outputs": [
    {
     "data": {
      "text/plain": [
       "{'Suiza': 'Berna',\n",
       " 'Colombia': 'Bogotá',\n",
       " 'Francia': 'París',\n",
       " 'España': 'Madrid',\n",
       " 'Alemania': 'Berlín'}"
      ]
     },
     "execution_count": 48,
     "metadata": {},
     "output_type": "execute_result"
    }
   ],
   "source": [
    "capitales = {'Suiza': 'Berna',\n",
    " 'Colombia': 'Bogotá',\n",
    " 'Francia': 'París',\n",
    " 'España': 'Madrid'}\n",
    "\n",
    "ciudades = capitales\n",
    "\n",
    "capitales[\"Alemania\"] = \"Berlín\"\n",
    "\n",
    "ciudades"
   ]
  },
  {
   "cell_type": "markdown",
   "metadata": {},
   "source": [
    "## Copiar con `copy()`\n",
    "\n",
    "La forma correcta de copiar un diccionario es mediante la función `copy()`. "
   ]
  },
  {
   "cell_type": "code",
   "execution_count": 57,
   "metadata": {},
   "outputs": [
    {
     "data": {
      "text/plain": [
       "{'Suiza': 'Berna',\n",
       " 'Colombia': 'Bogotá',\n",
       " 'Francia': 'París',\n",
       " 'España': 'Madrid'}"
      ]
     },
     "execution_count": 57,
     "metadata": {},
     "output_type": "execute_result"
    }
   ],
   "source": [
    "capitales = {'Suiza': 'Berna',\n",
    " 'Colombia': 'Bogotá',\n",
    " 'Francia': 'París',\n",
    " 'España': 'Madrid'}\n",
    "\n",
    "ciudades = capitales.copy()\n",
    "\n",
    "capitales[\"Alemania\"] = \"Berlín\"\n",
    "\n",
    "capitales\n",
    "ciudades"
   ]
  },
  {
   "cell_type": "markdown",
   "metadata": {},
   "source": [
    "Esto es una copia superficial, y funciona si los valores del diccionario son inmutables (como lo son en este caso). Si no lo son, necesitas `deepcopy()`."
   ]
  },
  {
   "cell_type": "markdown",
   "metadata": {},
   "source": [
    "## Copiar todo con `deepcopy()`\n",
    "\n",
    "En el siguiente diccionario el valor para la clave \"España\" es una lista `['Madrid', \"Alicante\"]` con dos elementos."
   ]
  },
  {
   "cell_type": "code",
   "execution_count": null,
   "metadata": {},
   "outputs": [
    {
     "data": {
      "text/plain": [
       "{'Suiza': 'Berna',\n",
       " 'Colombia': 'Bogotá',\n",
       " 'Francia': 'París',\n",
       " 'España': ['Madrid', 'Barcelona']}"
      ]
     },
     "execution_count": 63,
     "metadata": {},
     "output_type": "execute_result"
    }
   ],
   "source": [
    "lugares = {'Suiza': 'Berna',\n",
    " 'Colombia': 'Bogotá',\n",
    " 'Francia': 'París',\n",
    " 'España': ['Madrid', \"Alicante\"]}\n",
    "\n",
    "lugares2 = lugares.copy()\n",
    "\n",
    "lugares[\"España\"][1] = \"Barcelona\"\n",
    "\n",
    "lugares\n",
    "\n",
    "lugares2"
   ]
  },
  {
   "cell_type": "markdown",
   "metadata": {},
   "source": [
    "Si hacemos una copia con la función `copy()` se producirá el efecto aliasing al interior de los elementos de la lista contenida en el diccionario. Es decir que si deseamos modificar uno de los elementos de esta lista, se modificará en la variable `lugares` y en la variable `lugares2`.\n",
    "\n",
    "Para hacer una copia completa del diccionario es necesario hacer uso de la función `deepcopy()`, como se muestra a continuación:"
   ]
  },
  {
   "cell_type": "code",
   "execution_count": 66,
   "metadata": {},
   "outputs": [
    {
     "data": {
      "text/plain": [
       "{'Suiza': 'Berna',\n",
       " 'Colombia': 'Bogotá',\n",
       " 'Francia': 'París',\n",
       " 'España': ['Madrid', 'Alicante']}"
      ]
     },
     "execution_count": 66,
     "metadata": {},
     "output_type": "execute_result"
    }
   ],
   "source": [
    "import copy\n",
    "\n",
    "lugares = {'Suiza': 'Berna',\n",
    " 'Colombia': 'Bogotá',\n",
    " 'Francia': 'París',\n",
    " 'España': ['Madrid', \"Alicante\"]}\n",
    "\n",
    "lugares2 = copy.deepcopy(lugares)\n",
    "\n",
    "lugares[\"España\"][1] = \"Barcelona\"\n",
    "\n",
    "lugares\n",
    "\n",
    "lugares2"
   ]
  },
  {
   "cell_type": "markdown",
   "metadata": {},
   "source": [
    "## Comparar Diccionarios\n",
    "\n",
    "Los diccionarios pueden ser comparados con los operadores de comparación `==` y `!=`. Otros operadores no funcionan con los diccionarios.\n",
    "\n",
    "Python compara las llaves y valores uno a uno. El orden en el cual fueron creados no es importante."
   ]
  },
  {
   "cell_type": "code",
   "execution_count": 69,
   "metadata": {},
   "outputs": [
    {
     "data": {
      "text/plain": [
       "False"
      ]
     },
     "execution_count": 69,
     "metadata": {},
     "output_type": "execute_result"
    }
   ],
   "source": [
    "a = {1: [1, 2], 2: [1], 3:[1]}\n",
    "b = {1: [1, 1], 2: [1], 3:[1]}\n",
    "\n",
    "a == b"
   ]
  },
  {
   "cell_type": "markdown",
   "metadata": {},
   "source": [
    "## Iterar con `for` y con `in`"
   ]
  },
  {
   "cell_type": "code",
   "execution_count": null,
   "metadata": {},
   "outputs": [
    {
     "name": "stdout",
     "output_type": "stream",
     "text": [
      "Mario Bros\n",
      "Final Fantasy\n",
      "Call of Duty\n"
     ]
    }
   ],
   "source": [
    "# Iterar para obtener las llaves del diccionario\n",
    "\n",
    "vjuegos = {\"Mario Bros\" : \"Plataforma\",\n",
    "           \"Final Fantasy\" : \"RPG\",\n",
    "           \"Call of Duty\" : \"Disparos\"}\n",
    "\n",
    "for juego in vjuegos:\n",
    "    print(juego)"
   ]
  },
  {
   "cell_type": "code",
   "execution_count": 71,
   "metadata": {},
   "outputs": [
    {
     "name": "stdout",
     "output_type": "stream",
     "text": [
      "Mario Bros\n",
      "Final Fantasy\n",
      "Call of Duty\n"
     ]
    }
   ],
   "source": [
    "# Otra forma de Iterar para obtener las llaves del diccionario\n",
    "\n",
    "vjuegos = {\"Mario Bros\" : \"Plataforma\",\n",
    "           \"Final Fantasy\" : \"RPG\",\n",
    "           \"Call of Duty\" : \"Disparos\"}\n",
    "\n",
    "for juego in vjuegos.keys():\n",
    "    print(juego)"
   ]
  },
  {
   "cell_type": "code",
   "execution_count": 73,
   "metadata": {},
   "outputs": [
    {
     "name": "stdout",
     "output_type": "stream",
     "text": [
      "Plataforma\n",
      "RPG\n",
      "Disparos\n"
     ]
    }
   ],
   "source": [
    "# Iterar para obtener los valores del diccionario\n",
    "\n",
    "vjuegos = {\"Mario Bros\" : \"Plataforma\",\n",
    "           \"Final Fantasy\" : \"RPG\",\n",
    "           \"Call of Duty\" : \"Disparos\"}\n",
    "\n",
    "for juego in vjuegos.values():\n",
    "    print(juego)"
   ]
  },
  {
   "cell_type": "code",
   "execution_count": 74,
   "metadata": {},
   "outputs": [
    {
     "name": "stdout",
     "output_type": "stream",
     "text": [
      "('Mario Bros', 'Plataforma')\n",
      "('Final Fantasy', 'RPG')\n",
      "('Call of Duty', 'Disparos')\n"
     ]
    }
   ],
   "source": [
    "# Iterar para obtener los pares llave:valor del diccionario\n",
    "\n",
    "vjuegos = {\"Mario Bros\" : \"Plataforma\",\n",
    "           \"Final Fantasy\" : \"RPG\",\n",
    "           \"Call of Duty\" : \"Disparos\"}\n",
    "\n",
    "for juego in vjuegos.items():\n",
    "    print(juego)"
   ]
  },
  {
   "cell_type": "markdown",
   "metadata": {},
   "source": [
    "Es posible asignar a una tupla en una sola línea. Para cada tupla devuelta por `items()`, se asigna el primer valor (la clave) a `i`, y el segundo (el valor) a `j`:"
   ]
  },
  {
   "cell_type": "code",
   "execution_count": 88,
   "metadata": {},
   "outputs": [
    {
     "name": "stdout",
     "output_type": "stream",
     "text": [
      "El juego  Mario Bros  es un juego de  Plataforma\n",
      "El juego  Final Fantasy  es un juego de  RPG\n",
      "El juego  Call of Duty  es un juego de  Disparos\n"
     ]
    }
   ],
   "source": [
    "# Iterar para obtener los pares llave:valor del diccionario\n",
    "\n",
    "vjuegos = {\"Mario Bros\" : \"Plataforma\",\n",
    "           \"Final Fantasy\" : \"RPG\",\n",
    "           \"Call of Duty\" : \"Disparos\"}\n",
    "\n",
    "for i, j in vjuegos.items():\n",
    "    print(\"El juego \", i, \" es un juego de \",  j)"
   ]
  },
  {
   "cell_type": "markdown",
   "metadata": {},
   "source": [
    "## Comprensión en Diccionarios"
   ]
  },
  {
   "cell_type": "code",
   "execution_count": 89,
   "metadata": {},
   "outputs": [
    {
     "data": {
      "text/plain": [
       "{'l': 1, 'e': 2, 't': 2, 'r': 1, 's': 1}"
      ]
     },
     "execution_count": 89,
     "metadata": {},
     "output_type": "execute_result"
    }
   ],
   "source": [
    "word = 'letters'\n",
    "letter_counts = {letter: word.count(letter) for letter in word}\n",
    "letter_counts"
   ]
  },
  {
   "cell_type": "code",
   "execution_count": 91,
   "metadata": {},
   "outputs": [
    {
     "data": {
      "text/plain": [
       "{'a': 2, 'o': 4, 'e': 1, 'i': 1}"
      ]
     },
     "execution_count": 91,
     "metadata": {},
     "output_type": "execute_result"
    }
   ],
   "source": [
    "vowels = 'aeiou'\n",
    "word = 'onomatopoeia'\n",
    "\n",
    "vowel_counts = {letter: word.count(letter) for letter in set(word)\n",
    "    if letter in vowels}\n",
    "\n",
    "vowel_counts"
   ]
  }
 ],
 "metadata": {
  "kernelspec": {
   "display_name": "Python 3",
   "language": "python",
   "name": "python3"
  },
  "language_info": {
   "codemirror_mode": {
    "name": "ipython",
    "version": 3
   },
   "file_extension": ".py",
   "mimetype": "text/x-python",
   "name": "python",
   "nbconvert_exporter": "python",
   "pygments_lexer": "ipython3",
   "version": "3.10.12"
  }
 },
 "nbformat": 4,
 "nbformat_minor": 2
}
