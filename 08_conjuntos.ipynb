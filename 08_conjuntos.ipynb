{
 "cells": [
  {
   "cell_type": "markdown",
   "metadata": {},
   "source": [
    "# Conjuntos\n",
    "\n",
    "Un conjunto es como un diccionario en el que se descartan sus valores y solo quedan las claves. Al igual que con un diccionario, cada clave debe ser única.\n",
    "\n",
    "Algo relacionado con teoría de conjuntos. Supongamos que se toma la unión de dos conjuntos que tienen algunas claves en común.\n",
    "\n",
    "Como un conjunto debe contener solo uno de cada elemento, la unión de dos conjuntos contendrá solo uno de cada clave. El conjunto nulo o vacío es un conjunto con cero elementos.\n",
    "\n",
    "![](conjuntos.png)\n",
    "\n",
    "\n",
    "## Crear un conjounto `set()`\n",
    "\n",
    "Mediante la función `set()` podemos crear un conjunto. También incorporando los valores dentro de corchetes y separándolos por comas."
   ]
  },
  {
   "cell_type": "code",
   "execution_count": 2,
   "metadata": {},
   "outputs": [
    {
     "data": {
      "text/plain": [
       "set"
      ]
     },
     "execution_count": 2,
     "metadata": {},
     "output_type": "execute_result"
    }
   ],
   "source": [
    "vacio = set()\n",
    "type(vacio)"
   ]
  },
  {
   "cell_type": "code",
   "execution_count": 4,
   "metadata": {},
   "outputs": [
    {
     "data": {
      "text/plain": [
       "set"
      ]
     },
     "execution_count": 4,
     "metadata": {},
     "output_type": "execute_result"
    }
   ],
   "source": [
    "pares = {0, 22, 14, 6, 18}\n",
    "type(pares)"
   ]
  },
  {
   "cell_type": "markdown",
   "metadata": {},
   "source": [
    "> Como `[]` crea una lista vacía, se podría esperar que `{}` creara un conjunto vacío. En cambio, `{}` **crea un diccionario vacío**. Ese es también el motivo por el que el intérprete imprime un conjunto vacío como `set()` en lugar de `{}`. ¿Por qué? Los diccionarios aparecieron primero en Python y tomaron posesión de las llaves."
   ]
  },
  {
   "cell_type": "markdown",
   "metadata": {},
   "source": [
    "## Convertir con `set()`\n",
    "\n",
    "Es posible crear un conjunto a partir de una lista, string, tupla, o diccionario, descartando los valores duplicados.\n",
    "\n"
   ]
  },
  {
   "cell_type": "code",
   "execution_count": 6,
   "metadata": {},
   "outputs": [
    {
     "data": {
      "text/plain": [
       "{'S', 'e', 'i', 'j', 's', 't'}"
      ]
     },
     "execution_count": 6,
     "metadata": {},
     "output_type": "execute_result"
    }
   ],
   "source": [
    "# conjunto a partir de una tupla\n",
    "letras = (\"e\", \"j\", \"e\", \"t\", \"S\", \"i\", \"s\", \"t\")\n",
    "type(letras)\n",
    "set(letras)     "
   ]
  },
  {
   "cell_type": "markdown",
   "metadata": {},
   "source": [
    "Se puede apreciar que el conjunto creado solo contiene una \"e\" y una \"t\" a pesar de que `letras` contiene dos de cada una de ellas."
   ]
  },
  {
   "cell_type": "code",
   "execution_count": 8,
   "metadata": {},
   "outputs": [
    {
     "data": {
      "text/plain": [
       "{' ', 'E', 'a', 'b', 'l', 'o', 'r', 's', 't', 'u'}"
      ]
     },
     "execution_count": 8,
     "metadata": {},
     "output_type": "execute_result"
    }
   ],
   "source": [
    "# conjunto a partir de una Cadena o string\n",
    "cadena = \"Error absoluto\"\n",
    "set(cadena)"
   ]
  },
  {
   "cell_type": "code",
   "execution_count": 11,
   "metadata": {},
   "outputs": [
    {
     "data": {
      "text/plain": [
       "set"
      ]
     },
     "execution_count": 11,
     "metadata": {},
     "output_type": "execute_result"
    }
   ],
   "source": [
    "# conjunto a partir de una lista\n",
    "\n",
    "consolas = set([\"NES\", \"PS3\", \"XBox\", \"N.Switch\" ,\"XBox360\"])\n",
    "type(consolas)"
   ]
  },
  {
   "cell_type": "markdown",
   "metadata": {},
   "source": [
    "Cuando pasamos la función `set()` a un diccionario, esta solo toma las llaves (keys)."
   ]
  },
  {
   "cell_type": "code",
   "execution_count": 13,
   "metadata": {},
   "outputs": [
    {
     "data": {
      "text/plain": [
       "{'apple', 'cherry', 'orange'}"
      ]
     },
     "execution_count": 13,
     "metadata": {},
     "output_type": "execute_result"
    }
   ],
   "source": [
    "set( {'apple': 'red',\n",
    "      'orange': 'orange',\n",
    "      'cherry': 'red'} )"
   ]
  },
  {
   "cell_type": "markdown",
   "metadata": {},
   "source": [
    "## Longitud de un conjunto `set()`\n",
    "\n"
   ]
  },
  {
   "cell_type": "code",
   "execution_count": 14,
   "metadata": {},
   "outputs": [
    {
     "data": {
      "text/plain": [
       "5"
      ]
     },
     "execution_count": 14,
     "metadata": {},
     "output_type": "execute_result"
    }
   ],
   "source": [
    "consolas = set([\"NES\", \"PS3\", \"XBox\", \"N.Switch\" ,\"XBox360\"])\n",
    "\n",
    "len(consolas)"
   ]
  },
  {
   "cell_type": "markdown",
   "metadata": {},
   "source": [
    "## Agregar un elemento `add()`"
   ]
  },
  {
   "cell_type": "code",
   "execution_count": 15,
   "metadata": {},
   "outputs": [
    {
     "data": {
      "text/plain": [
       "{'DreamCast', 'N.Switch', 'NES', 'PS3', 'XBox', 'XBox360'}"
      ]
     },
     "execution_count": 15,
     "metadata": {},
     "output_type": "execute_result"
    }
   ],
   "source": [
    "consolas = set([\"NES\", \"PS3\", \"XBox\", \"N.Switch\" ,\"XBox360\"])\n",
    "\n",
    "consolas.add(\"DreamCast\")\n",
    "\n",
    "consolas"
   ]
  },
  {
   "cell_type": "markdown",
   "metadata": {},
   "source": [
    "## Eliminar elemento `remove()`"
   ]
  },
  {
   "cell_type": "code",
   "execution_count": 17,
   "metadata": {},
   "outputs": [
    {
     "data": {
      "text/plain": [
       "{'N.Switch', 'NES', 'PS3', 'XBox360'}"
      ]
     },
     "execution_count": 17,
     "metadata": {},
     "output_type": "execute_result"
    }
   ],
   "source": [
    "consolas = set([\"NES\", \"PS3\", \"XBox\", \"N.Switch\" ,\"XBox360\"])\n",
    "\n",
    "consolas.remove(\"XBox\")\n",
    "\n",
    "consolas"
   ]
  },
  {
   "cell_type": "markdown",
   "metadata": {},
   "source": [
    "## Iterar sobre un conjunto"
   ]
  },
  {
   "cell_type": "code",
   "execution_count": 1,
   "metadata": {},
   "outputs": [
    {
     "name": "stdout",
     "output_type": "stream",
     "text": [
      "XBox\n",
      "NES\n",
      "N.Switch\n",
      "XBox360\n",
      "PS3\n"
     ]
    }
   ],
   "source": [
    "consolas = set([\"NES\", \"PS3\", \"XBox\", \"N.Switch\" ,\"XBox360\"])\n",
    "\n",
    "for consola in consolas:\n",
    "    print(consola)"
   ]
  },
  {
   "cell_type": "markdown",
   "metadata": {},
   "source": [
    "## Prueba de un Valor con `in`\n",
    "\n",
    "Este es el uso más común de los conjuntos. Creamos un diccionario con algunas bebidas.\n",
    "\n",
    "Deseamos obtener aquellas bebidas que contengan vodka:"
   ]
  },
  {
   "cell_type": "code",
   "execution_count": 16,
   "metadata": {},
   "outputs": [
    {
     "name": "stdout",
     "output_type": "stream",
     "text": [
      "martini\n",
      "black russian\n",
      "white russian\n",
      "screwdriver\n"
     ]
    }
   ],
   "source": [
    "\n",
    "bebidas = {\n",
    "'martini': {'vodka', 'vermouth'},\n",
    "'black russian': {'vodka', 'kahlua'},\n",
    "'white russian': {'cream', 'kahlua', 'vodka'},\n",
    "'manhattan': {'rye', 'vermouth', 'bitters'},\n",
    "'screwdriver': {'orange juice', 'vodka'}\n",
    "}\n",
    "\n",
    "for bebida, ingrediente in bebidas.items():\n",
    "    if \"vodka\" in ingrediente:\n",
    "        print(bebida)"
   ]
  },
  {
   "cell_type": "markdown",
   "metadata": {},
   "source": [
    "Ahora deseamos obtener las bebidas que contengan vodka, pero que no contengan cream ni vermouth."
   ]
  },
  {
   "cell_type": "code",
   "execution_count": 19,
   "metadata": {},
   "outputs": [
    {
     "name": "stdout",
     "output_type": "stream",
     "text": [
      "black russian\n",
      "screwdriver\n"
     ]
    }
   ],
   "source": [
    "for bebida, ingrediente in bebidas.items():\n",
    "    if \"vodka\" in ingrediente and not (\"vermouth\" in ingrediente or \"cream\" in ingrediente):\n",
    "        print(bebida)"
   ]
  },
  {
   "cell_type": "markdown",
   "metadata": {},
   "source": [
    "## Combinaciones y Operadores\n",
    "\n",
    "¿Qué sucede si desea comprobar combinaciones de valores de conjuntos? Supongamos que desea encontrar cualquier bebida que contenga jugo de naranja o vermut. Usemos el operador de intersección de conjuntos, que es un ampersand (&):"
   ]
  },
  {
   "cell_type": "code",
   "execution_count": 1,
   "metadata": {},
   "outputs": [
    {
     "name": "stdout",
     "output_type": "stream",
     "text": [
      "martini\n",
      "manhattan\n"
     ]
    }
   ],
   "source": [
    "bebidas = {\n",
    "'martini': {'vodka', 'vermouth'},\n",
    "'black russian': {'vodka', 'kahlua'},\n",
    "'white russian': {'cream', 'kahlua', 'vodka'},\n",
    "'manhattan': {'rye', 'vermouth', 'bitters'},\n",
    "'screwdriver': {'orange juice', 'vodka'}\n",
    "}\n",
    "\n",
    "for bebida, ingrediente in bebidas.items():\n",
    "    if ingrediente & {\"vermouth\", \"orange\", \"juice\"}:\n",
    "        print(bebida)"
   ]
  },
  {
   "cell_type": "markdown",
   "metadata": {},
   "source": [
    "El resultado del operador `&` es un conjunto que contiene todos los elementos que aparecen en ambas listas que comparas. Si ninguno de esos ingredientes estaba en el contenido, el operador `&` devuelve un conjunto vacío, que se considera `False`."
   ]
  },
  {
   "cell_type": "code",
   "execution_count": 2,
   "metadata": {},
   "outputs": [
    {
     "name": "stdout",
     "output_type": "stream",
     "text": [
      "black russian\n",
      "screwdriver\n"
     ]
    }
   ],
   "source": [
    "for bebida, ingrediente in bebidas.items():\n",
    "    if \"vodka\" in ingrediente and not ingrediente & {\"vermouth\", \"cream\"}:\n",
    "        print(bebida)"
   ]
  },
  {
   "cell_type": "markdown",
   "metadata": {},
   "source": [
    "Miremos otro ejemplo de uso para los conjuntos, siguiendo con el diccionario creado de las bebidas:"
   ]
  },
  {
   "cell_type": "code",
   "execution_count": 4,
   "metadata": {},
   "outputs": [
    {
     "data": {
      "text/plain": [
       "{'kahlua', 'vodka'}"
      ]
     },
     "execution_count": 4,
     "metadata": {},
     "output_type": "execute_result"
    }
   ],
   "source": [
    "bruss = bebidas['black russian']\n",
    "wruss = bebidas['white russian']\n",
    "\n",
    "bruss & wruss"
   ]
  },
  {
   "cell_type": "markdown",
   "metadata": {},
   "source": [
    "Con `&` o con la función `.intersection()` podemos obetener los elementos comunes de cada objeto `a` y `b`."
   ]
  },
  {
   "cell_type": "code",
   "execution_count": 6,
   "metadata": {},
   "outputs": [
    {
     "data": {
      "text/plain": [
       "{2}"
      ]
     },
     "execution_count": 6,
     "metadata": {},
     "output_type": "execute_result"
    }
   ],
   "source": [
    "a = {1, 2}\n",
    "b = {2, 3}\n",
    "\n",
    "a & b\n",
    "\n",
    "a.intersection(b)"
   ]
  },
  {
   "cell_type": "markdown",
   "metadata": {},
   "source": [
    "De igual manera ocurre cuando queremos obtener la unión de estos objetos, haciendo uso del operador `|` y de la función `.union()`."
   ]
  },
  {
   "cell_type": "code",
   "execution_count": 8,
   "metadata": {},
   "outputs": [
    {
     "data": {
      "text/plain": [
       "{1, 2, 3}"
      ]
     },
     "execution_count": 8,
     "metadata": {},
     "output_type": "execute_result"
    }
   ],
   "source": [
    "a | b\n",
    "\n",
    "a.union(b)"
   ]
  },
  {
   "cell_type": "code",
   "execution_count": 9,
   "metadata": {},
   "outputs": [
    {
     "data": {
      "text/plain": [
       "{'cream', 'kahlua', 'vodka'}"
      ]
     },
     "execution_count": 9,
     "metadata": {},
     "output_type": "execute_result"
    }
   ],
   "source": [
    "bruss | wruss"
   ]
  },
  {
   "cell_type": "markdown",
   "metadata": {},
   "source": [
    "La diferencia, es decir los elemenyos del primer conjunto que no están en el segundo conjunto, se obtiene mediante el caracter `-` o la función `.difference()`."
   ]
  },
  {
   "cell_type": "code",
   "execution_count": 11,
   "metadata": {},
   "outputs": [
    {
     "data": {
      "text/plain": [
       "{1}"
      ]
     },
     "execution_count": 11,
     "metadata": {},
     "output_type": "execute_result"
    }
   ],
   "source": [
    "a = {1, 2}\n",
    "b = {2, 3}\n",
    "\n",
    "a - b\n",
    "\n",
    "a.difference(b)"
   ]
  },
  {
   "cell_type": "code",
   "execution_count": 12,
   "metadata": {},
   "outputs": [
    {
     "data": {
      "text/plain": [
       "set()"
      ]
     },
     "execution_count": 12,
     "metadata": {},
     "output_type": "execute_result"
    }
   ],
   "source": [
    "bruss = bebidas['black russian']\n",
    "wruss = bebidas['white russian']\n",
    "\n",
    "bruss - wruss"
   ]
  },
  {
   "cell_type": "code",
   "execution_count": 13,
   "metadata": {},
   "outputs": [
    {
     "data": {
      "text/plain": [
       "{'cream'}"
      ]
     },
     "execution_count": 13,
     "metadata": {},
     "output_type": "execute_result"
    }
   ],
   "source": [
    "wruss - bruss"
   ]
  },
  {
   "cell_type": "markdown",
   "metadata": {},
   "source": [
    "Otras operaciones entre los conjuntos, es por ejemplo el *o exclusivo*, con el cual se obtienen los elementos que están en un conojunto o en otro, pero no en ambos. Esta operación se realiza con el simbolo `^` o la función `.symmetric_difference()`"
   ]
  },
  {
   "cell_type": "code",
   "execution_count": 15,
   "metadata": {},
   "outputs": [
    {
     "data": {
      "text/plain": [
       "{1, 3}"
      ]
     },
     "execution_count": 15,
     "metadata": {},
     "output_type": "execute_result"
    }
   ],
   "source": [
    "a = {1, 2}\n",
    "b = {2, 3}\n",
    "\n",
    "a ^ b\n",
    "\n",
    "a.symmetric_difference(b)"
   ]
  },
  {
   "cell_type": "code",
   "execution_count": 16,
   "metadata": {},
   "outputs": [
    {
     "data": {
      "text/plain": [
       "{'cream'}"
      ]
     },
     "execution_count": 16,
     "metadata": {},
     "output_type": "execute_result"
    }
   ],
   "source": [
    "bruss = bebidas['black russian']\n",
    "wruss = bebidas['white russian']\n",
    "\n",
    "bruss ^ wruss"
   ]
  },
  {
   "cell_type": "markdown",
   "metadata": {},
   "source": [
    "Es posible evaluar si un conjunto es subconjunto de otro, es decir podemos saber si todos los elementos de un primer conjunto se encuentran también en un segundo conjunto. Esto se puede hacer con el operador `<=` o con la función `.orissubset()`."
   ]
  },
  {
   "cell_type": "code",
   "execution_count": 18,
   "metadata": {},
   "outputs": [
    {
     "data": {
      "text/plain": [
       "False"
      ]
     },
     "execution_count": 18,
     "metadata": {},
     "output_type": "execute_result"
    }
   ],
   "source": [
    "a = {1, 2}\n",
    "b = {2, 3}\n",
    "\n",
    "a <= b\n",
    "\n",
    "a.issubset(b)"
   ]
  },
  {
   "cell_type": "code",
   "execution_count": 19,
   "metadata": {},
   "outputs": [
    {
     "data": {
      "text/plain": [
       "True"
      ]
     },
     "execution_count": 19,
     "metadata": {},
     "output_type": "execute_result"
    }
   ],
   "source": [
    "bruss = bebidas['black russian']\n",
    "wruss = bebidas['white russian']\n",
    "\n",
    "bruss <= wruss"
   ]
  },
  {
   "cell_type": "markdown",
   "metadata": {},
   "source": [
    "Un conjunto es subconjunto de sí mismo:"
   ]
  },
  {
   "cell_type": "code",
   "execution_count": 22,
   "metadata": {},
   "outputs": [
    {
     "data": {
      "text/plain": [
       "True"
      ]
     },
     "execution_count": 22,
     "metadata": {},
     "output_type": "execute_result"
    }
   ],
   "source": [
    "a <= a\n",
    "\n",
    "a.issubset(a)"
   ]
  },
  {
   "cell_type": "markdown",
   "metadata": {},
   "source": [
    "Para ser un *conjunto propio*, el segundo conjunto requiere tener todos los elementos del primer conjunto y otros elementos. Esto se obtiene con el operador `<`."
   ]
  },
  {
   "cell_type": "code",
   "execution_count": 24,
   "metadata": {},
   "outputs": [
    {
     "data": {
      "text/plain": [
       "False"
      ]
     },
     "execution_count": 24,
     "metadata": {},
     "output_type": "execute_result"
    }
   ],
   "source": [
    "a < b\n",
    "a < a"
   ]
  },
  {
   "cell_type": "code",
   "execution_count": 25,
   "metadata": {},
   "outputs": [
    {
     "data": {
      "text/plain": [
       "True"
      ]
     },
     "execution_count": 25,
     "metadata": {},
     "output_type": "execute_result"
    }
   ],
   "source": [
    "bruss < wruss"
   ]
  },
  {
   "cell_type": "markdown",
   "metadata": {},
   "source": [
    "Un *superconjunto* es lo opuesto a un subconjunto, todos los elementos del segundo conjunto también están en el primer conjunto. Esto se puede hallar con el uso del operador `>=` o mediante la función `.issuperset()`"
   ]
  },
  {
   "cell_type": "code",
   "execution_count": 27,
   "metadata": {},
   "outputs": [
    {
     "data": {
      "text/plain": [
       "False"
      ]
     },
     "execution_count": 27,
     "metadata": {},
     "output_type": "execute_result"
    }
   ],
   "source": [
    "a = {1, 2}\n",
    "b = {2, 3}\n",
    "\n",
    "a >= b\n",
    "a.issuperset(b)"
   ]
  },
  {
   "cell_type": "code",
   "execution_count": 28,
   "metadata": {},
   "outputs": [
    {
     "data": {
      "text/plain": [
       "True"
      ]
     },
     "execution_count": 28,
     "metadata": {},
     "output_type": "execute_result"
    }
   ],
   "source": [
    "bruss = bebidas['black russian']\n",
    "wruss = bebidas['white russian']\n",
    "\n",
    "wruss >= bruss"
   ]
  },
  {
   "cell_type": "markdown",
   "metadata": {},
   "source": [
    "Cualquier conjunto es superconjunto de si mismo:"
   ]
  },
  {
   "cell_type": "code",
   "execution_count": 29,
   "metadata": {},
   "outputs": [
    {
     "data": {
      "text/plain": [
       "True"
      ]
     },
     "execution_count": 29,
     "metadata": {},
     "output_type": "execute_result"
    }
   ],
   "source": [
    "a >= a\n",
    "a.issuperset(a)"
   ]
  },
  {
   "cell_type": "markdown",
   "metadata": {},
   "source": [
    "Por último, podemos encontrar un *superconjunto propio*, el primer conjunto tiene todos los elementos del segundo y otros elementos. Se obtiene mediante el operador `>`"
   ]
  },
  {
   "cell_type": "code",
   "execution_count": 30,
   "metadata": {},
   "outputs": [
    {
     "data": {
      "text/plain": [
       "False"
      ]
     },
     "execution_count": 30,
     "metadata": {},
     "output_type": "execute_result"
    }
   ],
   "source": [
    "a > b"
   ]
  },
  {
   "cell_type": "code",
   "execution_count": 31,
   "metadata": {},
   "outputs": [
    {
     "data": {
      "text/plain": [
       "True"
      ]
     },
     "execution_count": 31,
     "metadata": {},
     "output_type": "execute_result"
    }
   ],
   "source": [
    "wruss > bruss"
   ]
  },
  {
   "cell_type": "markdown",
   "metadata": {},
   "source": [
    "No se puede ser un super conunto propio de si mismo:"
   ]
  },
  {
   "cell_type": "code",
   "execution_count": 32,
   "metadata": {},
   "outputs": [
    {
     "data": {
      "text/plain": [
       "False"
      ]
     },
     "execution_count": 32,
     "metadata": {},
     "output_type": "execute_result"
    }
   ],
   "source": [
    "a > a"
   ]
  },
  {
   "cell_type": "markdown",
   "metadata": {},
   "source": [
    "## Conjunto por Comprensión"
   ]
  },
  {
   "cell_type": "code",
   "execution_count": 33,
   "metadata": {},
   "outputs": [
    {
     "data": {
      "text/plain": [
       "{1, 4}"
      ]
     },
     "execution_count": 33,
     "metadata": {},
     "output_type": "execute_result"
    }
   ],
   "source": [
    "a_set = {number for number in range(1,6) if number % 3 == 1}\n",
    "a_set"
   ]
  },
  {
   "cell_type": "markdown",
   "metadata": {},
   "source": [
    "## Crear un Conjunto Inmutable con `frozenset()`\n",
    "\n",
    "Si deseamos crear un conjunto que no pueda ser modificado, invocamos la función `frozenset()` con un argumento iterable."
   ]
  },
  {
   "cell_type": "code",
   "execution_count": 34,
   "metadata": {},
   "outputs": [
    {
     "data": {
      "text/plain": [
       "frozenset({1, 2, 3})"
      ]
     },
     "execution_count": 34,
     "metadata": {},
     "output_type": "execute_result"
    }
   ],
   "source": [
    "frozenset([3,2,1])"
   ]
  },
  {
   "cell_type": "code",
   "execution_count": 35,
   "metadata": {},
   "outputs": [
    {
     "data": {
      "text/plain": [
       "frozenset({1, 2, 3})"
      ]
     },
     "execution_count": 35,
     "metadata": {},
     "output_type": "execute_result"
    }
   ],
   "source": [
    "frozenset(set([2, 1, 3]))"
   ]
  },
  {
   "cell_type": "code",
   "execution_count": 36,
   "metadata": {},
   "outputs": [
    {
     "data": {
      "text/plain": [
       "frozenset({1, 2, 3})"
      ]
     },
     "execution_count": 36,
     "metadata": {},
     "output_type": "execute_result"
    }
   ],
   "source": [
    "frozenset({3, 1, 2})"
   ]
  },
  {
   "cell_type": "code",
   "execution_count": 37,
   "metadata": {},
   "outputs": [
    {
     "data": {
      "text/plain": [
       "frozenset({1, 2, 3})"
      ]
     },
     "execution_count": 37,
     "metadata": {},
     "output_type": "execute_result"
    }
   ],
   "source": [
    "frozenset( (2, 3, 1) )"
   ]
  },
  {
   "cell_type": "code",
   "execution_count": 39,
   "metadata": {},
   "outputs": [
    {
     "ename": "AttributeError",
     "evalue": "'frozenset' object has no attribute 'add'",
     "output_type": "error",
     "traceback": [
      "\u001b[0;31m---------------------------------------------------------------------------\u001b[0m",
      "\u001b[0;31mAttributeError\u001b[0m                            Traceback (most recent call last)",
      "Cell \u001b[0;32mIn[39], line 3\u001b[0m\n\u001b[1;32m      1\u001b[0m fs \u001b[38;5;241m=\u001b[39m \u001b[38;5;28mfrozenset\u001b[39m([\u001b[38;5;241m3\u001b[39m, \u001b[38;5;241m2\u001b[39m, \u001b[38;5;241m1\u001b[39m])\n\u001b[1;32m      2\u001b[0m fs\n\u001b[0;32m----> 3\u001b[0m \u001b[43mfs\u001b[49m\u001b[38;5;241;43m.\u001b[39;49m\u001b[43madd\u001b[49m(\u001b[38;5;241m4\u001b[39m)\n",
      "\u001b[0;31mAttributeError\u001b[0m: 'frozenset' object has no attribute 'add'"
     ]
    }
   ],
   "source": [
    "fs = frozenset([3, 2, 1])\n",
    "fs\n",
    "fs.add(4)"
   ]
  },
  {
   "cell_type": "markdown",
   "metadata": {},
   "source": [
    "En todos los casos (listas, diccionarios, tuplas), excepto en los conjuntos, se accede a un único elemento mediante corchetes. En el caso de la lista y la tupla, el valor entre corchetes es un entero. En el caso del diccionario, es una clave. En los tres casos, el resultado es un valor. En el caso del conjunto, esto no es así; no hay índice ni clave:"
   ]
  },
  {
   "cell_type": "code",
   "execution_count": 40,
   "metadata": {},
   "outputs": [
    {
     "ename": "TypeError",
     "evalue": "'set' object is not subscriptable",
     "output_type": "error",
     "traceback": [
      "\u001b[0;31m---------------------------------------------------------------------------\u001b[0m",
      "\u001b[0;31mTypeError\u001b[0m                                 Traceback (most recent call last)",
      "Cell \u001b[0;32mIn[40], line 2\u001b[0m\n\u001b[1;32m      1\u001b[0m marx_set \u001b[38;5;241m=\u001b[39m {\u001b[38;5;124m'\u001b[39m\u001b[38;5;124mGroucho\u001b[39m\u001b[38;5;124m'\u001b[39m, \u001b[38;5;124m'\u001b[39m\u001b[38;5;124mChico\u001b[39m\u001b[38;5;124m'\u001b[39m, \u001b[38;5;124m'\u001b[39m\u001b[38;5;124mHarpo\u001b[39m\u001b[38;5;124m'\u001b[39m}\n\u001b[0;32m----> 2\u001b[0m \u001b[43mmarx_set\u001b[49m\u001b[43m[\u001b[49m\u001b[38;5;241;43m1\u001b[39;49m\u001b[43m]\u001b[49m\n",
      "\u001b[0;31mTypeError\u001b[0m: 'set' object is not subscriptable"
     ]
    }
   ],
   "source": [
    "marx_set = {'Groucho', 'Chico', 'Harpo'}\n",
    "marx_set[1]"
   ]
  },
  {
   "cell_type": "code",
   "execution_count": 41,
   "metadata": {},
   "outputs": [
    {
     "data": {
      "text/plain": [
       "True"
      ]
     },
     "execution_count": 41,
     "metadata": {},
     "output_type": "execute_result"
    }
   ],
   "source": [
    "consolas = set([\"NES\", \"PS3\", \"XBox\", \"N.Switch\" ,\"XBox360\"])\n",
    "\n",
    "\"PS3\" in consolas"
   ]
  },
  {
   "cell_type": "markdown",
   "metadata": {},
   "source": [
    "## Construir Estructuras de Datos más Grandes\n",
    "\n",
    "Podemos crear una tupla que contenga una lista como elemento, es decir una tupla de listas."
   ]
  },
  {
   "cell_type": "code",
   "execution_count": 43,
   "metadata": {},
   "outputs": [
    {
     "data": {
      "text/plain": [
       "(['Maradona', 'Pelé', 'Ruicosta'],\n",
       " ['Jordan', 'Bryant', 'Ewing'],\n",
       " ['Carter', 'Jones', 'Bigger'])"
      ]
     },
     "execution_count": 43,
     "metadata": {},
     "output_type": "execute_result"
    }
   ],
   "source": [
    "futbol = [\"Maradona\", \"Pelé\", \"Ruicosta\"]\n",
    "baloncesto = [\"Jordan\", \"Bryant\", \"Ewing\"]\n",
    "rugby = [\"Carter\", \"Jones\", \"Bigger\"]\n",
    "\n",
    "tuplalistas = futbol, baloncesto, rugby\n",
    "tuplalistas"
   ]
  },
  {
   "cell_type": "markdown",
   "metadata": {},
   "source": [
    "Podemos obtener una lista que contenga las listas como elementos"
   ]
  },
  {
   "cell_type": "code",
   "execution_count": 45,
   "metadata": {},
   "outputs": [
    {
     "data": {
      "text/plain": [
       "[['Maradona', 'Pelé', 'Ruicosta'],\n",
       " ['Jordan', 'Bryant', 'Ewing'],\n",
       " ['Carter', 'Jones', 'Bigger']]"
      ]
     },
     "execution_count": 45,
     "metadata": {},
     "output_type": "execute_result"
    }
   ],
   "source": [
    "listadelistas = [futbol, baloncesto, rugby]\n",
    "listadelistas"
   ]
  },
  {
   "cell_type": "markdown",
   "metadata": {},
   "source": [
    "Ahora creemos un diccionario de listas"
   ]
  },
  {
   "cell_type": "code",
   "execution_count": 47,
   "metadata": {},
   "outputs": [
    {
     "data": {
      "text/plain": [
       "{'Futbol': ['Maradona', 'Pelé', 'Ruicosta'],\n",
       " 'Baloncesto': ['Jordan', 'Bryant', 'Ewing'],\n",
       " 'Rugby': ['Carter', 'Jones', 'Bigger']}"
      ]
     },
     "execution_count": 47,
     "metadata": {},
     "output_type": "execute_result"
    }
   ],
   "source": [
    "dicdelistas = {\"Futbol\" : futbol,\n",
    "               \"Baloncesto\" : baloncesto,\n",
    "               \"Rugby\" : rugby}\n",
    "\n",
    "dicdelistas"
   ]
  },
  {
   "cell_type": "markdown",
   "metadata": {},
   "source": [
    "> Las únicas limitaciones son las de los tipos de datos en sí. Por ejemplo, las claves de diccionario deben ser inmutables, por lo que una lista, un diccionario o un conjunto no pueden ser claves para otro diccionario. Pero una tupla sí puede serlo."
   ]
  },
  {
   "cell_type": "markdown",
   "metadata": {},
   "source": [
    "Por ejemplo, podríamos indexar lugares de interés dadas las coordenadas del GPS (latitud, longitud, altitud)"
   ]
  },
  {
   "cell_type": "code",
   "execution_count": 48,
   "metadata": {},
   "outputs": [
    {
     "data": {
      "text/plain": [
       "{(44.79, -93.14, 285): 'Resturante', (38.89, -77.03, 13): 'Supermercado'}"
      ]
     },
     "execution_count": 48,
     "metadata": {},
     "output_type": "execute_result"
    }
   ],
   "source": [
    "lugares = {\n",
    "(44.79, -93.14, 285): 'Resturante',\n",
    "(38.89, -77.03, 13): 'Supermercado'\n",
    "}\n",
    "\n",
    "lugares"
   ]
  }
 ],
 "metadata": {
  "kernelspec": {
   "display_name": "Python 3",
   "language": "python",
   "name": "python3"
  },
  "language_info": {
   "codemirror_mode": {
    "name": "ipython",
    "version": 3
   },
   "file_extension": ".py",
   "mimetype": "text/x-python",
   "name": "python",
   "nbconvert_exporter": "python",
   "pygments_lexer": "ipython3",
   "version": "3.10.12"
  }
 },
 "nbformat": 4,
 "nbformat_minor": 2
}
