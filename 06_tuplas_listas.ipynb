{
 "cells": [
  {
   "cell_type": "markdown",
   "metadata": {},
   "source": [
    "# Tuplas y Listas\n",
    "\n",
    "Python tiene otras dos estructuras de secuencia: tuplas y listas. Estas contienen cero o más elementos. A diferencia de las cadenas, los elementos pueden ser de diferentes tipos. De hecho, cada elemento puede ser cualquier objeto de Python. Esto te permite crear estructuras tan profundas y complejas como desees.\n",
    "\n",
    "¿Por qué Python contiene tanto listas como tuplas? Las tuplas son **inmutables**; cuando asignas elementos (solo una vez) a una tupla, se convierten en elementos básicos y no se pueden cambiar.\n",
    "\n",
    "Las listas son **mutables**, lo que significa que puedes insertar y eliminar elementos cuando desees."
   ]
  },
  {
   "cell_type": "markdown",
   "metadata": {},
   "source": [
    "# Tuplas\n",
    "\n",
    "Las tuplas son una estructura de datos inmutable. Permite almacenar una secuencia ordenada. Almacena diferentes tipos de datos.\n",
    "\n",
    "La sintáxis para crear las tupla es un poco ambigua o variada, por decirlo de alguna manera.\n",
    "\n",
    "Las tuplas se crean haciendo uso de paréntesis y comas, pero hay algunas variaciones para crearlas."
   ]
  },
  {
   "cell_type": "code",
   "execution_count": null,
   "metadata": {},
   "outputs": [],
   "source": [
    "# tupla vacía\n",
    "tupla0 = ()"
   ]
  },
  {
   "cell_type": "code",
   "execution_count": 4,
   "metadata": {},
   "outputs": [
    {
     "data": {
      "text/plain": [
       "('perro',)"
      ]
     },
     "execution_count": 4,
     "metadata": {},
     "output_type": "execute_result"
    }
   ],
   "source": [
    "# tupla creada solo con la coma\n",
    "tupla1 = \"perro\",\n",
    "type(tupla1)\n",
    "tupla1"
   ]
  },
  {
   "cell_type": "code",
   "execution_count": 7,
   "metadata": {},
   "outputs": [
    {
     "data": {
      "text/plain": [
       "tuple"
      ]
     },
     "execution_count": 7,
     "metadata": {},
     "output_type": "execute_result"
    }
   ],
   "source": [
    "tuplac = \"kiwi\", \"musaraña\", \"mamba\"\n",
    "tuplac\n",
    "type(tuplac)"
   ]
  },
  {
   "cell_type": "code",
   "execution_count": 5,
   "metadata": {},
   "outputs": [
    {
     "data": {
      "text/plain": [
       "tuple"
      ]
     },
     "execution_count": 5,
     "metadata": {},
     "output_type": "execute_result"
    }
   ],
   "source": [
    "# Tupla creada con paréntesis y comas\n",
    "tupla2 = (\"gato\",)\n",
    "tupla2\n",
    "type(tupla2)"
   ]
  },
  {
   "cell_type": "markdown",
   "metadata": {},
   "source": [
    "> Si creamos una tupla de un solo elemento, como en el código anterior pero omitiendo la coma, no obtendremos el resultado esperado, no obtendremos una tupla, obtendremos un elemento de typo srting."
   ]
  },
  {
   "cell_type": "code",
   "execution_count": 6,
   "metadata": {},
   "outputs": [
    {
     "data": {
      "text/plain": [
       "str"
      ]
     },
     "execution_count": 6,
     "metadata": {},
     "output_type": "execute_result"
    }
   ],
   "source": [
    "tuplas = (\"jirafa\")\n",
    "tuplas\n",
    "type(tuplas)"
   ]
  },
  {
   "cell_type": "markdown",
   "metadata": {},
   "source": [
    "> Si bien, no es necesario hacer uso de los paréntesis para crear una tupla en todos los casos, hacer uso de ellos ayuda a que el código sea más legible y entendible para el usuario."
   ]
  },
  {
   "cell_type": "markdown",
   "metadata": {},
   "source": [
    "Note la diferencia en el siguiente caso:"
   ]
  },
  {
   "cell_type": "code",
   "execution_count": 9,
   "metadata": {},
   "outputs": [
    {
     "data": {
      "text/plain": [
       "str"
      ]
     },
     "execution_count": 9,
     "metadata": {},
     "output_type": "execute_result"
    }
   ],
   "source": [
    "tuplad = \"zorro\", \n",
    "type(tuplad)\n",
    "\n",
    "type(\"zorro\",) \n"
   ]
  },
  {
   "cell_type": "markdown",
   "metadata": {},
   "source": [
    "Las tuplas permiten asignar múltiples variables al mismo tiempo:"
   ]
  },
  {
   "cell_type": "code",
   "execution_count": 3,
   "metadata": {},
   "outputs": [
    {
     "data": {
      "text/plain": [
       "'Valle'"
      ]
     },
     "execution_count": 3,
     "metadata": {},
     "output_type": "execute_result"
    }
   ],
   "source": [
    "tuplav = (\"Nevado\", \"Río\", \"Valle\")\n",
    "\n",
    "a , b, c = tuplav\n",
    "\n",
    "a\n",
    "\n",
    "b\n",
    "\n",
    "c"
   ]
  },
  {
   "cell_type": "markdown",
   "metadata": {},
   "source": [
    "Puede utilizar tuplas para intercambiar valores en una sentencia sin utilizar una variable temporal:"
   ]
  },
  {
   "cell_type": "code",
   "execution_count": 13,
   "metadata": {},
   "outputs": [
    {
     "data": {
      "text/plain": [
       "'vainilla'"
      ]
     },
     "execution_count": 13,
     "metadata": {},
     "output_type": "execute_result"
    }
   ],
   "source": [
    "mensaje = \"natural\"\n",
    "helado = \"vainilla\"\n",
    "\n",
    "mensaje, helado = mensaje, helado\n",
    "\n",
    "mensaje\n",
    "\n",
    "helado"
   ]
  },
  {
   "cell_type": "markdown",
   "metadata": {},
   "source": [
    "## Crear tupla con `tuple()`\n",
    "\n",
    "Esta es la función para convertir en tuplas, otros elementos, como por ejemplo una lista se puede convertir en tupla con el uso de `tuple()`."
   ]
  },
  {
   "cell_type": "code",
   "execution_count": 14,
   "metadata": {},
   "outputs": [
    {
     "data": {
      "text/plain": [
       "('rojo', 'verde', 'azul')"
      ]
     },
     "execution_count": 14,
     "metadata": {},
     "output_type": "execute_result"
    }
   ],
   "source": [
    "mlista = [\"rojo\", \"verde\", \"azul\"]\n",
    "tuple(mlista)"
   ]
  },
  {
   "cell_type": "markdown",
   "metadata": {},
   "source": [
    "## Combinar tuplas usando +\n",
    "\n",
    "Las tuplas se combinan de manera similar a cuando combinamos strings."
   ]
  },
  {
   "cell_type": "code",
   "execution_count": 15,
   "metadata": {},
   "outputs": [
    {
     "data": {
      "text/plain": [
       "('Goole', 'Meta', 'Amazon')"
      ]
     },
     "execution_count": 15,
     "metadata": {},
     "output_type": "execute_result"
    }
   ],
   "source": [
    "(\"Goole\", ) + (\"Meta\", \"Amazon\") "
   ]
  },
  {
   "cell_type": "markdown",
   "metadata": {},
   "source": [
    "## Duplicar items con *"
   ]
  },
  {
   "cell_type": "code",
   "execution_count": 17,
   "metadata": {},
   "outputs": [
    {
     "data": {
      "text/plain": [
       "('Google', 'Google', 'Google')"
      ]
     },
     "execution_count": 17,
     "metadata": {},
     "output_type": "execute_result"
    }
   ],
   "source": [
    "(\"Google\",)*3"
   ]
  },
  {
   "cell_type": "markdown",
   "metadata": {},
   "source": [
    "## Comparar tuplas"
   ]
  },
  {
   "cell_type": "code",
   "execution_count": 21,
   "metadata": {},
   "outputs": [
    {
     "data": {
      "text/plain": [
       "True"
      ]
     },
     "execution_count": 21,
     "metadata": {},
     "output_type": "execute_result"
    }
   ],
   "source": [
    "t1 = (4, 2)\n",
    "t2 = (1, 2, 3)\n",
    "\n",
    "t1 == t2\n",
    "\n",
    "t1 <= t2\n",
    "\n",
    "t2 < t1"
   ]
  },
  {
   "cell_type": "markdown",
   "metadata": {},
   "source": [
    "## Acceder a los elementos de una Tupla"
   ]
  },
  {
   "cell_type": "code",
   "execution_count": 162,
   "metadata": {},
   "outputs": [
    {
     "data": {
      "text/plain": [
       "'Valle'"
      ]
     },
     "execution_count": 162,
     "metadata": {},
     "output_type": "execute_result"
    }
   ],
   "source": [
    "tuplav = (\"Nevado\", \"Río\", \"Valle\")\n",
    "\n",
    "tuplav[0]\n",
    "tuplav[0:2]\n",
    "tuplav[-1]"
   ]
  },
  {
   "cell_type": "code",
   "execution_count": 10,
   "metadata": {},
   "outputs": [
    {
     "ename": "IndexError",
     "evalue": "tuple index out of range",
     "output_type": "error",
     "traceback": [
      "\u001b[0;31m---------------------------------------------------------------------------\u001b[0m",
      "\u001b[0;31mIndexError\u001b[0m                                Traceback (most recent call last)",
      "Cell \u001b[0;32mIn[10], line 3\u001b[0m\n\u001b[1;32m      1\u001b[0m tuplae \u001b[38;5;241m=\u001b[39m (\u001b[38;5;124m\"\u001b[39m\u001b[38;5;124mNevado\u001b[39m\u001b[38;5;124m\"\u001b[39m, \u001b[38;5;124m\"\u001b[39m\u001b[38;5;124mRío\u001b[39m\u001b[38;5;124m\"\u001b[39m, \u001b[38;5;124m\"\u001b[39m\u001b[38;5;124mValle\u001b[39m\u001b[38;5;124m\"\u001b[39m)\n\u001b[0;32m----> 3\u001b[0m \u001b[43mtuplae\u001b[49m\u001b[43m[\u001b[49m\u001b[38;5;241;43m6\u001b[39;49m\u001b[43m]\u001b[49m\n\u001b[1;32m      4\u001b[0m tuplae[\u001b[38;5;241m-\u001b[39m\u001b[38;5;241m4\u001b[39m]\n",
      "\u001b[0;31mIndexError\u001b[0m: tuple index out of range"
     ]
    }
   ],
   "source": [
    "tuplae = (\"Nevado\", \"Río\", \"Valle\")\n",
    "\n",
    "tuplae[6]\n",
    "tuplae[-4]"
   ]
  },
  {
   "cell_type": "markdown",
   "metadata": {},
   "source": [
    "# Métodos para las tuplas\n",
    "\n",
    "* `len()`: Cuenta el número de elementos en la tupla.\n",
    "* `count()`: Cuenta cuántas veces aparece un valor específico en la tupla.\n",
    "* `max()`: Devuelve el valor más grande de la tupla.\n",
    "* `min()`: Devuelve el valor más pequeño de la tupla.\n",
    "* `sum()`: Devuelve la suma total de los elementos numéricos de la tupla."
   ]
  },
  {
   "cell_type": "code",
   "execution_count": 163,
   "metadata": {},
   "outputs": [
    {
     "data": {
      "text/plain": [
       "3"
      ]
     },
     "execution_count": 163,
     "metadata": {},
     "output_type": "execute_result"
    }
   ],
   "source": [
    "tuplav = (\"Nevado\", \"Río\", \"Valle\")\n",
    "len(tuplav)"
   ]
  },
  {
   "cell_type": "code",
   "execution_count": 164,
   "metadata": {},
   "outputs": [
    {
     "data": {
      "text/plain": [
       "2"
      ]
     },
     "execution_count": 164,
     "metadata": {},
     "output_type": "execute_result"
    }
   ],
   "source": [
    "tuplav = (\"Nevado\", \"Río\", \"Valle\", \"Río\")\n",
    "tuplav.count(\"Río\")"
   ]
  },
  {
   "cell_type": "code",
   "execution_count": 166,
   "metadata": {},
   "outputs": [
    {
     "data": {
      "text/plain": [
       "'Valle'"
      ]
     },
     "execution_count": 11,
     "metadata": {},
     "output_type": "execute_result"
    }
   ],
   "source": [
    "tuplav = (\"Nevado\", \"Río\", \"Valle\", \"Río\")\n",
    "max(tuplav)\n",
    "\n",
    "tuplan = (5, 8, 2, 56, 3)\n",
    "max(tuplan)"
   ]
  },
  {
   "cell_type": "code",
   "execution_count": 173,
   "metadata": {},
   "outputs": [
    {
     "data": {
      "text/plain": [
       "2"
      ]
     },
     "execution_count": 173,
     "metadata": {},
     "output_type": "execute_result"
    }
   ],
   "source": [
    "tuplav = (\"Nevado\", \"Río\", \"Valle\", \"Río\")\n",
    "min(tuplav)\n",
    "\n",
    "tuplan = (5, 8, 2, 56, 3)\n",
    "min(tuplan)"
   ]
  },
  {
   "cell_type": "code",
   "execution_count": 171,
   "metadata": {},
   "outputs": [
    {
     "data": {
      "text/plain": [
       "74"
      ]
     },
     "execution_count": 171,
     "metadata": {},
     "output_type": "execute_result"
    }
   ],
   "source": [
    "tuplan = (5, 8, 2, 56, 3)\n",
    "sum(tuplan)"
   ]
  },
  {
   "cell_type": "markdown",
   "metadata": {},
   "source": [
    "## Iterar con `for` y `in`"
   ]
  },
  {
   "cell_type": "code",
   "execution_count": 22,
   "metadata": {},
   "outputs": [
    {
     "name": "stdout",
     "output_type": "stream",
     "text": [
      "preplejo\n",
      "voraz\n",
      "bizarro\n"
     ]
    }
   ],
   "source": [
    "palabras = (\"preplejo\", \"voraz\", \"bizarro\")\n",
    "\n",
    "for palabra in palabras:\n",
    "    print(palabra)"
   ]
  },
  {
   "cell_type": "markdown",
   "metadata": {},
   "source": [
    "## Modificar una tupla\n",
    "\n",
    "**Las tuplas NO se pueden modificar, son objetos inmutables**, por lo tanto no se puede modificar una tupla ya existente.\n",
    "\n",
    "Las tuplas pueden concatenarse (combinar) entre ellas para crear una nueva tupla.\n",
    "\n",
    "\n",
    "Los códigos a continuación, muestran que Python asigna identificadores `id()` diferentes a la tupla `tu1 = ('Fee', 'Fie', 'Foe')` y para la tupla `tu1 += tu2`. Python hace una nueva tupla a partir de las tuplas originales y le asigna el nombre de `tu1`."
   ]
  },
  {
   "cell_type": "code",
   "execution_count": 17,
   "metadata": {},
   "outputs": [
    {
     "data": {
      "text/plain": [
       "129500959798592"
      ]
     },
     "execution_count": 17,
     "metadata": {},
     "output_type": "execute_result"
    }
   ],
   "source": [
    "tu1 = ('Fee', 'Fie', 'Foe')\n",
    "tu2 = ('Flop',)\n",
    "id(tu1)"
   ]
  },
  {
   "cell_type": "code",
   "execution_count": 18,
   "metadata": {},
   "outputs": [
    {
     "data": {
      "text/plain": [
       "129500960211728"
      ]
     },
     "execution_count": 18,
     "metadata": {},
     "output_type": "execute_result"
    }
   ],
   "source": [
    "tu1 += tu2\n",
    "tu1\n",
    "id(tu1)"
   ]
  },
  {
   "cell_type": "markdown",
   "metadata": {},
   "source": [
    "# Listas\n",
    "\n",
    "Las listas son buenas para rastrear información dado un orden, especialmente cuando orden de los elementos podría cambiar. A diferencia que los strings y las tuplas, las listas son **mutables**, es decir que puede modificar una lista, añadir nuevos elementos y eliminar o sustituir elementos existentes. El mismo valor puede aparecer más de una vez en una lista.\n",
    "\n",
    "La sintáxis para crear una lista está dada por el uso de los corchetes `[]` para definir la lista y el uso de las comas que para separar los elementos contenidos dentro de la lista."
   ]
  },
  {
   "cell_type": "code",
   "execution_count": 35,
   "metadata": {},
   "outputs": [],
   "source": [
    "listavacia = []\n",
    "\n",
    "listadias = [\"Lunes\", \"Martes\", \"Miercoles\"]\n",
    "\n",
    "nombres = [\"Sofía\", \"Karla\", \"Tim\", \"Sofia\"]\n",
    "\n",
    "nlista = [\"Python\", [1, 4, 2], (\"norte\", \"sur\"), 9.5]"
   ]
  },
  {
   "cell_type": "markdown",
   "metadata": {},
   "source": [
    "La lista `nombres` muestra que los valores no deben ser únicos.\n",
    "\n",
    "Los elementos de una lista pueden ser de cualquier tipo (string, float, entero, lista, tupla, diccionario, etc)"
   ]
  },
  {
   "cell_type": "markdown",
   "metadata": {},
   "source": [
    "## Crear o convertir con `list()`\n",
    "\n",
    "La función `list()` puede crear listas vacías. También permite convertir otros tipos de datos iterables como tuplas, strings, sets y diccionarios a listas."
   ]
  },
  {
   "cell_type": "code",
   "execution_count": 38,
   "metadata": {},
   "outputs": [
    {
     "data": {
      "text/plain": [
       "[]"
      ]
     },
     "execution_count": 38,
     "metadata": {},
     "output_type": "execute_result"
    }
   ],
   "source": [
    "lvacia = list()\n",
    "lvacia"
   ]
  },
  {
   "cell_type": "code",
   "execution_count": 39,
   "metadata": {},
   "outputs": [
    {
     "data": {
      "text/plain": [
       "['M.Bros', 'Zelda', 'RE2']"
      ]
     },
     "execution_count": 39,
     "metadata": {},
     "output_type": "execute_result"
    }
   ],
   "source": [
    "# convertir una tupla en una lista\n",
    "vjuegos = (\"M.Bros\", \"Zelda\", \"RE2\")\n",
    "list(vjuegos)"
   ]
  },
  {
   "cell_type": "code",
   "execution_count": 41,
   "metadata": {},
   "outputs": [
    {
     "data": {
      "text/plain": [
       "['19', '02', '2021']"
      ]
     },
     "execution_count": 41,
     "metadata": {},
     "output_type": "execute_result"
    }
   ],
   "source": [
    "# crear una lista a partir de un string\n",
    "fecha = \"19/02/2021\"\n",
    "fecha.split(\"/\")"
   ]
  },
  {
   "cell_type": "markdown",
   "metadata": {},
   "source": [
    "## Obtener los elementos de una lista o subconjuntos de ellos\n",
    "\n",
    "Al igual que los string, las litas tienen índices asignados para la posición de cada uno de sus elementos, por lo tanto es posible extraer uno o más elementos de la lista especificando su índice. El índice a obtener debe estar dentro del rango de valores de la lista, de lo contrario arrojará un error."
   ]
  },
  {
   "cell_type": "code",
   "execution_count": 20,
   "metadata": {},
   "outputs": [
    {
     "name": "stdout",
     "output_type": "stream",
     "text": [
      "Python\n",
      "('norte', 'sur')\n",
      "9.5\n"
     ]
    },
    {
     "ename": "IndexError",
     "evalue": "list index out of range",
     "output_type": "error",
     "traceback": [
      "\u001b[0;31m---------------------------------------------------------------------------\u001b[0m",
      "\u001b[0;31mIndexError\u001b[0m                                Traceback (most recent call last)",
      "Cell \u001b[0;32mIn[20], line 9\u001b[0m\n\u001b[1;32m      5\u001b[0m \u001b[38;5;28mprint\u001b[39m(nlista[\u001b[38;5;241m2\u001b[39m])\n\u001b[1;32m      7\u001b[0m \u001b[38;5;28mprint\u001b[39m(nlista[\u001b[38;5;241m-\u001b[39m\u001b[38;5;241m1\u001b[39m])\n\u001b[0;32m----> 9\u001b[0m \u001b[38;5;28mprint\u001b[39m(\u001b[43mnlista\u001b[49m\u001b[43m[\u001b[49m\u001b[38;5;241;43m8\u001b[39;49m\u001b[43m]\u001b[49m)\n",
      "\u001b[0;31mIndexError\u001b[0m: list index out of range"
     ]
    }
   ],
   "source": [
    "nlista = [\"Python\", [1, 4, 2], (\"norte\", \"sur\"), 9.5]\n",
    "\n",
    "print(nlista[0])\n",
    "\n",
    "print(nlista[2])\n",
    "\n",
    "print(nlista[-1])\n",
    "\n",
    "print(nlista[8])\n"
   ]
  },
  {
   "cell_type": "markdown",
   "metadata": {},
   "source": [
    "Al igual que con los string, cuando deseamos obtener un subconjunto de valores, si ingresamos un valor que está fuera del rango de la lista, no vamos a obtener un error, por el cotrario el resultado va a ser un elemento vacío."
   ]
  },
  {
   "cell_type": "code",
   "execution_count": 21,
   "metadata": {},
   "outputs": [
    {
     "name": "stdout",
     "output_type": "stream",
     "text": [
      "['Python', [1, 4, 2]]\n",
      "['Python', ('norte', 'sur')]\n",
      "[9.5, [1, 4, 2]]\n",
      "[]\n",
      "['Python', [1, 4, 2], ('norte', 'sur'), 9.5]\n",
      "[]\n"
     ]
    }
   ],
   "source": [
    "nlista = [\"Python\", [1, 4, 2], (\"norte\", \"sur\"), 9.5]\n",
    "\n",
    "print(nlista[0:2])\n",
    "\n",
    "print(nlista[::2])\n",
    "\n",
    "print(nlista[::-2])\n",
    "\n",
    "print(nlista[4:])\n",
    "\n",
    "print(nlista[-5:])\n",
    "\n",
    "print(nlista[:10:-2])"
   ]
  },
  {
   "cell_type": "code",
   "execution_count": 23,
   "metadata": {},
   "outputs": [
    {
     "name": "stdout",
     "output_type": "stream",
     "text": [
      "['Python', [1, 4, 2], ('norte', 'sur'), 9.5]\n",
      "['Python', [1, 4, 2], ('norte', 'sur'), 9.5]\n"
     ]
    }
   ],
   "source": [
    "nlista = [\"Python\", [1, 4, 2], (\"norte\", \"sur\"), 9.5]\n",
    "# cuando usamos el step -1 obtenemos los elementos de la lista en orden inverso.\n",
    "# la lista no sufre cambios, sólo returna los elementos.\n",
    "print(nlista[::-1])\n",
    "\n",
    "# otra forma de obtener el orden inverso de la lista\n",
    "# A diferencia del caso anterior, esta función si modifica la lista.\n",
    "nlista.reverse()\n",
    "print(nlista)"
   ]
  },
  {
   "cell_type": "markdown",
   "metadata": {},
   "source": [
    "## `append()`\n",
    "\n",
    "La forma más común de agregar items a una lista es con esta función, la cual agrega los elementos al final de la lista."
   ]
  },
  {
   "cell_type": "code",
   "execution_count": 58,
   "metadata": {},
   "outputs": [
    {
     "data": {
      "text/plain": [
       "['M.Bros', 'Zelda', 'RE2', 'Donkey Kong']"
      ]
     },
     "execution_count": 58,
     "metadata": {},
     "output_type": "execute_result"
    }
   ],
   "source": [
    "lvjuegos = [\"M.Bros\", \"Zelda\", \"RE2\"]\n",
    "\n",
    "lvjuegos.append(\"Donkey Kong\")\n",
    "\n",
    "lvjuegos"
   ]
  },
  {
   "cell_type": "markdown",
   "metadata": {},
   "source": [
    "## `insert()`\n",
    "\n",
    "La función `append()` agrega los elementos al final de la lista, pero cuando deseamos agregar un elemento en cualquier posición de la lista, usamos `insert()`."
   ]
  },
  {
   "cell_type": "code",
   "execution_count": 61,
   "metadata": {},
   "outputs": [
    {
     "data": {
      "text/plain": [
       "['M.Bros', 'F Zero', 'Zelda', 'RE2', 'Castlevania']"
      ]
     },
     "execution_count": 61,
     "metadata": {},
     "output_type": "execute_result"
    }
   ],
   "source": [
    "lvjuegos = [\"M.Bros\", \"Zelda\", \"RE2\"]\n",
    "\n",
    "lvjuegos.insert(1, \"F Zero\")\n",
    "\n",
    "lvjuegos\n",
    "\n",
    "# si usamos un índice superior al de la longitud de la lista\n",
    "# el elemento se agrega al final.\n",
    "\n",
    "lvjuegos.insert(7, \"Castlevania\")\n",
    "\n",
    "lvjuegos"
   ]
  },
  {
   "cell_type": "markdown",
   "metadata": {},
   "source": [
    "## Duplicar todos los items con *"
   ]
  },
  {
   "cell_type": "code",
   "execution_count": 63,
   "metadata": {},
   "outputs": [
    {
     "data": {
      "text/plain": [
       "['Campos',\n",
       " 'Regreso',\n",
       " 'Sesgo',\n",
       " 'Campos',\n",
       " 'Regreso',\n",
       " 'Sesgo',\n",
       " 'Campos',\n",
       " 'Regreso',\n",
       " 'Sesgo']"
      ]
     },
     "execution_count": 63,
     "metadata": {},
     "output_type": "execute_result"
    }
   ],
   "source": [
    "[\"Campos\", \"Regreso\", \"Sesgo\"]*3"
   ]
  },
  {
   "cell_type": "markdown",
   "metadata": {},
   "source": [
    "## Combinar listas usando `extend()` o `+`\n",
    "\n",
    "Es posible fusionar una lista con otra utilizando `extend()`."
   ]
  },
  {
   "cell_type": "code",
   "execution_count": 66,
   "metadata": {},
   "outputs": [
    {
     "data": {
      "text/plain": [
       "['Diana', 'Selena', 'Lola', 'Sofia', 'Regina']"
      ]
     },
     "execution_count": 66,
     "metadata": {},
     "output_type": "execute_result"
    }
   ],
   "source": [
    "nombres1 = [\"Diana\", \"Selena\", \"Lola\"]\n",
    "\n",
    "nombres2 = [\"Sofia\", \"Regina\"]\n",
    "\n",
    "nombres1.extend(nombres2)\n",
    "\n",
    "nombres1"
   ]
  },
  {
   "cell_type": "markdown",
   "metadata": {},
   "source": [
    "De manera alterna, podemos usar `+` o `+=`"
   ]
  },
  {
   "cell_type": "code",
   "execution_count": 67,
   "metadata": {},
   "outputs": [
    {
     "data": {
      "text/plain": [
       "['Diana', 'Selena', 'Lola', 'Sofia', 'Regina']"
      ]
     },
     "execution_count": 67,
     "metadata": {},
     "output_type": "execute_result"
    }
   ],
   "source": [
    "nombres1 = [\"Diana\", \"Selena\", \"Lola\"]\n",
    "\n",
    "nombres2 = [\"Sofia\", \"Regina\"]\n",
    "\n",
    "nombres1 += nombres2\n",
    "\n",
    "nombres1"
   ]
  },
  {
   "cell_type": "markdown",
   "metadata": {},
   "source": [
    "> Note lo que ocurre en sl siguiente fragmento de código. Si usamos `append()` para agregar una lista a otra ya creada, se agrega la lista como un elemento de la otra lista, no se agregan los elementos de la lista.\n",
    "> Agregar elementos a una lista es totalmente diferente a agregar una lista como elemento de otra lista."
   ]
  },
  {
   "cell_type": "code",
   "execution_count": 72,
   "metadata": {},
   "outputs": [
    {
     "data": {
      "text/plain": [
       "['Diana', 'Selena', 'Lola', ['Sofia', 'Regina']]"
      ]
     },
     "execution_count": 72,
     "metadata": {},
     "output_type": "execute_result"
    }
   ],
   "source": [
    "nombres1 = [\"Diana\", \"Selena\", \"Lola\"]\n",
    "\n",
    "nombres2 = [\"Sofia\", \"Regina\"]\n",
    "\n",
    "nombres1.append(nombres2)\n",
    "\n",
    "nombres1"
   ]
  },
  {
   "cell_type": "markdown",
   "metadata": {},
   "source": [
    "## Editar un elemento de la lista\n",
    "\n",
    "Así como puedes obtener un elemento de la lista mediante su índice, puedes editarlo o cambiar su valor."
   ]
  },
  {
   "cell_type": "code",
   "execution_count": 74,
   "metadata": {},
   "outputs": [
    {
     "data": {
      "text/plain": [
       "['M.Bros', 'Pac Man', 'RE2']"
      ]
     },
     "execution_count": 74,
     "metadata": {},
     "output_type": "execute_result"
    }
   ],
   "source": [
    "lvjuegos = [\"M.Bros\", \"Zelda\", \"RE2\"]\n",
    "\n",
    "lvjuegos[1] = \"Pac Man\"\n",
    "\n",
    "lvjuegos"
   ]
  },
  {
   "cell_type": "markdown",
   "metadata": {},
   "source": [
    "## Editar varios elementos de la lista"
   ]
  },
  {
   "cell_type": "code",
   "execution_count": 77,
   "metadata": {},
   "outputs": [
    {
     "data": {
      "text/plain": [
       "[1, 0, 10, 20, 5, 6]"
      ]
     },
     "execution_count": 77,
     "metadata": {},
     "output_type": "execute_result"
    }
   ],
   "source": [
    "numeros = [1, 2, 3, 4, 5, 6]\n",
    "numeros[1:4] = [0, 10, 20]\n",
    "numeros"
   ]
  },
  {
   "cell_type": "code",
   "execution_count": 75,
   "metadata": {},
   "outputs": [
    {
     "data": {
      "text/plain": [
       "[1, 0, 10, 5, 6]"
      ]
     },
     "execution_count": 75,
     "metadata": {},
     "output_type": "execute_result"
    }
   ],
   "source": [
    "numeros = [1, 2, 3, 4, 5, 6]\n",
    "numeros[1:4] = [0, 10]\n",
    "numeros\n"
   ]
  },
  {
   "cell_type": "code",
   "execution_count": 76,
   "metadata": {},
   "outputs": [
    {
     "data": {
      "text/plain": [
       "[1, 0, 10, 15, 4, 5, 6]"
      ]
     },
     "execution_count": 76,
     "metadata": {},
     "output_type": "execute_result"
    }
   ],
   "source": [
    "numeros = [1, 2, 3, 4, 5, 6]\n",
    "numeros[1:3] = [0, 10, 15]\n",
    "numeros"
   ]
  },
  {
   "cell_type": "markdown",
   "metadata": {},
   "source": [
    "En los ejemplos anteriores, podemos ver que no es necesario que el número de elementos sea igual al subconjunto indicado, Python agregará los elementos de igual manera."
   ]
  },
  {
   "cell_type": "markdown",
   "metadata": {},
   "source": [
    "En el siguiente ejemplo, podemos ver que los elementos que se van a editar, no necesariamente deben tener el formato de lista, puede ser cualquier elemento iterable."
   ]
  },
  {
   "cell_type": "code",
   "execution_count": 79,
   "metadata": {},
   "outputs": [
    {
     "data": {
      "text/plain": [
       "[1, 0, 10, 15, 4, 5, 6]"
      ]
     },
     "execution_count": 79,
     "metadata": {},
     "output_type": "execute_result"
    }
   ],
   "source": [
    "numeros = [1, 2, 3, 4, 5, 6]\n",
    "numeros[1:3] = (0, 10, 15)\n",
    "numeros"
   ]
  },
  {
   "cell_type": "code",
   "execution_count": 81,
   "metadata": {},
   "outputs": [
    {
     "data": {
      "text/plain": [
       "[1, 's', 'e', 'r', 4, 5, 6]"
      ]
     },
     "execution_count": 81,
     "metadata": {},
     "output_type": "execute_result"
    }
   ],
   "source": [
    "numeros = [1, 2, 3, 4, 5, 6]\n",
    "numeros[1:3] = \"ser\"\n",
    "numeros"
   ]
  },
  {
   "cell_type": "code",
   "execution_count": null,
   "metadata": {},
   "outputs": [
    {
     "ename": "TypeError",
     "evalue": "can only assign an iterable",
     "output_type": "error",
     "traceback": [
      "\u001b[0;31m---------------------------------------------------------------------------\u001b[0m",
      "\u001b[0;31mTypeError\u001b[0m                                 Traceback (most recent call last)",
      "Cell \u001b[0;32mIn[82], line 2\u001b[0m\n\u001b[1;32m      1\u001b[0m numeros \u001b[38;5;241m=\u001b[39m [\u001b[38;5;241m1\u001b[39m, \u001b[38;5;241m2\u001b[39m, \u001b[38;5;241m3\u001b[39m, \u001b[38;5;241m4\u001b[39m, \u001b[38;5;241m5\u001b[39m, \u001b[38;5;241m6\u001b[39m]\n\u001b[0;32m----> 2\u001b[0m \u001b[43mnumeros\u001b[49m\u001b[43m[\u001b[49m\u001b[38;5;241;43m1\u001b[39;49m\u001b[43m:\u001b[49m\u001b[38;5;241;43m3\u001b[39;49m\u001b[43m]\u001b[49m \u001b[38;5;241m=\u001b[39m \u001b[38;5;28;01mTrue\u001b[39;00m\n\u001b[1;32m      3\u001b[0m numeros\n",
      "\u001b[0;31mTypeError\u001b[0m: can only assign an iterable"
     ]
    }
   ],
   "source": [
    "# en este caso True es un objeto boleano, no iterable\n",
    "numeros = [1, 2, 3, 4, 5, 6]\n",
    "numeros[1:3] = True\n",
    "numeros"
   ]
  },
  {
   "cell_type": "markdown",
   "metadata": {},
   "source": [
    "## Eliminar un elemento con `del`\n",
    "\n",
    "Cuando eliminas un elemento por su posición en la lista, los elementos que le siguen retroceden para ocupar el espacio del elemento eliminado, y la longitud de la lista disminuye en uno. "
   ]
  },
  {
   "cell_type": "code",
   "execution_count": 83,
   "metadata": {},
   "outputs": [
    {
     "data": {
      "text/plain": [
       "['M.Bros', 'Zelda']"
      ]
     },
     "execution_count": 83,
     "metadata": {},
     "output_type": "execute_result"
    }
   ],
   "source": [
    "lvjuegos = [\"M.Bros\", \"Zelda\", \"RE2\"]\n",
    "\n",
    "del lvjuegos[-1]\n",
    "\n",
    "lvjuegos"
   ]
  },
  {
   "cell_type": "code",
   "execution_count": 84,
   "metadata": {},
   "outputs": [
    {
     "data": {
      "text/plain": [
       "['M.Bros', 'RE2']"
      ]
     },
     "execution_count": 84,
     "metadata": {},
     "output_type": "execute_result"
    }
   ],
   "source": [
    "lvjuegos = [\"M.Bros\", \"Zelda\", \"RE2\"]\n",
    "\n",
    "del lvjuegos[1]\n",
    "\n",
    "lvjuegos"
   ]
  },
  {
   "cell_type": "markdown",
   "metadata": {},
   "source": [
    "`del` es una sentencia Python, no un método de lista, no se usa como `lista[-1].del()`. Es algo así como el inverso de la asignación `=`, puede liberar la memoria del objeto."
   ]
  },
  {
   "cell_type": "markdown",
   "metadata": {},
   "source": [
    "## Elimina un elemento\n",
    "\n",
    "Cuando no se esta seguro o no es importante la ubicación (índice) del elemento en la lista, es bueno utilizar `remove()` para borrarlo indicando el valor.\n",
    "\n",
    "Si hay valores duplicados con el mismo nombre, sólo se borrará el primer elemento que encuentre."
   ]
  },
  {
   "cell_type": "code",
   "execution_count": 24,
   "metadata": {},
   "outputs": [
    {
     "data": {
      "text/plain": [
       "['M.Bros', 'RE2', 'Zelda']"
      ]
     },
     "execution_count": 24,
     "metadata": {},
     "output_type": "execute_result"
    }
   ],
   "source": [
    "lvjuegos = [\"M.Bros\", \"Zelda\", \"RE2\", \"Zelda\"]\n",
    "\n",
    "lvjuegos.remove(\"Zelda\")\n",
    "\n",
    "lvjuegos"
   ]
  },
  {
   "cell_type": "markdown",
   "metadata": {},
   "source": [
    "## Obtener un elemento y eliminarlo con `pop()`\n",
    "\n",
    "Se puede obtener un elemento de una lista y eliminarlo de ella al mismo tiempo usando `pop().`. Si no se le pasa un argumento, se elimina el último elemento de la lista.\n",
    "\n",
    "Para eliminar un elemento en específico, se debe indicar el índice del elemento que se desea eliminar."
   ]
  },
  {
   "cell_type": "code",
   "execution_count": 6,
   "metadata": {},
   "outputs": [
    {
     "data": {
      "text/plain": [
       "'Wild Guns'"
      ]
     },
     "execution_count": 6,
     "metadata": {},
     "output_type": "execute_result"
    }
   ],
   "source": [
    "lvjuegos = [\"M.Bros\", \"Zelda\", \"RE2\", \"Wild Guns\"]\n",
    "\n",
    "lvjuegos.pop()"
   ]
  },
  {
   "cell_type": "code",
   "execution_count": 7,
   "metadata": {},
   "outputs": [
    {
     "data": {
      "text/plain": [
       "['M.Bros', 'RE2', 'Wild Guns']"
      ]
     },
     "execution_count": 7,
     "metadata": {},
     "output_type": "execute_result"
    }
   ],
   "source": [
    "lvjuegos = [\"M.Bros\", \"Zelda\", \"RE2\", \"Wild Guns\"]\n",
    "\n",
    "lvjuegos.pop(1)\n",
    "\n",
    "lvjuegos"
   ]
  },
  {
   "cell_type": "markdown",
   "metadata": {},
   "source": [
    "## Eliminar todos los elementos con `clear()`\n",
    "\n",
    "Elimina todos los elementos, dejando la lista vacía."
   ]
  },
  {
   "cell_type": "code",
   "execution_count": 92,
   "metadata": {},
   "outputs": [
    {
     "data": {
      "text/plain": [
       "[]"
      ]
     },
     "execution_count": 92,
     "metadata": {},
     "output_type": "execute_result"
    }
   ],
   "source": [
    "lvjuegos = [\"M.Bros\", \"Zelda\", \"RE2\", \"Wild Guns\"]\n",
    "\n",
    "lvjuegos.clear()\n",
    "\n",
    "lvjuegos"
   ]
  },
  {
   "cell_type": "markdown",
   "metadata": {},
   "source": [
    "## Busca un elemento con `index()` a través de su valor\n",
    "\n",
    "Esta función retorna el índice dentro de la lista de un elemento en particular.\n",
    "\n",
    "Si el valor está en la lista más de una vez, sólo arroja el índice del primer elemento encontrado."
   ]
  },
  {
   "cell_type": "code",
   "execution_count": 94,
   "metadata": {},
   "outputs": [
    {
     "data": {
      "text/plain": [
       "2"
      ]
     },
     "execution_count": 94,
     "metadata": {},
     "output_type": "execute_result"
    }
   ],
   "source": [
    "lvjuegos = [\"M.Bros\", \"Zelda\", \"RE2\", \"Wild Guns\"]\n",
    "\n",
    "lvjuegos.index(\"RE2\")"
   ]
  },
  {
   "cell_type": "markdown",
   "metadata": {},
   "source": [
    "## Validar si un elemento se encuentra en una lista"
   ]
  },
  {
   "cell_type": "code",
   "execution_count": 95,
   "metadata": {},
   "outputs": [
    {
     "data": {
      "text/plain": [
       "True"
      ]
     },
     "execution_count": 95,
     "metadata": {},
     "output_type": "execute_result"
    }
   ],
   "source": [
    "lvjuegos = [\"M.Bros\", \"Zelda\", \"RE2\", \"Wild Guns\"]\n",
    "\n",
    "\"RE2\" in lvjuegos"
   ]
  },
  {
   "cell_type": "markdown",
   "metadata": {},
   "source": [
    "## Contar apariciones de un valor con `count()`\n",
    "\n",
    "Esto cuenta el número de veces que aparece en una lista, un valor en particular."
   ]
  },
  {
   "cell_type": "code",
   "execution_count": 96,
   "metadata": {},
   "outputs": [
    {
     "data": {
      "text/plain": [
       "3"
      ]
     },
     "execution_count": 96,
     "metadata": {},
     "output_type": "execute_result"
    }
   ],
   "source": [
    "deportes = [\"Baloncesto\", \"Rugby\", \"Tenis\", \"Baloncesto\", \"Patinaje\", \"Fútbol\", \"Tenis\", \"Tenis\"]\n",
    "\n",
    "deportes.count(\"Tenis\")"
   ]
  },
  {
   "cell_type": "markdown",
   "metadata": {},
   "source": [
    "## Convertir una lista en un string con `join()`\n",
    "\n",
    "El argumento de `join()` es un string o cualquier secuencia iterable de strings incluidas las listas, su resultado es un string.\n",
    "\n",
    "> `join()` es el opuesto de `split()`"
   ]
  },
  {
   "cell_type": "code",
   "execution_count": 8,
   "metadata": {},
   "outputs": [
    {
     "data": {
      "text/plain": [
       "'M.Bros/Zelda/RE2/Wild Guns'"
      ]
     },
     "execution_count": 8,
     "metadata": {},
     "output_type": "execute_result"
    }
   ],
   "source": [
    "lvjuegos = [\"M.Bros\", \"Zelda\", \"RE2\", \"Wild Guns\"]\n",
    "\n",
    "\"/\".join(lvjuegos)"
   ]
  },
  {
   "cell_type": "code",
   "execution_count": 98,
   "metadata": {},
   "outputs": [
    {
     "data": {
      "text/plain": [
       "'M.Bros*Zelda*RE2*Wild Guns'"
      ]
     },
     "execution_count": 98,
     "metadata": {},
     "output_type": "execute_result"
    }
   ],
   "source": [
    "lvjuegos = [\"M.Bros\", \"Zelda\", \"RE2\", \"Wild Guns\"]\n",
    "\n",
    "separador = \"*\"\n",
    "separador.join(lvjuegos)"
   ]
  },
  {
   "cell_type": "markdown",
   "metadata": {},
   "source": [
    "## Reorganizar los elementos con `sort()` o `sorted()`\n",
    "\n",
    "* El método `sort()` ordena la lista, en su lugar. Modifica la lista. El argumento por defecto es ordenar de manera ascendente, pero es posible hacerlo de manera descendente mediante el argumento `reverse = True`.\n",
    "\n",
    "* La función general `sorted()` devuelve una copia ordenada de la lista. Esto no modifica la lista original.\n",
    "  \n",
    "Si los elementos de la lista son numéricos, se ordenan por defecto en orden ascendente. Si son cadenas, se ordenan por orden alfabético."
   ]
  },
  {
   "cell_type": "code",
   "execution_count": 102,
   "metadata": {},
   "outputs": [
    {
     "data": {
      "text/plain": [
       "[2, 3, 7, 9, 10]"
      ]
     },
     "execution_count": 102,
     "metadata": {},
     "output_type": "execute_result"
    }
   ],
   "source": [
    "nums = [3, 9, 2, 7, 10]\n",
    "\n",
    "nums.sort()\n",
    "\n",
    "nums"
   ]
  },
  {
   "cell_type": "code",
   "execution_count": 113,
   "metadata": {},
   "outputs": [
    {
     "data": {
      "text/plain": [
       "[10, 9, 7, 3, 2]"
      ]
     },
     "execution_count": 113,
     "metadata": {},
     "output_type": "execute_result"
    }
   ],
   "source": [
    "nums = [3, 9, 2, 7, 10]\n",
    "\n",
    "nums.sort(reverse=True)\n",
    "\n",
    "nums"
   ]
  },
  {
   "cell_type": "code",
   "execution_count": 114,
   "metadata": {},
   "outputs": [
    {
     "data": {
      "text/plain": [
       "['sandalia', 'queso', 'lata', 'cielo']"
      ]
     },
     "execution_count": 114,
     "metadata": {},
     "output_type": "execute_result"
    }
   ],
   "source": [
    "palabs = [\"lata\", \"cielo\", \"sandalia\" , \"queso\"]\n",
    "\n",
    "palabs.sort(reverse=True)\n",
    "\n",
    "palabs"
   ]
  },
  {
   "cell_type": "code",
   "execution_count": 9,
   "metadata": {},
   "outputs": [
    {
     "data": {
      "text/plain": [
       "[2, 3, 7, 9, 10]"
      ]
     },
     "execution_count": 9,
     "metadata": {},
     "output_type": "execute_result"
    }
   ],
   "source": [
    "nums = [3, 9, 2, 7, 10]\n",
    "\n",
    "nuevo = sorted(nums)\n",
    "\n",
    "nums\n",
    "\n",
    "nuevo"
   ]
  },
  {
   "cell_type": "code",
   "execution_count": 10,
   "metadata": {},
   "outputs": [
    {
     "data": {
      "text/plain": [
       "['cielo', 'lata', 'queso', 'sandalia']"
      ]
     },
     "execution_count": 10,
     "metadata": {},
     "output_type": "execute_result"
    }
   ],
   "source": [
    "palabs = [\"lata\", \"cielo\", \"sandalia\" , \"queso\"]\n",
    "\n",
    "nuevas = sorted(palabs)\n",
    "\n",
    "palabs\n",
    "\n",
    "nuevas"
   ]
  },
  {
   "cell_type": "markdown",
   "metadata": {},
   "source": [
    "## Longitud de la lista `len()`\n",
    "\n",
    "Retorna el número de elementos de una lista."
   ]
  },
  {
   "cell_type": "code",
   "execution_count": 115,
   "metadata": {},
   "outputs": [
    {
     "data": {
      "text/plain": [
       "5"
      ]
     },
     "execution_count": 115,
     "metadata": {},
     "output_type": "execute_result"
    }
   ],
   "source": [
    "nums = [3, 9, 2, 7, 10]\n",
    "\n",
    "len(nums)"
   ]
  },
  {
   "cell_type": "markdown",
   "metadata": {},
   "source": [
    "## Asignar una Lista con `=` / Aliasing\n",
    "\n",
    "Cuando se asigna una lista a más de una variable, se presenta un fenómeno que se conoce como aliasing. Dos variables están asignadas con una misma estrucutura de datos mutable, en este caso, si se hace un cambio en una de las variables los cambios se verán reflejados en ambas variables ya que tienen asignada el mismo elemento."
   ]
  },
  {
   "cell_type": "code",
   "execution_count": 11,
   "metadata": {},
   "outputs": [],
   "source": [
    "a = [1, 2, 3]\n",
    "a\n",
    "b = a\n"
   ]
  },
  {
   "cell_type": "code",
   "execution_count": 12,
   "metadata": {},
   "outputs": [
    {
     "data": {
      "text/plain": [
       "['Sol', 2, 3]"
      ]
     },
     "execution_count": 12,
     "metadata": {},
     "output_type": "execute_result"
    }
   ],
   "source": [
    "a[0] = \"Sol\"\n",
    "\n",
    "a\n",
    "b"
   ]
  },
  {
   "cell_type": "markdown",
   "metadata": {},
   "source": [
    "En el ejemplo anterior `a` y `b` tienen asignada la misma lista, cuando se modifica el primer elemento de la lista `a[0] = \"Sol\"` el primer elemento de `b` también se modifica al mismo tiempo."
   ]
  },
  {
   "cell_type": "markdown",
   "metadata": {},
   "source": [
    "## Copiar o clonar una lista\n",
    "\n",
    "Es una operación en la que se crea una copia de un objeto de datos mutable.\n",
    "\n",
    "Es la manera correcta de copiar o clonar una lista, para evitar el efecto aliasing.\n",
    "\n",
    "La manera correcta de clonar o copiar una lista:\n",
    "\n",
    "* mediante la segmentación `[:]`\n",
    "* través de la función `list()`\n",
    "* con el método `copy()`\n"
   ]
  },
  {
   "cell_type": "code",
   "execution_count": 13,
   "metadata": {},
   "outputs": [
    {
     "data": {
      "text/plain": [
       "[1, 2, 3]"
      ]
     },
     "execution_count": 13,
     "metadata": {},
     "output_type": "execute_result"
    }
   ],
   "source": [
    "a = [1, 2, 3]\n",
    "b = a.copy()\n",
    "b"
   ]
  },
  {
   "cell_type": "code",
   "execution_count": 14,
   "metadata": {},
   "outputs": [
    {
     "data": {
      "text/plain": [
       "[1, 2, 3]"
      ]
     },
     "execution_count": 14,
     "metadata": {},
     "output_type": "execute_result"
    }
   ],
   "source": [
    "a = [1, 2, 3]\n",
    "c = list(a)\n",
    "c"
   ]
  },
  {
   "cell_type": "code",
   "execution_count": 15,
   "metadata": {},
   "outputs": [
    {
     "data": {
      "text/plain": [
       "[1, 2, 3]"
      ]
     },
     "execution_count": 15,
     "metadata": {},
     "output_type": "execute_result"
    }
   ],
   "source": [
    "a = [1, 2, 3]\n",
    "d = a[:]\n",
    "d"
   ]
  },
  {
   "cell_type": "markdown",
   "metadata": {},
   "source": [
    "Mediantes estas tres opciones se puede copiar una lista en una nueva variable totalmente independiente de la lista original. Así es posible realizar cambios en una u otra sin que se afecten al mismo tiempo."
   ]
  },
  {
   "cell_type": "markdown",
   "metadata": {},
   "source": [
    "## Copiar con `deepcopy()`"
   ]
  },
  {
   "cell_type": "code",
   "execution_count": null,
   "metadata": {},
   "outputs": [],
   "source": [
    "# en este caso tenemos una lista como elemento de a.\n",
    "a = [1, 2, 3, [10, \"gato\"]]\n",
    "b = a.copy()\n",
    "c = list(a)\n",
    "d = a[:]\n",
    "\n",
    "a[3][0] = \"perro\"\n",
    "a\n",
    "b\n",
    "c\n",
    "d"
   ]
  },
  {
   "cell_type": "markdown",
   "metadata": {},
   "source": [
    "En el ejemplo anterior vemos que a pesar de haber hecho la copia de la lista de manera correcta, al haber una lista dentro de la lista `a` los cambios que haga sobre ella, se ven reflejados en las otras listas, efecto aliasing a \"nivel más profundo\".\n",
    "\n",
    "Para evitar este efecto, es necesario hacer uso de el método `deepcopy()` de la biblioteca `copy`.\n",
    "\n",
    "`deepcopy()` permite manipular las listas, diccionarios y otros objetos que se encuentren anidados."
   ]
  },
  {
   "cell_type": "code",
   "execution_count": 133,
   "metadata": {},
   "outputs": [
    {
     "data": {
      "text/plain": [
       "[1, 2, 3, [10, 'gato']]"
      ]
     },
     "execution_count": 133,
     "metadata": {},
     "output_type": "execute_result"
    }
   ],
   "source": [
    "import copy\n",
    "\n",
    "a = [1, 2, 3, [10, \"gato\"]]\n",
    "\n",
    "b = copy.deepcopy(a)\n",
    "\n",
    "a[3][0] = \"perro\"\n",
    "\n",
    "a\n",
    "\n",
    "b"
   ]
  },
  {
   "cell_type": "markdown",
   "metadata": {},
   "source": [
    "## Comparar listas"
   ]
  },
  {
   "cell_type": "code",
   "execution_count": 134,
   "metadata": {},
   "outputs": [
    {
     "data": {
      "text/plain": [
       "True"
      ]
     },
     "execution_count": 134,
     "metadata": {},
     "output_type": "execute_result"
    }
   ],
   "source": [
    "a = [14, 8]\n",
    "b = [14, 8, 3]\n",
    "a == b\n",
    "a <= b\n",
    "a < b"
   ]
  },
  {
   "cell_type": "markdown",
   "metadata": {},
   "source": [
    "## Iterar con `for` y `in`"
   ]
  },
  {
   "cell_type": "code",
   "execution_count": 136,
   "metadata": {},
   "outputs": [
    {
     "name": "stdout",
     "output_type": "stream",
     "text": [
      "mundo abierto\n",
      "disparos\n",
      "aventura\n"
     ]
    }
   ],
   "source": [
    "vjuegos = [\"mundo abierto\", \"disparos\", \"aventura\"]\n",
    "\n",
    "for elemento in vjuegos:\n",
    "    print(elemento)"
   ]
  },
  {
   "cell_type": "code",
   "execution_count": 141,
   "metadata": {},
   "outputs": [
    {
     "name": "stdout",
     "output_type": "stream",
     "text": [
      "mundo abierto\n",
      "disparos\n",
      "Me gustan los video juegos de  aventura\n"
     ]
    }
   ],
   "source": [
    "vjuegos = [\"mundo abierto\", \"disparos\", \"aventura\"]\n",
    "\n",
    "for elemento in vjuegos:\n",
    "    if elemento.startswith(\"a\"):\n",
    "        print(\"Me gustan los video juegos de \", elemento)\n",
    "        break\n",
    "    else:\n",
    "        print(elemento)"
   ]
  },
  {
   "cell_type": "markdown",
   "metadata": {},
   "source": [
    "## Iteración en multiples secuencias con `zip()`"
   ]
  },
  {
   "cell_type": "code",
   "execution_count": 143,
   "metadata": {},
   "outputs": [
    {
     "name": "stdout",
     "output_type": "stream",
     "text": [
      "Menú del  Lun es:  Melón con  Jugo y  helado\n",
      "Menú del  Mar es:  Uva con  cerveza y  tiramisu\n",
      "Menú del  Mier es:  Kiwi con  Agua y  torta\n"
     ]
    }
   ],
   "source": [
    "dias = [\"Lun\", \"Mar\", \"Mier\", \"Jue\", \"Vie\"]\n",
    "frutas = [\"Melón\", \"Uva\", \"Kiwi\"]\n",
    "bebidas = [\"Jugo\", \"cerveza\", \"Agua\", \"Vino\"]\n",
    "postres = [\"helado\", \"tiramisu\", \"torta\"]\n",
    "\n",
    "for dia, fruta, bebida, postre in zip(dias, frutas, bebidas, postres):\n",
    "    print(\"Menú del \", dia, \"es: \", fruta, \"con \", bebida, \"y \", postre)"
   ]
  },
  {
   "cell_type": "markdown",
   "metadata": {},
   "source": [
    "`zip()` se detiene cuando la secuencia más corta es iterada.\n",
    "\n",
    "Esta función se puede usar para iterar sobre múltiples secuencias y hacer tuplas a partir de items en las iteraciones."
   ]
  },
  {
   "cell_type": "code",
   "execution_count": null,
   "metadata": {},
   "outputs": [
    {
     "data": {
      "text/plain": [
       "[('lunes', 'Monday'), ('martes', 'tuesday'), ('miercoles', 'wednesday')]"
      ]
     },
     "execution_count": 144,
     "metadata": {},
     "output_type": "execute_result"
    }
   ],
   "source": [
    "# crear tuplas\n",
    "espanol = \"lunes\", \"martes\", \"miercoles\"\n",
    "ingles = \"Monday\", \"tuesday\", \"wednesday\"\n",
    "\n",
    "# crear una lista de tuplas\n",
    "list(zip(espanol, ingles))"
   ]
  },
  {
   "cell_type": "code",
   "execution_count": 145,
   "metadata": {},
   "outputs": [
    {
     "data": {
      "text/plain": [
       "{'lunes': 'Monday', 'martes': 'tuesday', 'miercoles': 'wednesday'}"
      ]
     },
     "execution_count": 145,
     "metadata": {},
     "output_type": "execute_result"
    }
   ],
   "source": [
    "# crear un diccionario a partir de las lista de tuplas creada anteriormente.\n",
    "dict(list(zip(espanol, ingles)))"
   ]
  },
  {
   "cell_type": "code",
   "execution_count": 148,
   "metadata": {},
   "outputs": [
    {
     "data": {
      "text/plain": [
       "[1, 2, 3, 4, 5]"
      ]
     },
     "execution_count": 148,
     "metadata": {},
     "output_type": "execute_result"
    }
   ],
   "source": [
    "lista = list(range(1,6))\n",
    "lista"
   ]
  },
  {
   "cell_type": "markdown",
   "metadata": {},
   "source": [
    "## Crear una lista mediante iteraciones"
   ]
  },
  {
   "cell_type": "code",
   "execution_count": 146,
   "metadata": {},
   "outputs": [
    {
     "name": "stdout",
     "output_type": "stream",
     "text": [
      "[1]\n",
      "[1, 2]\n",
      "[1, 2, 3]\n",
      "[1, 2, 3, 4]\n",
      "[1, 2, 3, 4, 5]\n"
     ]
    }
   ],
   "source": [
    "lista = []\n",
    "\n",
    "for numero in range(1,6):\n",
    "    lista.append(numero)\n",
    "    print(lista)\n"
   ]
  },
  {
   "cell_type": "markdown",
   "metadata": {},
   "source": [
    "## Crear una lista mediante Comprensión (Comprehension)\n",
    "\n",
    "La forma más rápida de crear una lista es mediante **list comprehension**."
   ]
  },
  {
   "cell_type": "code",
   "execution_count": 150,
   "metadata": {},
   "outputs": [
    {
     "data": {
      "text/plain": [
       "[1, 2, 3, 4, 5]"
      ]
     },
     "execution_count": 150,
     "metadata": {},
     "output_type": "execute_result"
    }
   ],
   "source": [
    "milista = [numero for numero in range(1,6)]\n",
    "milista"
   ]
  },
  {
   "cell_type": "markdown",
   "metadata": {},
   "source": [
    "En la primera línea, el primer `numero` (la cual es una expresión) se usa para producir los valores que van en la lista `milista`. El segundo `numero` es parte de la iteración o del bucle for."
   ]
  },
  {
   "cell_type": "code",
   "execution_count": 151,
   "metadata": {},
   "outputs": [
    {
     "data": {
      "text/plain": [
       "[0, 1, 2, 3, 4]"
      ]
     },
     "execution_count": 151,
     "metadata": {},
     "output_type": "execute_result"
    }
   ],
   "source": [
    "milista = [numero-1 for numero in range(1,6)]\n",
    "milista"
   ]
  },
  {
   "cell_type": "markdown",
   "metadata": {},
   "source": [
    "La lista por comprensión recorre el bucle dentro de los corchetes. Una lista por comprensión puede incluir también sentencias condicionales if."
   ]
  },
  {
   "cell_type": "code",
   "execution_count": 16,
   "metadata": {},
   "outputs": [
    {
     "data": {
      "text/plain": [
       "[1, 3, 5]"
      ]
     },
     "execution_count": 16,
     "metadata": {},
     "output_type": "execute_result"
    }
   ],
   "source": [
    "milista = [numero for numero in range(1,6) if numero % 2 == 1]\n",
    "milista"
   ]
  },
  {
   "cell_type": "markdown",
   "metadata": {},
   "source": [
    "También pueden haber sentencia for anidadas."
   ]
  },
  {
   "cell_type": "code",
   "execution_count": 17,
   "metadata": {},
   "outputs": [
    {
     "data": {
      "text/plain": [
       "[(1, 1), (1, 2), (2, 1), (2, 2), (3, 1), (3, 2)]"
      ]
     },
     "execution_count": 17,
     "metadata": {},
     "output_type": "execute_result"
    }
   ],
   "source": [
    "filas = range(1,4)\n",
    "columnas = range(1,3)\n",
    "celdas = [(row, col) for row in filas for col in columnas]\n",
    "celdas\n"
   ]
  },
  {
   "cell_type": "markdown",
   "metadata": {},
   "source": [
    "## Listas de listas\n",
    "\n",
    "Como las listas pueden contener diferenten elementos, las listas pueden estar contenidas dentro de otras listas."
   ]
  },
  {
   "cell_type": "code",
   "execution_count": 18,
   "metadata": {},
   "outputs": [
    {
     "data": {
      "text/plain": [
       "[['gorrión', 'colibrí'],\n",
       " ['salmón', 'trucha', 'cachama', 'bocachico'],\n",
       " 'elefante',\n",
       " ['araña', 'zancudo', 'mosca']]"
      ]
     },
     "execution_count": 18,
     "metadata": {},
     "output_type": "execute_result"
    }
   ],
   "source": [
    "aves = [\"gorrión\", \"colibrí\"]\n",
    "peces = [\"salmón\", \"trucha\", \"cachama\", \"bocachico\"]\n",
    "insectos = [\"araña\", \"zancudo\", \"mosca\"]\n",
    "animales = [aves, peces, \"elefante\", insectos]\n",
    "animales"
   ]
  },
  {
   "cell_type": "markdown",
   "metadata": {},
   "source": [
    "Para acceder a los elementos de estas listas anidadas:"
   ]
  },
  {
   "cell_type": "code",
   "execution_count": 158,
   "metadata": {},
   "outputs": [
    {
     "data": {
      "text/plain": [
       "'mosca'"
      ]
     },
     "execution_count": 158,
     "metadata": {},
     "output_type": "execute_result"
    }
   ],
   "source": [
    "animales[0][0]\n",
    "animales[1][2]\n",
    "animales[0][0]\n",
    "animales[3][2]"
   ]
  },
  {
   "cell_type": "markdown",
   "metadata": {},
   "source": [
    "# Tuplas vs Listas\n",
    "\n",
    "En ocasiones se opta por hacer uso de las tuplas en lugar de las listas, pero las tuplas tienen menos funciones, debido a que estas no pueden ser modificadas después de creadas.\n",
    "\n",
    "¿Por qué no usar listas en lugar de tuplas en todo momento?\n",
    "\n",
    "* Tuplas ocupan menos espacio en memoria.\n",
    "\n",
    "* Se pueden usar tuplas como llaves para los diccionarios.\n",
    "\n",
    "> **Las tuplas no se pueden crear mediante comprensión (comprenhension).**"
   ]
  }
 ],
 "metadata": {
  "kernelspec": {
   "display_name": "Python 3",
   "language": "python",
   "name": "python3"
  },
  "language_info": {
   "codemirror_mode": {
    "name": "ipython",
    "version": 3
   },
   "file_extension": ".py",
   "mimetype": "text/x-python",
   "name": "python",
   "nbconvert_exporter": "python",
   "pygments_lexer": "ipython3",
   "version": "3.10.12"
  }
 },
 "nbformat": 4,
 "nbformat_minor": 2
}
