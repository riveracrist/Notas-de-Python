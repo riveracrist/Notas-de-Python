{
 "cells": [
  {
   "cell_type": "markdown",
   "metadata": {},
   "source": [
    "# Variables\n",
    "  \n",
    "* Los nombres de las variables sólo se pueden construir con letras (mayúsculas o minúsculas), números y el caracter underscore o guión bajo ( _ ).\n",
    "\n",
    "* El nombre de la variable no puede iniciar con un número.\n",
    "\n",
    "* No puede tener espacios.\n",
    "\n",
    "* Python distingue entre mayúsculas y minúsculas. Para Python no es lo mismo *Variable* que *variable*.\n",
    "\n",
    "* Una variable se asigna con el caractewr `=`.\n",
    "\n",
    "## Ejemplos\n",
    "\n",
    "* `1_mivariable` es incorrecto.\n",
    "* `mi variable` es incorrecto.\n",
    "* `miVariable` es correcto.\n",
    "* `mi_variable` es correcto.\n",
    "* `Mi_Variable1` es correcto.\n",
    "\n",
    "## Tipos de Datos\n",
    "\n",
    "A las variables se les puede asignar diferentes tipos de datos: \n",
    "\n",
    "* Números enteros `int`: 3, 100,  956.\n",
    "\n",
    "> Definir un número entero así 836_654_452, es lo mismo que 836654452.\n",
    "  \n",
    "* Números flotantes o decimales `float`: 2.3, 8.9, 0.25.\n",
    "  \n",
    "> Definir un número flotante así 1._6_7_8, es lo mismo que 1.678.\n",
    "\n",
    "* Booleanos `bool`: True, False, 1, 0.\n",
    "  \n",
    "* Cadena de caracteres `string`: \"Un punto azul pálido.\", \"Frutas\", \"El número es 9842\", \"El código es 8*s%/23\".\n",
    "\n",
    "## `Type()`\n",
    "\n",
    "Esta función retorna el tipo de dato de la variable."
   ]
  },
  {
   "cell_type": "code",
   "execution_count": 1,
   "metadata": {},
   "outputs": [
    {
     "data": {
      "text/plain": [
       "str"
      ]
     },
     "execution_count": 1,
     "metadata": {},
     "output_type": "execute_result"
    }
   ],
   "source": [
    "# Tipos de variable con la función type()\n",
    "\n",
    "entero = 5\n",
    "type(entero)\n",
    "\n",
    "flotante = 3.1416\n",
    "type(flotante)\n",
    "\n",
    "boleano = True\n",
    "type(boleano)\n",
    "\n",
    "texto = \"Superficie\"\n",
    "type(texto)\n"
   ]
  },
  {
   "cell_type": "markdown",
   "metadata": {},
   "source": [
    "# Operadores Aritméticos\n",
    "\n",
    "* Suma `+`\n",
    "* Resta `-`\n",
    "* Multiplicación `*`\n",
    "* División `/` , arroja el cociente entre dos números.\n",
    "* División entera `//` , arroja el cociente entero sin decimales de dos números.\n",
    "* Módulo `%` , arroja el residuo de una división entre dos números.\n",
    "* Potencia `**` , eleva a una potencia un número.\n",
    "\n",
    "> Una expresión, es una combinación de variables y operadores como por ejemplo `x = (-9**3) + 0.26 * (8//3)`."
   ]
  },
  {
   "cell_type": "code",
   "execution_count": 17,
   "metadata": {},
   "outputs": [
    {
     "data": {
      "text/plain": [
       "27"
      ]
     },
     "execution_count": 17,
     "metadata": {},
     "output_type": "execute_result"
    }
   ],
   "source": [
    "sumar = 96 + 53.45\n",
    "sumar\n",
    "\n",
    "restar = 0.78 - 1\n",
    "restar\n",
    "\n",
    "multiplicar = 2 * 3.1416 \n",
    "multiplicar\n",
    "\n",
    "dividir = 4.31/8.99\n",
    "dividir\n",
    "\n",
    "div_entera = 4 // 3.1416 \n",
    "div_entera\n",
    "\n",
    "modulo = 163%46\n",
    "modulo\n",
    "\n",
    "potencia = 3**3\n",
    "potencia"
   ]
  },
  {
   "cell_type": "markdown",
   "metadata": {},
   "source": [
    "## `divmod()`\n",
    "\n",
    "Una forma de obtener la división entera y el módulo, de dos número en un mismo resultado. Los valores se obtienen en forma de *tupla*. Se debe ingresar primero el dividendo seguido del divisor separado por una coma."
   ]
  },
  {
   "cell_type": "code",
   "execution_count": 18,
   "metadata": {},
   "outputs": [
    {
     "data": {
      "text/plain": [
       "(1, 4)"
      ]
     },
     "execution_count": 18,
     "metadata": {},
     "output_type": "execute_result"
    }
   ],
   "source": [
    "resultado = divmod(9, 5)\n",
    "resultado"
   ]
  },
  {
   "cell_type": "markdown",
   "metadata": {},
   "source": [
    "## `int()`\n",
    "\n",
    "Convierte otro tipo de datos a un número entero.\n",
    "\n",
    "En el caso de un número flotante (decimal) toma la parte entera del numero y descarta los decimales.\n",
    "\n",
    "NO aplica para datos de tipo string con letras o con decimales ni exponentes.\n"
   ]
  },
  {
   "cell_type": "code",
   "execution_count": 3,
   "metadata": {},
   "outputs": [
    {
     "data": {
      "text/plain": [
       "16"
      ]
     },
     "execution_count": 3,
     "metadata": {},
     "output_type": "execute_result"
    }
   ],
   "source": [
    "int(9.713)\n",
    "\n",
    "int(True)\n",
    "\n",
    "int(False)\n",
    "\n",
    "int(\"99\")\n",
    "\n",
    "int(\"-23\")\n",
    "\n",
    "int(\"1_235_48\")\n",
    "\n",
    "# Si el entero representa un entero no decimal, se puede incluir la base del número. Por ejemplo.\n",
    "\n",
    "int(\"10\", 2)\n",
    "\n",
    "int(\"10\", 8)\n",
    "\n",
    "int(\"10\", 16)\n",
    "\n"
   ]
  },
  {
   "cell_type": "markdown",
   "metadata": {},
   "source": [
    "## `float()`\n",
    "\n",
    "Convierte el dato a flotante."
   ]
  },
  {
   "cell_type": "code",
   "execution_count": 6,
   "metadata": {},
   "outputs": [
    {
     "data": {
      "text/plain": [
       "0.125"
      ]
     },
     "execution_count": 6,
     "metadata": {},
     "output_type": "execute_result"
    }
   ],
   "source": [
    "int(5)\n",
    "\n",
    "float(5)\n",
    "\n",
    "float(5e1)\n",
    "\n",
    "float(5.9_86_555)\n",
    "\n",
    "float(\"-23.70\")\n",
    "\n",
    "float(False)\n",
    "\n",
    "float(\"0.1_2_5\")\n"
   ]
  },
  {
   "cell_type": "markdown",
   "metadata": {},
   "source": [
    "## `bool()`\n",
    "\n",
    "Transforma a boleano True, cualquier tipo de dato ó número diferente de cero. El cero lo convierte en False y objetos vacíos también arrojan como resultado False."
   ]
  },
  {
   "cell_type": "code",
   "execution_count": 8,
   "metadata": {},
   "outputs": [
    {
     "data": {
      "text/plain": [
       "False"
      ]
     },
     "execution_count": 8,
     "metadata": {},
     "output_type": "execute_result"
    }
   ],
   "source": [
    "bool(186)\n",
    "\n",
    "bool(\"153\")\n",
    "\n",
    "bool(\"ret\")\n",
    "\n",
    "bool()\n",
    "\n",
    "bool(1)\n",
    "\n",
    "bool(0)\n",
    "\n",
    "bool(\"\")"
   ]
  },
  {
   "cell_type": "markdown",
   "metadata": {},
   "source": [
    "> Cuando se mezclan operaciones entre números enteros o decimales con boleanos `True` o `False` el valor `True` opera como 1 y el `False` como cero."
   ]
  },
  {
   "cell_type": "code",
   "execution_count": 9,
   "metadata": {},
   "outputs": [
    {
     "data": {
      "text/plain": [
       "5"
      ]
     },
     "execution_count": 9,
     "metadata": {},
     "output_type": "execute_result"
    }
   ],
   "source": [
    "True + 2\n",
    "\n",
    "False + 5 * True"
   ]
  },
  {
   "cell_type": "markdown",
   "metadata": {},
   "source": [
    "# Número de base n\n",
    "\n",
    "Python indica si un número se encuentra escrito en una base en particular, de la siguiente manera:\n",
    "\n",
    "* `0b` o `0B` indica que el número está escrito en base 2 (binario).\n",
    "\n",
    "* `0o` o `0O` indica que el número está escrito en base 8 (octal).\n",
    "\n",
    "* `0x` o `0X` indica que el número está escrito en base 16 (hexadecimal).\n",
    "\n",
    "En los siguientes ejemplos, se especifica la base en la que está escrito el número 10 y se presenta su equivalente en decimal."
   ]
  },
  {
   "cell_type": "code",
   "execution_count": 10,
   "metadata": {},
   "outputs": [
    {
     "data": {
      "text/plain": [
       "16"
      ]
     },
     "execution_count": 10,
     "metadata": {},
     "output_type": "execute_result"
    }
   ],
   "source": [
    "binario = 0b10\n",
    "binario\n",
    "\n",
    "octal = 0o10\n",
    "octal\n",
    "\n",
    "hexadecimal = 0x10\n",
    "hexadecimal"
   ]
  },
  {
   "cell_type": "markdown",
   "metadata": {},
   "source": [
    "## `bin()`, `oct()`, `hex()`\n",
    "\n",
    "* `bin()`, Esta función permite convertir a binario un número. El resultado obtenido es de tipo string.\n",
    "\n",
    "* `oct()`, permite convertir a octal un número. El resultado es un string.\n",
    "\n",
    "*  `hex()`, permite convertir a hexadecimal un número. Se obtiene un string como resultado."
   ]
  },
  {
   "cell_type": "code",
   "execution_count": 16,
   "metadata": {},
   "outputs": [
    {
     "data": {
      "text/plain": [
       "'0x41'"
      ]
     },
     "execution_count": 16,
     "metadata": {},
     "output_type": "execute_result"
    }
   ],
   "source": [
    "numero = 65\n",
    "\n",
    "bin(numero)\n",
    "\n",
    "oct(numero)\n",
    "\n",
    "hex(numero)"
   ]
  },
  {
   "cell_type": "markdown",
   "metadata": {},
   "source": [
    "# ASCII\n",
    "\n",
    "ASCII es el acrónimo que corresponde a la expresión inglesa American Standard Code for Information Interchange. Dicha frase puede traducirse como Código Estándar Americano para el Intercambio de Información. Se trata de un patrón de codificación que se emplea en el ámbito de la informática.\n",
    "\n",
    "Dicho de modo más simple, se trata de una traducción numérica del alfabeto, dado que los sistemas informáticos sólo manejan código binario (0-1) como lenguaje para representar sus operaciones lógicas. Así, a cada caracter (letra, signo o incluso espacio en blanco) corresponde en ASCII una cadena numérica de ocho bits (ocho dígitos entre 0 y 1, es decir, en código binario).\n",
    "\n",
    "> Fuente: https://concepto.de/ascii/#ixzz8p3duieJr\n",
    "\n",
    "![](ASCII-Tabla.png)\n",
    "\n",
    "\n",
    "##  `chr()`\n",
    "\n",
    "Esta función convierte un valor entero a su equivalente caracter individual (ASCII).\n",
    "\n",
    "\n",
    "## `ord()`\n",
    "\n",
    "Tiene el efecto contrario a la función `chr()` y devuelve el número entero que corresponder al caracter."
   ]
  },
  {
   "cell_type": "code",
   "execution_count": 42,
   "metadata": {},
   "outputs": [
    {
     "data": {
      "text/plain": [
       "'K'"
      ]
     },
     "execution_count": 42,
     "metadata": {},
     "output_type": "execute_result"
    }
   ],
   "source": [
    "letra1 = \"A\"\n",
    "ord(letra)\n",
    "\n",
    "numero1 = 46\n",
    "chr(numero)\n",
    "\n",
    "letra2 = \"#\"\n",
    "ord(letra2)\n",
    "\n",
    "numero2 = 75\n",
    "chr(numero2)\n"
   ]
  }
 ],
 "metadata": {
  "kernelspec": {
   "display_name": "Python 3",
   "language": "python",
   "name": "python3"
  },
  "language_info": {
   "codemirror_mode": {
    "name": "ipython",
    "version": 3
   },
   "file_extension": ".py",
   "mimetype": "text/x-python",
   "name": "python",
   "nbconvert_exporter": "python",
   "pygments_lexer": "ipython3",
   "version": "3.10.12"
  }
 },
 "nbformat": 4,
 "nbformat_minor": 2
}
