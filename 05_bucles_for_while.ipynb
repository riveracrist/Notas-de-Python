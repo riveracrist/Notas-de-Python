{
 "cells": [
  {
   "cell_type": "markdown",
   "metadata": {},
   "source": [
    "# Bucles con `while` y `for`"
   ]
  },
  {
   "cell_type": "markdown",
   "metadata": {},
   "source": [
    "## `while`\n",
    "\n",
    "Este es el mecanismo de bucle más sencillo de Python."
   ]
  },
  {
   "cell_type": "code",
   "execution_count": 2,
   "metadata": {},
   "outputs": [
    {
     "name": "stdout",
     "output_type": "stream",
     "text": [
      "1\n",
      "2\n",
      "3\n",
      "4\n",
      "5\n"
     ]
    }
   ],
   "source": [
    "conteo = 1\n",
    "\n",
    "while conteo <= 5:\n",
    "    print(conteo)\n",
    "    conteo += 1"
   ]
  },
  {
   "cell_type": "markdown",
   "metadata": {},
   "source": [
    "Primero asignamos el valor 1 a la variable `conteo`. El bucle `while` compara el valor de `conteo` con la expresión `conteo <= 5` y continúa si es menor o igual que 5.\n",
    "\n",
    "Dentro del bucle, se imprime el valor de\n",
    "valor de `conteo` y luego incrementa su valor en uno con la sentencia `count += 1`.\n",
    "\n",
    "Python vuelve a la parte superior del bucle, y de nuevo compara `conteo` con 5. \n",
    "\n",
    "El valor de `conteo` es ahora 2, así que el contenido del bucle `while` se ejecuta de nuevo, y `conteo` se incrementa a 3.\n",
    "\n",
    "Esto continúa hasta que `conteo` se incrementa de 5 a 6 en la parte inferior del bucle. \n",
    "\n",
    "En el siguiente viaje a la parte superior, `count <= 5` es ahora `False`, y el bucle `while` termina. Finaliza el bucle.\n",
    "\n",
    "> Al igual que con la sentencia `if` la indentación debe estar asignada de manera correcta, de lo contrario habrá un error en el código."
   ]
  },
  {
   "cell_type": "code",
   "execution_count": 1,
   "metadata": {},
   "outputs": [
    {
     "name": "stdout",
     "output_type": "stream",
     "text": [
      "Has escrito: salir\n"
     ]
    }
   ],
   "source": [
    "# Solicitar la entrada del usuario hasta que ingrese \"salir\"\n",
    "# Este programa sigue pidiendo al usuario que ingrese un texto hasta que escriba \"salir\".\n",
    "\n",
    "entrada = \"\"\n",
    "while entrada != \"salir\":\n",
    "    entrada = input(\"Escribe algo (o 'salir' para terminar): \")\n",
    "    print(f\"Has escrito: {entrada}\")"
   ]
  },
  {
   "cell_type": "markdown",
   "metadata": {},
   "source": [
    "## `break`\n",
    "\n",
    "Si deseamos que el bucle continúe hasta que cierto evento se presente, pero no hay certeza de cuándo esto pueda ocurrir, se puede hacer uso de un bucle infinito con la sentencia `break`."
   ]
  },
  {
   "cell_type": "code",
   "execution_count": 2,
   "metadata": {},
   "outputs": [
    {
     "name": "stdout",
     "output_type": "stream",
     "text": [
      "EL SEÑOR DE LOS ANILLOS\n",
      "ELOGIO\n",
      "EN EL ANDAR\n"
     ]
    }
   ],
   "source": [
    "while True:\n",
    "    frase = input(\"Frase a la que desea dar formato de mayúscula. (Digite q para finalizar.)\")\n",
    "    if frase == \"q\":\n",
    "        break\n",
    "    print(frase.upper())"
   ]
  },
  {
   "cell_type": "markdown",
   "metadata": {},
   "source": [
    "El código anterior, el evento que detiene el bucle mediante la sentencia `break`, es la comparación de la variable `frase == \"q\"`, cuando esto sea `True` la sentencia `break` detiene el bucle, de lo contrario el bucle seguirá solicitando \"infinatamente\", una cadena de string."
   ]
  },
  {
   "cell_type": "markdown",
   "metadata": {},
   "source": [
    "## Seguir adelante con `continue`\n",
    "\n",
    "A veces, usted no quiere salir de un bucle, pero sólo quiere saltar a la siguiente iteración por alguna razón. He aquí un ejemplo hipotético: vamos a leer un número entero, imprimir su cuadrado si es impar, y saltárnoslo si es par. De nuevo, usamos usamos `\"q\"` para detener el bucle:"
   ]
  },
  {
   "cell_type": "code",
   "execution_count": null,
   "metadata": {},
   "outputs": [],
   "source": [
    "while True:\n",
    "    valor = input(\"Ingrese un número entero, para finalizar digite la letra q: \")\n",
    "    if valor == 'q':\n",
    "        break\n",
    "    numero = int(valor)\n",
    "    if numero % 2 == 0:\n",
    "        continue\n",
    "    print(numero, \"al cuadrado es\", numero*numero)"
   ]
  },
  {
   "cell_type": "markdown",
   "metadata": {},
   "source": [
    "## Validar uso de `break` con `else`\n",
    "\n",
    "Si el ciclo while finaliza de manera normal, es decir, sin entrar a la sentencia break, el control pasa a un else opcional.\n",
    "\n",
    "Esto se usa cuando se ha codificado un bucle while para buscar algo y romper tan pronto como se encuentra ese algo.\n",
    "\n",
    "El else se ejecutaría si el bucle while se completa, pero el objeto no es encontrado."
   ]
  },
  {
   "cell_type": "code",
   "execution_count": 5,
   "metadata": {},
   "outputs": [
    {
     "name": "stdout",
     "output_type": "stream",
     "text": [
      "No se halló número par.\n"
     ]
    }
   ],
   "source": [
    "numeros = [1, 3, 5, 7]\n",
    "posicion = 0\n",
    "\n",
    "while posicion < len(numeros):\n",
    "    numero = numeros[posicion]\n",
    "    if numero %2 == 0:\n",
    "        print(\"Hay un número par\")\n",
    "        break\n",
    "    posicion += 1\n",
    "else: \n",
    "    print(\"No se halló número par.\")\n",
    "    "
   ]
  },
  {
   "cell_type": "markdown",
   "metadata": {},
   "source": [
    "## Iteración con `for` y `in`\n",
    "\n",
    "Python hace uso frecuente de iteradores por una buena razón. Permiten recorrer estructuras de datos sin saber su tamaño o cómo están implementados, incluso se puede iterar sobre datos que se crean sobre la marcha, lo que permite procesar flujos de datos que de otro modo no cabrían en la memoria del ordenador de una sola vez."
   ]
  },
  {
   "cell_type": "code",
   "execution_count": 6,
   "metadata": {},
   "outputs": [
    {
     "name": "stdout",
     "output_type": "stream",
     "text": [
      "E\n",
      "v\n",
      "o\n",
      "l\n",
      "u\n",
      "c\n",
      "i\n",
      "ó\n",
      "n\n"
     ]
    }
   ],
   "source": [
    "palabra = \"Evolución\"\n",
    "\n",
    "for letra in palabra:\n",
    "    print(letra)"
   ]
  },
  {
   "cell_type": "code",
   "execution_count": 7,
   "metadata": {},
   "outputs": [
    {
     "name": "stdout",
     "output_type": "stream",
     "text": [
      "E\n",
      "v\n",
      "o\n",
      "l\n"
     ]
    }
   ],
   "source": [
    "palabra = \"Evolución\"\n",
    "\n",
    "for letra in palabra:\n",
    "    if letra == \"u\":\n",
    "        break\n",
    "    print(letra)"
   ]
  },
  {
   "cell_type": "markdown",
   "metadata": {},
   "source": [
    "Insertar una sentencia `continue` en un bucle for, salta a la siguiente iteración del bucle, al igual como ocurre en el bucle while."
   ]
  },
  {
   "cell_type": "markdown",
   "metadata": {},
   "source": [
    "**Validar uso de break con else**\n",
    "\n",
    "De manera similar que el while, el for tiene un else opcional que valida si el for se completó normalmente. Si el break no es llamado entonces la sentencia else se ejecuta.\n",
    "\n",
    "Esto es útil cuando deseas verificar que el bucle for anterior se ejecuta por completo en lugar de detenerse con el break."
   ]
  },
  {
   "cell_type": "code",
   "execution_count": 10,
   "metadata": {},
   "outputs": [
    {
     "name": "stdout",
     "output_type": "stream",
     "text": [
      "c\n",
      "o\n",
      "r\n",
      "Hay una x en la palabra.\n"
     ]
    }
   ],
   "source": [
    "\n",
    "palabra = \"corxrer\"\n",
    "\n",
    "for letra in palabra:\n",
    "    if letra == \"x\":\n",
    "        print(\"Hay una x en la palabra.\")\n",
    "        break\n",
    "    print(letra)\n",
    "else:\n",
    "    print(\"No hay x en la palabra.\")\n"
   ]
  },
  {
   "cell_type": "markdown",
   "metadata": {},
   "source": [
    "De igual forma que en el while el uso de else dentro de un bucle for puede parecer poco intuitivo, pero puede tener más sentido si se piensa en el for como algo que se está buscando y el else se ejecuta en caso de que no se encuentre ese algo."
   ]
  },
  {
   "cell_type": "markdown",
   "metadata": {},
   "source": [
    "# Generar una secuencia de números con `range()`\n",
    "\n",
    "La función `range()` devuelve un flujo de números dentro de un rango especificado. sin tener que crear y almacenar primero una estructura de datos grande como una lista o tupla. Esto le permite crear rangos enormes sin utilizar toda la memoria de su ordenador y bloquear\n",
    "su programa.\n",
    "\n",
    "Se utiliza `range()` de forma similar a como se utilizan los slice: range( inicio, parada, paso ). Si omite inicio, el rango comienza en 0. El único valor requerido es el valor de parada (stop); al igual que con slices, el último valor creado será excluido, estará justo antes del valor dado en stop, es decir que dará el número de parada menos 1. El valor por defecto de paso es 1, pero puede ir hacia atrás con -1.\n",
    "\n",
    "Al igual que `zip()`, `range()` devuelve un objeto iterable, por lo que es posible recorrer los valores con for ... in, o convertir el objeto en una secuencia como una lista."
   ]
  },
  {
   "cell_type": "code",
   "execution_count": 11,
   "metadata": {},
   "outputs": [
    {
     "name": "stdout",
     "output_type": "stream",
     "text": [
      "1\n",
      "2\n",
      "3\n",
      "4\n"
     ]
    }
   ],
   "source": [
    "for i in range( 1,5,1):\n",
    "    print(i)"
   ]
  },
  {
   "cell_type": "code",
   "execution_count": 18,
   "metadata": {},
   "outputs": [
    {
     "name": "stdout",
     "output_type": "stream",
     "text": [
      "20\n",
      "15\n",
      "10\n",
      "5\n",
      "0\n",
      "-5\n"
     ]
    }
   ],
   "source": [
    "for i in range(20, -10, -5):\n",
    "    print(i)\n"
   ]
  },
  {
   "cell_type": "code",
   "execution_count": 19,
   "metadata": {},
   "outputs": [
    {
     "data": {
      "text/plain": [
       "[0, 2, 4, 6, 8, 10, 12, 14, 16, 18]"
      ]
     },
     "execution_count": 19,
     "metadata": {},
     "output_type": "execute_result"
    }
   ],
   "source": [
    "milista = list(range(0, 20, 2))\n",
    "milista"
   ]
  },
  {
   "cell_type": "code",
   "execution_count": 20,
   "metadata": {},
   "outputs": [
    {
     "name": "stdout",
     "output_type": "stream",
     "text": [
      "3\n",
      "2\n",
      "1\n",
      "0\n"
     ]
    }
   ],
   "source": [
    "for i in list([3, 2, 1, 0]):\n",
    "    print(i)"
   ]
  }
 ],
 "metadata": {
  "kernelspec": {
   "display_name": "Python 3",
   "language": "python",
   "name": "python3"
  },
  "language_info": {
   "codemirror_mode": {
    "name": "ipython",
    "version": 3
   },
   "file_extension": ".py",
   "mimetype": "text/x-python",
   "name": "python",
   "nbconvert_exporter": "python",
   "pygments_lexer": "ipython3",
   "version": "3.10.12"
  }
 },
 "nbformat": 4,
 "nbformat_minor": 2
}
