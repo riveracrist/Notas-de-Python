{
 "cells": [
  {
   "cell_type": "markdown",
   "metadata": {},
   "source": [
    "## ¿Qué es un paquete?\n",
    "\n",
    "Un módulo es un contenedor lleno de funciones - puedes empaquetar tantas funciones como desees en un módulo y distribuirlo por todo el mundo.\n",
    "\n",
    "Por supuesto, no es una buena idea mezclar funciones con diferentes áreas de aplicación dentro de un módulo (al igual que en una biblioteca: nadie espera que los trabajos científicos se incluyan entre los cómics), así que se deben agrupar las funciones cuidadosamente y asignar un nombre claro e intuitivo al módulo que las contiene (por ejemplo, no le des el nombre videojuegos a un módulo que contiene funciones destinadas a particionar y formatear discos duros).\n",
    "\n",
    "Crear muchos módulos puede causar desorden, tarde que temprano querrás agrupar tus módulos de la misma manera que previamente has agrupado funciones.\n",
    "\n",
    " ¿Existe un contenedor más general que un módulo?\n",
    "\n",
    "Sí lo hay, es un **paquete**, en el mundo de los módulos, un paquete juega un papel similar al de una carpeta o directorio en el mundo de los archivos.\n",
    "\n",
    "\n",
    "![](paquete.png)\n"
   ]
  },
  {
   "cell_type": "markdown",
   "metadata": {},
   "source": [
    "# Construir un Módulo\n",
    "\n",
    "\n",
    "## Paso 1\n",
    "\n",
    "Se trabajará de manera local en tu propia máquina.\n",
    "\n",
    "Crea un archivo vacío que se llame `module.py`.\n",
    "\n",
    "Se necesitan dos archivos para realizar estos ejemplos, uno de ellos será el módulo en sí. Por ahora se encuentra vacío.\n",
    "\n",
    "## Paso 2\n",
    "\n",
    "El segundo archivo contiene el código que utiliza el nuevo módulo. Su nombre será `main.py`. Su contenido será el siguiente:\n",
    "\n"
   ]
  },
  {
   "cell_type": "code",
   "execution_count": null,
   "metadata": {},
   "outputs": [],
   "source": [
    "import module"
   ]
  },
  {
   "cell_type": "markdown",
   "metadata": {},
   "source": [
    "> Nota: ambos archivos deben estar ubicados en la misma carpeta. Te recomendamos crear una carpeta nueva y vacía para ambos archivos. Esto hará que las cosas sean más fáciles."
   ]
  },
  {
   "cell_type": "markdown",
   "metadata": {},
   "source": [
    "Ahora ejecuta el archivo `main.py`. No deberías ver nada, lo que significa que Python ha importado con éxito el contenido del archivo `module.py`.\n",
    "\n",
    "No importa que el módulo esté vacío por ahora. El primer paso ya está hecho, pero antes de dar el siguiente paso, queremos que eches un vistazo a la carpeta en la que se encuentran ambos archivos.\n",
    "\n",
    "¿Notas algo interesante?\n",
    "\n",
    "Ha aparecido una nueva subcarpeta, ¿puedes verla? Su nombre es `__pycache__`. Echa un vistazo adentro. ¿Qué es lo que ves?\n",
    "\n",
    "Hay un archivo llamado (más o menos) `module.cpython-xy.pyc` donde x y y son dígitos derivados de tu versión de Python (por ejemplo, serán 3 y 10 si utilizas Python 3.10).\n",
    "\n",
    "El nombre del archivo es el mismo que el de tu módulo. La parte posterior al primer punto dice qué implementación de Python ha creado el archivo (CPython) y su número de versión. La ultima parte (pyc) viene de las palabras Python y compilado.\n",
    "\n",
    "Puedes mirar dentro del archivo: el contenido es completamente ilegible para los humanos. Tiene que ser así, ya que el archivo está destinado solo para uso el uso de Python.\n",
    "\n",
    "Cuando Python importa un módulo por primera vez, traduce el contenido a una forma algo compilada.\n",
    "\n",
    "El archivo no contiene código en lenguaje máquina: es código semi-compilado interno de Python, listo para ser ejecutado por el intérprete de Python. Como tal archivo no requiere tantas comprobaciones como las de un archivo fuente, la ejecución comienza más rápido y también se ejecuta más rápido.\n",
    "\n",
    "Gracias a eso, cada importación posterior será más rápida que interpretar el código fuente desde cero.\n",
    "\n",
    "Python puede verificar si el archivo fuente del módulo ha sido modificado (en este caso, el archivo pyc será reconstruido) o no (cuando el archivo pyc pueda ser ejecutado al instante). Este proceso es completamente automático y transparente, no tiene que ser tomando en cuenta.\n",
    "\n",
    "## Paso 3\n",
    "\n",
    "Ahora escribamos lo siguiente en el archivo `module.py`."
   ]
  },
  {
   "cell_type": "code",
   "execution_count": null,
   "metadata": {},
   "outputs": [],
   "source": [
    "print(\"Contenido del módulo.\")"
   ]
  },
  {
   "cell_type": "markdown",
   "metadata": {},
   "source": [
    "¿Puedes notar alguna diferencia entre un módulo y un script ordinario? No hay ninguna hasta ahora.\n",
    "\n",
    "Es posible ejecutar este archivo como cualquier otro script. Pruébalo por ti mismo.\n",
    "\n",
    "¿Qué es lo que pasa? Deberías de ver la siguiente línea dentro de tu consola:\n",
    "\n",
    "\n",
    "`Contenido del módulo.`"
   ]
  },
  {
   "cell_type": "markdown",
   "metadata": {},
   "source": [
    "## Paso 4\n",
    "\n",
    "Ejecutemos nuevamente el archivo `main.py`. El cual contiene la instrucción `import module`.\n",
    "\n",
    "El resultado de ejecutar el archivo debe ser:\n",
    "\n",
    "`Contenido del módulo.`\n",
    "\n",
    "Lo que está ocurriendo, es que al importar el módulo, su contenido es ejecutado implícitamente por Python. Le da al módulo la oportunidad de incializar algunos de sus aspectos internos, desde un archivo externo que en este caso es `main.py`.\n",
    "\n",
    "**Nota: la inicialización se realiza sólo una vez, cuando se produce la primera importación, por lo que las asignaciones realizadas por el módulo no se repiten innecesariamente.**\n",
    "\n",
    "\n",
    "## Paso 5\n",
    "\n",
    "Python puede hacer mucho más que solo importar el módulo. También crea una variable llamada `__name__`.\n",
    "\n",
    "Además, cada archivo fuente usa su propia versión separada de la variable, no se comparte entre módulos.\n",
    "\n",
    "Te mostraremos como usarlo. Modifica el módulo un poco:\n"
   ]
  },
  {
   "cell_type": "code",
   "execution_count": 4,
   "metadata": {},
   "outputs": [
    {
     "name": "stdout",
     "output_type": "stream",
     "text": [
      "Contenido del módulo.\n",
      "__main__\n"
     ]
    }
   ],
   "source": [
    "print(\"Contenido del módulo.\")\n",
    "print(__name__)"
   ]
  },
  {
   "cell_type": "markdown",
   "metadata": {},
   "source": [
    "Ahora ejecuta el archivo module.py. Deberías ver las siguientes líneas:\n",
    "\n",
    "`Contenido del módulo.`\n",
    "<br>\n",
    "`__main__`"
   ]
  },
  {
   "cell_type": "markdown",
   "metadata": {},
   "source": [
    "Ahora ejecuta el archivo `main.py`. Deberías tener como resultado:\n",
    "\n",
    "`Contenido del módulo.`\n",
    "\n",
    "`module`\n",
    "\n",
    "\n",
    "Podemos decir que:\n",
    "\n",
    "* Cuando se ejecuta un archivo directamente, su variable `__name__` se establece a `__main__`.\n",
    "\n",
    "* Cuando un archivo se importa como un módulo, su variable `__name__` se establece al nombre del archivo (excluyendo a .py)"
   ]
  },
  {
   "cell_type": "markdown",
   "metadata": {},
   "source": [
    "## Paso6\n",
    "\n",
    "Así es como puedes hacer uso de la variable __main__ para detectar el contexto en el cual se activó tu código:"
   ]
  },
  {
   "cell_type": "code",
   "execution_count": 5,
   "metadata": {},
   "outputs": [
    {
     "name": "stdout",
     "output_type": "stream",
     "text": [
      "Prefiero ser módulo.\n"
     ]
    }
   ],
   "source": [
    "if __name__ == \"__main__\":\n",
    "   print(\"Prefiero ser módulo.\")\n",
    "else:\n",
    "   print(\"Me gusta ser un módulo.\")"
   ]
  },
  {
   "cell_type": "markdown",
   "metadata": {},
   "source": [
    "Sin embargo, existe una forma más inteligente de utilizar la variable. Si escribes un módulo lleno de varias funciones complejas, puedes usarla para colocar una serie de pruebas para verificar si las funciones trabajan correctamente.\n",
    "\n",
    "Cada vez que modifiques alguna de estas funciones, simplemente puedes ejecutar el módulo para asegurarte de que sus enmiendas no estropeen el código. Estas pruebas se omitirán cuando el código se importe como un módulo.\n",
    "\n",
    "## Paso 7\n",
    "\n",
    "Este módulo contendrá dos funciones simples, y si deseas saber cuantas veces se han invocado las funciones, necesitas un contador inicializado en cero cuando se importe el módulo.\n",
    "\n",
    "Puedes hacerlo de esta manera:"
   ]
  },
  {
   "cell_type": "code",
   "execution_count": 6,
   "metadata": {},
   "outputs": [
    {
     "name": "stdout",
     "output_type": "stream",
     "text": [
      "Prefiero ser un módulo.\n"
     ]
    }
   ],
   "source": [
    "counter = 0\n",
    "   \n",
    "if __name__ == \"__main__\":\n",
    "   print(\"Prefiero ser un módulo.\")\n",
    "else:\n",
    "   print(\"Me gusta ser un módulo.\")\n",
    "\n"
   ]
  },
  {
   "cell_type": "markdown",
   "metadata": {},
   "source": [
    "## Paso 8\n",
    "\n",
    "El introducir tal variable es absolutamente correcto, pero puede causar importantes efectos secundarios que debes tomar en cuenta.\n",
    "\n",
    "Ejecutemos el archivo modificado `main.py`:"
   ]
  },
  {
   "cell_type": "code",
   "execution_count": 7,
   "metadata": {},
   "outputs": [
    {
     "ename": "ModuleNotFoundError",
     "evalue": "No module named 'module'",
     "output_type": "error",
     "traceback": [
      "\u001b[0;31m---------------------------------------------------------------------------\u001b[0m",
      "\u001b[0;31mModuleNotFoundError\u001b[0m                       Traceback (most recent call last)",
      "Cell \u001b[0;32mIn[7], line 1\u001b[0m\n\u001b[0;32m----> 1\u001b[0m \u001b[38;5;28;01mimport\u001b[39;00m \u001b[38;5;21;01mmodule\u001b[39;00m\n\u001b[1;32m      2\u001b[0m \u001b[38;5;28mprint\u001b[39m(module\u001b[38;5;241m.\u001b[39mcounter)\n",
      "\u001b[0;31mModuleNotFoundError\u001b[0m: No module named 'module'"
     ]
    }
   ],
   "source": [
    "import module\n",
    "print(module.counter)"
   ]
  },
  {
   "cell_type": "markdown",
   "metadata": {},
   "source": [
    "Como puedes ver, el archivo principal intenta acceder a la variable de contador del módulo. ¿Es esto legal? Sí lo es. ¿Es utilizable? Claro. ¿Es seguro?\n",
    "\n",
    "Eso depende: si confías en los usuarios de tu módulo, no hay problema; sin embargo, es posible que no desees que el resto del mundo vea tu variable personal o privada.\n",
    "\n",
    "A diferencia de muchos otros lenguajes de programación, Python no tiene medios para permitirte ocultar tales variables a los ojos de los usuarios del módulo.\n",
    "\n",
    "Solo puedes informar a tus usuarios que esta es tu variable, que pueden leerla, pero que no deben modificarla bajo ninguna circunstancia.\n",
    "\n",
    "Esto se hace anteponiendo al nombre de la variable `_` (un guión bajo) o `__` (dos guiones bajos), pero recuerda, es solo un acuerdo. Los usuarios de tu módulo pueden obedecerlo o no.\n",
    "\n",
    "Nosotros por supuesto, lo respetaremos. Ahora pongamos dos funciones en el módulo: evaluarán la suma y el producto de los números recopilados en una lista.\n",
    "\n",
    "Además, agreguemos algunos adornos allí y eliminemos los restos superfluos.\n",
    "\n",
    "## Paso 9\n",
    "\n",
    "Bueno. Escribamos un código nuevo en nuestro archivo `module.py`. El módulo actualizado está listo aquí:"
   ]
  },
  {
   "cell_type": "markdown",
   "metadata": {},
   "source": [
    "```\n",
    "#!/usr/bin/env python3 \n",
    "\n",
    "\"\" module.py - an example of a Python module \"\"\n",
    "\n",
    "__counter = 0\n",
    "\n",
    "\n",
    "def suml(the_list):\n",
    "  global __counter\n",
    "  __counter += 1\n",
    "  the_sum = 0\n",
    "  for element in the_list:\n",
    "   the_sum += element\n",
    "  return the_sum\n",
    "\n",
    "\n",
    "def prodl(the_list):\n",
    "  global __counter\n",
    "  __counter += 1\n",
    "  prod = 1\n",
    "  for element in the_list:\n",
    "   prod *= element\n",
    "  return prod\n",
    "\n",
    "\n",
    "if __name__ == \"__main__\":\n",
    "  print(\"Prefiero ser un módulo, pero puedo hacer algunas pruebas para usted.\")\n",
    "  my_list = [i+1 for i in range(5)]\n",
    "  print(suml(my_list) == 15)\n",
    "  print(prodl(my_list) == 120)\n",
    "```"
   ]
  },
  {
   "cell_type": "markdown",
   "metadata": {},
   "source": [
    "Algunos elementos necesitan explicación:\n",
    "\n",
    "* La línea que comienza con #! tiene muchos nombres - puede ser llamada shabang, shebang, hashbang, poundbang o incluso hashpling. El nombre en sí no significa nada aquí, su papel es más importante. Desde el punto de vista de Python, es solo un comentario debido a que comienza con `#`. \n",
    "\n",
    "Para sistemas operativos Unix y similares a Unix (incluido MacOS), dicha línea indica al sistema operativo como ejecutar el contenido del archivo (en otras palabras, qué programa debe ejecutarse para interpretar el texto). En algunos entornos (especialmente aquellos conectados con servidores web) la ausencia de esa línea causará problemas.\n",
    "\n",
    "* Una cadena (quizás una multilínea) colocada antes de las instrucciones de cualquier módulo (incluidas las importaciones) se denomina `doc-string`, y debe explicar brevemente el propósito y el contenido del módulo.\n",
    "\n",
    "* Las funciones definidas dentro del módulo (`suml()` y `prodl()`) están disponibles para ser importadas.\n",
    "Se ha utilizado la variable `__name__` para detectar cuando se ejecuta el archivo de forma independiente, y se aprovechó esta oportunidad para realizar algunas pruebas sencillas.\n",
    "\n",
    "## Paso 10\n",
    "\n",
    "Ahora es posible usar el nuevo módulo desde el archivo `main.py`, esta es una forma de hacerlo:\n"
   ]
  },
  {
   "cell_type": "code",
   "execution_count": null,
   "metadata": {},
   "outputs": [],
   "source": [
    "from module import suml, prodl\n",
    " \n",
    "zeroes = [0 for i in range(5)]\n",
    "ones = [1 for i in range(5)]\n",
    "print(suml(zeroes))\n",
    "print(prodl(ones))"
   ]
  },
  {
   "cell_type": "markdown",
   "metadata": {},
   "source": [
    "## Paso 11\n",
    "\n",
    "Es hora de hacer este ejemplo más complejo: hemos asumido aquí que el archivo Python principal se encuentra en la misma carpeta o directorio que el módulo que se va a importar.\n",
    "\n",
    "Renunciemos a esta suposición y realicemos el siguiente experimento mental:\n",
    "\n",
    "Estamos utilizando el sistema operativo **Windows®** (esta suposición es importante, ya que la forma del nombre del archivo depende de ello).\n",
    "\n",
    "El script principal de Python se encuentra en `C:\\Users\\user\\py\\progs` y se llama `main.py`.\n",
    "\n",
    "El módulo a importar se encuentra en `C:\\Users\\user\\py\\modules`.\n",
    "\n",
    "![](rutawindows.png)\n",
    "\n",
    "¿Cómo lidiar con ello?\n",
    "\n",
    "Para responder a esta pregunta, tenemos que hablar sobre como Python busca los módulos. Hay una variable especial (en realidad una lista) que almacena todas las ubicaciones (carpetas o directorios) que se buscan para encontrar un módulo que ha sido solicitado por la instrucción import.\n",
    "\n",
    "Python examina estas carpetas en el orden en que aparecen en la lista: si el módulo no se puede encontrar en ninguno de estos directorios, la importación falla.\n",
    "\n",
    "De lo contrario, se tomará en cuenta la primera carpeta que contenga un módulo con el nombre deseado (si alguna de las carpetas restantes contiene un módulo con ese nombre, se ignorará).\n",
    "\n",
    "La variable se llama `path` (ruta), y es accesible a través del módulo llamado `sys`. Así es como puedes verificar su valor:"
   ]
  },
  {
   "cell_type": "code",
   "execution_count": 8,
   "metadata": {},
   "outputs": [
    {
     "name": "stdout",
     "output_type": "stream",
     "text": [
      "/usr/lib/python310.zip\n",
      "/usr/lib/python3.10\n",
      "/usr/lib/python3.10/lib-dynload\n",
      "\n",
      "/home/cristian/.local/lib/python3.10/site-packages\n",
      "/usr/local/lib/python3.10/dist-packages\n",
      "/usr/lib/python3/dist-packages\n"
     ]
    }
   ],
   "source": [
    "import sys\n",
    " \n",
    "for p in sys.path:\n",
    "  print(p)"
   ]
  },
  {
   "cell_type": "markdown",
   "metadata": {},
   "source": [
    "Hemos ejecutado el código dentro del directorio C:\\User\\user y esto es lo que obtenemos:\n",
    "\n",
    "`C:∖Users∖user\n",
    "C:∖Users∖user∖AppData∖Local∖Programs∖Python∖Python36-32∖python36.zip\n",
    "C:∖Users∖user∖AppData∖Local∖Programs∖Python∖Python36-32∖lib\n",
    "C:∖Users∖user∖AppData∖Local∖Programs∖Python∖Python36-32\n",
    "C:∖Users∖user∖AppData∖Local∖Programs∖Python∖Python36-32∖lib∖site-packages`\n",
    "\n",
    "Nota: la carpeta en la que comienza la ejecución aparece en el primer elemento de la ruta.\n",
    "\n",
    "Ten en cuenta también que: hay un archivo zip listado como uno de los elementos de la ruta, esto no es un error. Python puede tratar los archivos zip como carpetas ordinarias, esto puede ahorrar mucho almacenamiento.\n",
    "\n",
    "## Paso 12\n",
    "\n",
    "¿Puedes predecir cómo resolver este problema? Puedes resolverlo agregando una carpeta que contenga el módulo a la variable de ruta (la variable path), es completamente modificable.\n",
    "\n",
    "Una de las varias soluciones posibles se ve así:"
   ]
  },
  {
   "cell_type": "code",
   "execution_count": null,
   "metadata": {},
   "outputs": [],
   "source": [
    "from sys import path\n",
    " \n",
    "path.append('..∖∖modules')\n",
    " \n",
    "import module\n",
    " \n",
    "zeroes = [0 for i in range(5)]\n",
    "ones = [1 for i in range(5)]\n",
    "print(module.suml(zeroes))\n",
    "print(module.prodl(ones))"
   ]
  },
  {
   "cell_type": "markdown",
   "metadata": {},
   "source": [
    "> **Nota: Se ha duplicado la `\\` dentro del nombre de la carpeta, debido a que una diagonal invertida se usa para escapar de otros caracteres, si deseas obtener solo una diagonal invertida, debes escapar.**\n",
    "\n",
    "Hemos utilizado el nombre relativo de la carpeta: esto funcionará si inicia el archivo `main.py` directamente desde la carpeta de inicio, y no funcionará si el directorio actual no se ajusta a la ruta relativa; siempre puedes usar una ruta absoluta, como esta:\n",
    "\n",
    "`path.append('C:\\\\Users\\\\user\\\\py\\\\modules')`\n",
    "\n",
    "Hemos usado el método `append()`, la nueva ruta ocupará el último elemento en la lista de rutas; si no te gusta la idea, puedes usar en lugar de ello el método `insert()`."
   ]
  },
  {
   "cell_type": "markdown",
   "metadata": {},
   "source": [
    "# Tu primer paquete\n",
    "\n",
    "## Paso 1\n",
    "\n",
    "Imagina que en un futuro no muy lejano, tu y tus socios escriben una gran cantidad de funciones en Python.\n",
    "\n",
    "Tu equipo decide agrupar las funciones en módulos separados, y este es el resultado final contenido en un archivo llamado `alpha.py`.\n",
    "\n",
    "Hemos presentado todo el contenido solo para el módulo `alpha.py`, supongamos que todos los módulos tienen un aspecto similar (contienen una función denominada `funX`, donde `X` es la primera letra del nombre del módulo).\n",
    "\n",
    "![](alpha.png)"
   ]
  },
  {
   "cell_type": "code",
   "execution_count": null,
   "metadata": {},
   "outputs": [],
   "source": [
    "#! /usr/bin/env python3\n",
    "\n",
    "\"\"\" module: alpha \"\"\"\"\n",
    "\n",
    "def funA():\n",
    "  return \"Alpha\"\n",
    "\n",
    "if __name__ == \"__main__\":\n",
    "  print(\"Prefiero ser un módulo.\")"
   ]
  },
  {
   "cell_type": "markdown",
   "metadata": {},
   "source": [
    "## Paso 2\n",
    "\n",
    "De repente, alguien se da cuenta de que estos módulos forman su propia jerarquía, por lo que colocarlos a todos en una estructura plana no será una buena idea.\n",
    "\n",
    "Después de algo de discusión, el equipo llega a la conclusión de que los módulos deben agruparse. Todos los participantes están de acuerdo en que la siguiente estructura de árbol refleja perfectamente las relaciones mutuas entre los módulos:\n",
    "\n",
    "![](modulos.png)\n"
   ]
  },
  {
   "cell_type": "markdown",
   "metadata": {},
   "source": [
    "Repasemos esto de abajo hacia arriba:\n",
    "\n",
    "* El grupo ugly contiene dos módulos: psi y omega.\n",
    "\n",
    "* El grupo best contiene dos módulos: sigma y tau.\n",
    "\n",
    "* El grupo good contiene dos módulos: (alpha y beta) y un subgrupo (best).\n",
    "\n",
    "* El grupo extra contiene dos subgrupos: (good y bad) y un módulo (iota).\n",
    "\n",
    "¿Se ve mal? De ninguna manera: analiza la estructura cuidadosamente. Se parece a algo, ¿no?\n",
    "\n",
    "Parece la estructura de un directorio.\n",
    "\n",
    "Construyamos un árbol que refleje las dependencias proyectadas entre los módulos.\n",
    "\n",
    "## Paso 3\n",
    "\n",
    "![](arbol.png)\n",
    "\n",
    "La estructura es casi un paquete (en el sentido de Python). Carece del detalle fino para ser funcional y operativo. Lo completaremos en un momento.\n",
    "\n",
    "Si asumes que extra es el nombre de un paquete recientemente creado (piensa en el como la raíz del paquete), impondrá una regla de nomenclatura que te permitirá nombrar claramente cada entidad del árbol.\n",
    "\n",
    "Por ejemplo:\n",
    "\n",
    "La ubicación de una función llamada `funT()` del paquete `tau` puede describirse como: `extra.good.best.tau.funT()`\n",
    "\n",
    "Una función marcada como: `extra.ugly.psi.funP()`. Proviene del módulo `psi` el cual esta almacenado en el subpaquete `ugly` del paquete `extra`.\n",
    "\n",
    "## Paso 4\n",
    "\n",
    "Ahora se deben responder dos preguntas:\n",
    "\n",
    "¿Cómo se transforma este árbol (en realidad, un subárbol) en un paquete real de Python; en otras palabras, ¿cómo convence a Python de que dicho árbol no es solo un montón de archivos basura, sino un conjunto de módulos?\n",
    "\n",
    "¿Dónde se coloca el subárbol para que Python pueda acceder a él?\n",
    "La primer pregunta tiene una respuesta sorprendente: los paquetes, como los módulos, pueden requerir inicialización.\n",
    "\n",
    "La inicialización de un módulo se realiza mediante un código independiente (que no forma parte de ninguna función) ubicado dentro del archivo del módulo. Como un paquete no es un archivo, esta técnica es inútil para inicializar paquetes.\n",
    "\n",
    "En su lugar, debes usar un truco diferente, Python espera que haya un archivo con un nombre muy exclusivo dentro de la carpeta del paquete: `__init__.py`.\n",
    "\n",
    "El contenido del archivo se ejecuta cuando se importa cualquiera de los módulos del paquete. Si no deseas ninguna inicialización especial, puedes dejar el archivo vacío, pero no debes omitirlo.\n",
    "\n",
    "## Paso 5\n",
    "\n",
    "Recuerda: la presencia del archivo `__init.py__` finalmente compone el paquete:\n",
    "\n",
    "![](init.png)"
   ]
  },
  {
   "cell_type": "markdown",
   "metadata": {},
   "source": [
    "**Nota: no solo la carpeta raiz puede contener el archivo `__init.py__`, también puedes ponerlo dentro de cualquiera de sus subcarpetas (subpaquetes). Puede ser útil si algunos de los subpaquetes requieren tratamiento individual o un tipo especial de inicialización.**\n",
    "\n",
    "Ahora es el momento de responder la segunda pregunta, ¿Dónde se coloca el subárbol para que sea accesible para Python? La respuesta es simple: donde quiera. Solo tienes que asegurarte de que Python conozca la ubicación del paquete. Ya sabes como hacer eso.\n",
    "\n",
    "Estás listo para usar tu primer paquete.\n",
    "\n",
    "## Paso 6\n",
    "\n",
    "Supongamos que el entorno de trabajo se ve de la siguiente manera:\n",
    "\n",
    "![](entorno.png)\n",
    "\n",
    "\n",
    "\n",
    "## Paso 7\n",
    "\n",
    "Desde un archivo llamado `main2.py`.\n",
    "\n",
    "Vamos a acceder a la función `funI()` del módulo iota del paquete `extra`. Nos obliga a usar nombres de paquetes calificados (asocia esto al nombramiento de carpetas y subcarpetas).\n",
    "\n",
    "Así es como se hace:"
   ]
  },
  {
   "cell_type": "code",
   "execution_count": null,
   "metadata": {},
   "outputs": [],
   "source": [
    "from sys import path\n",
    "path.append('..∖∖packages')\n",
    " \n",
    "import extra.iota\n",
    "print(extra.iota.funI())"
   ]
  },
  {
   "cell_type": "markdown",
   "metadata": {},
   "source": [
    "Hemos modificado la variable `path `para que sea accesible a Python.\n",
    "\n",
    "El `import` no apunta directamente al módulo, pero especifica la ruta completa desde la parte superior del paquete.\n",
    "\n",
    "El reemplazar `import extra.iota` con `import iota` causará un error.\n",
    "\n",
    "La siguiente variante también es válida:"
   ]
  },
  {
   "cell_type": "code",
   "execution_count": null,
   "metadata": {},
   "outputs": [],
   "source": [
    "from sys import path\n",
    "path.append('..∖∖packages')\n",
    " \n",
    "from extra.iota import funI\n",
    "print(funI())"
   ]
  },
  {
   "cell_type": "markdown",
   "metadata": {},
   "source": [
    "## Paso 8\n",
    "\n",
    "Seguimos en el archivo `main2.py`.\n",
    "\n",
    "Ahora vamos hasta el final del árbol: así es como se obtiene acceso a los módulos `sigma` y `tau`:"
   ]
  },
  {
   "cell_type": "code",
   "execution_count": null,
   "metadata": {},
   "outputs": [],
   "source": [
    "from sys import path\n",
    " \n",
    "path.append('..∖∖packages')\n",
    " \n",
    "import extra.good.best.sigma\n",
    "from extra.good.best.tau import funT\n",
    " \n",
    "print(extra.good.best.sigma.funS())\n",
    "print(funT())"
   ]
  },
  {
   "cell_type": "markdown",
   "metadata": {},
   "source": [
    "Puedes hacer tu vida más fácil usando un alias:"
   ]
  },
  {
   "cell_type": "code",
   "execution_count": null,
   "metadata": {},
   "outputs": [],
   "source": [
    "from sys import path\n",
    "\n",
    "path.append('..∖∖packages')\n",
    "\n",
    "\n",
    "import extra.good.best.sigma as sig\n",
    "import extra.good.alpha as alp\n",
    "\n",
    "print(sig.funS())\n",
    "print(alp.funA())"
   ]
  },
  {
   "cell_type": "markdown",
   "metadata": {},
   "source": [
    "## Paso 9\n",
    "\n",
    "Supongamos que hemos comprimido todo el subdirectorio, comenzando desde la carpeta extra (incluyéndola), y se obtuvo un archivo llamado extrapack.zip. Después, colocamos el archivo dentro de la carpeta packages.\n",
    "\n",
    "Ahora podemos usar el archivo zip en un rol de paquetes:"
   ]
  },
  {
   "cell_type": "code",
   "execution_count": null,
   "metadata": {},
   "outputs": [],
   "source": [
    "from sys import path\n",
    "\n",
    "path.append('..∖∖packages∖∖extrapack.zip')\n",
    "\n",
    "import extra.good.best.sigma as sig\n",
    "import extra.good.alpha as alp\n",
    "from extra.iota import funI\n",
    "from extra.good.beta import funB\n",
    "\n",
    "print(sig.funS())\n",
    "print(alp.funA())\n",
    "print(funI())\n",
    "print(funB())"
   ]
  },
  {
   "cell_type": "markdown",
   "metadata": {},
   "source": [
    "# Resumen\n",
    "\n",
    "1. Mientras que un módulo está diseñado para acoplar algunas entidades relacionadas como funciones, variables o constantes, un paquete es un contenedor que permite el acoplamiento de varios módulos relacionados bajo un mismo nombre. Dicho contenedor se puede distribuir tal cual (como un lote de archivos implementados en un subárbol de directorio) o se puede empaquetar dentro de un archivo zip.\n",
    "\n",
    "\n",
    "2. Durante la primera importación del módulo, Python traduce su código fuente a un formato semi-compilado almacenado dentro de los archivos pyc y los implementa en el directorio __pycache__ ubicado en el directorio de inicio del módulo.\n",
    "\n",
    "\n",
    "3. Si deseas decirle al usuario del módulo que una entidad en particular debe tratarse como privada (es decir, no debe usarse explícitamente fuera del módulo), puedes marcar su nombre con el prefijo _ o __. No olvides que esto es solo una recomendación, no una orden.\n",
    "\n",
    "\n",
    "4. Los nombres shabang, shebang, hasbang, poundbang y hashpling describen el dígrafo escrito como #!, se utiliza para instruir a los sistemas operativos similares a Unix sobre cómo se debe iniciar el archivo fuente de Python. Esta convención no tiene efecto en MS Windows.\n",
    "\n",
    "\n",
    "5. Si deseas convencer a Python de que debe tomar en cuenta el directorio de un paquete no estándar, su nombre debe insertarse/agregarse en/a la lista de directorios de importación almacenada en la variable path contenida en el módulo sys.\n",
    "\n",
    "\n",
    "6. Un archivo de Python llamado __init__.py se ejecuta implícitamente cuando un paquete que lo contiene está sujeto a importación y se utiliza para inicializar un paquete y/o sus subpaquetes (si los hay). El archivo puede estar vacío, pero no debe faltar."
   ]
  }
 ],
 "metadata": {
  "kernelspec": {
   "display_name": "Python 3",
   "language": "python",
   "name": "python3"
  },
  "language_info": {
   "codemirror_mode": {
    "name": "ipython",
    "version": 3
   },
   "file_extension": ".py",
   "mimetype": "text/x-python",
   "name": "python",
   "nbconvert_exporter": "python",
   "pygments_lexer": "ipython3",
   "version": "3.10.12"
  }
 },
 "nbformat": 4,
 "nbformat_minor": 2
}
