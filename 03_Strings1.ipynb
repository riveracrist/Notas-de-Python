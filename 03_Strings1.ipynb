{
 "cells": [
  {
   "cell_type": "markdown",
   "metadata": {},
   "source": [
    "# String. Cadena de Caracteres `str`\n",
    "\n",
    "Los cadenas o strings son un tipo de datos compuestos por secuencias de caracteres que representan texto. Estas cadenas de texto son de tipo `str` y se delimitan mediante el uso de comillas simples o dobles."
   ]
  },
  {
   "cell_type": "code",
   "execution_count": 1,
   "metadata": {},
   "outputs": [
    {
     "data": {
      "text/plain": [
       "str"
      ]
     },
     "execution_count": 1,
     "metadata": {},
     "output_type": "execute_result"
    }
   ],
   "source": [
    "palabra = \"Evolución\"\n",
    "palabra\n",
    "type(palabra)\n",
    "\n",
    "frase = 'El número 75 es el ganador.'\n",
    "frase\n",
    "type(frase)\n"
   ]
  },
  {
   "cell_type": "markdown",
   "metadata": {},
   "source": [
    "El uso de triple comillas dobles `\"\"\"  \"\"\"` en ocasiones se implementa para escribir cadenas de caracteres largas. En realidad, las comillas sencillas `' '` también funcionan para estos textos largos."
   ]
  },
  {
   "cell_type": "code",
   "execution_count": 9,
   "metadata": {},
   "outputs": [
    {
     "name": "stdout",
     "output_type": "stream",
     "text": [
      "Mira de nuevo ese punto. Eso es aquí. Ese es el hogar. Esos somos nosotros. En él, todos los que amas, todos los que conoces, todos los que has oído hablar, todos los seres humanos que alguna vez fueron, vivieron sus vidas. El conjunto de nuestras alegrías y sufrimientos, miles de religiones, ideologías y doctrinas económicas confiadas, cada cazador y recolector, cada héroe y cobarde, cada creador y destructor de civilizaciones, cada rey y campesino, cada joven pareja enamorada, cada madre y padre, niño esperanzado, inventor y explorador, todos los maestros de moral, todos los políticos corruptos, todas las “superestrellas”, todos los “líderes supremos”, todos los santos y pecadores en la historia de nuestra especie vivieron allí, en una mota de polvo suspendida en un rayo de sol. \n"
     ]
    }
   ],
   "source": [
    "print(\"\"\"Mira de nuevo ese punto. Eso es aquí. Ese es el hogar. Esos somos nosotros. En él, todos los que amas, todos los que conoces, todos los que has oído hablar, todos los seres humanos que alguna vez fueron, vivieron sus vidas. El conjunto de nuestras alegrías y sufrimientos, miles de religiones, ideologías y doctrinas económicas confiadas, cada cazador y recolector, cada héroe y cobarde, cada creador y destructor de civilizaciones, cada rey y campesino, cada joven pareja enamorada, cada madre y padre, niño esperanzado, inventor y explorador, todos los maestros de moral, todos los políticos corruptos, todas las “superestrellas”, todos los “líderes supremos”, todos los santos y pecadores en la historia de nuestra especie vivieron allí, en una mota de polvo suspendida en un rayo de sol. \"\"\")"
   ]
  },
  {
   "cell_type": "code",
   "execution_count": 14,
   "metadata": {},
   "outputs": [
    {
     "name": "stdout",
     "output_type": "stream",
     "text": [
      "Mira de nuevo ese punto. Eso es aquí. Ese es el hogar. Esos somos nosotros. En él, todos los que amas, todos los que conoces, todos los que has oído hablar, todos los seres humanos que alguna vez fueron, vivieron sus vidas. El conjunto de nuestras alegrías y sufrimientos, miles de religiones, ideologías y doctrinas económicas confiadas, cada cazador y recolector, cada héroe y cobarde, cada creador y destructor de civilizaciones, cada rey y campesino, cada joven pareja enamorada, cada madre y padre, niño esperanzado, inventor y explorador, todos los maestros de moral, todos los políticos corruptos, todas las “superestrellas”, todos los “líderes supremos”, todos los santos y pecadores en la historia de nuestra especie vivieron allí, en una mota de polvo suspendida en un rayo de sol. \n"
     ]
    }
   ],
   "source": [
    "print(\"Mira de nuevo ese punto. Eso es aquí. Ese es el hogar. Esos somos nosotros. En él, todos los que amas, todos los que conoces, todos los que has oído hablar, todos los seres humanos que alguna vez fueron, vivieron sus vidas. El conjunto de nuestras alegrías y sufrimientos, miles de religiones, ideologías y doctrinas económicas confiadas, cada cazador y recolector, cada héroe y cobarde, cada creador y destructor de civilizaciones, cada rey y campesino, cada joven pareja enamorada, cada madre y padre, niño esperanzado, inventor y explorador, todos los maestros de moral, todos los políticos corruptos, todas las “superestrellas”, todos los “líderes supremos”, todos los santos y pecadores en la historia de nuestra especie vivieron allí, en una mota de polvo suspendida en un rayo de sol. \")\n"
   ]
  },
  {
   "cell_type": "markdown",
   "metadata": {},
   "source": [
    "## `str()`\n",
    "\n",
    "Esta función convierte un elemento en un string."
   ]
  },
  {
   "cell_type": "code",
   "execution_count": 2,
   "metadata": {},
   "outputs": [
    {
     "data": {
      "text/plain": [
       "str"
      ]
     },
     "execution_count": 2,
     "metadata": {},
     "output_type": "execute_result"
    }
   ],
   "source": [
    "elemento = str(19.837)\n",
    "elemento\n",
    "type(elemento)"
   ]
  },
  {
   "cell_type": "markdown",
   "metadata": {},
   "source": [
    "## Escape con `\\`\n",
    "\n",
    "Python le permite escapar al significado de algunos caracteres dentro de cadenas para lograr\n",
    "efectos que de otro modo serían difíciles de expresar. Al preceder un carácter con una\n",
    "barra invertida (`\\`), se le da un significado especial. La secuencia de escape más común es `\\n`, que significa empezar una nueva línea o salto de línea. Con ella puede crear cadenas de caracteres de varias líneas.\n",
    "\n",
    "\n",
    "* `\\n` genera un salto de línea.\n",
    "* `\\t` se usa para generar tabulaciones en los string, sirve para alinear el texto.\n",
    "* `\\\"` si queremos mostrar dentro de un texto las comillas dobles.\n",
    "* `\\'` hace lo mismo que el anterior, pero muestra comillas sencillas.\n",
    "* `\\\\` presenta el backslash en una cadena de caracteres.\n",
    "\n",
    "Para ver el resultado de uso de la barra invertida o escapes, se debe presentar en pantalla el texto con la función `print()`."
   ]
  },
  {
   "cell_type": "code",
   "execution_count": 3,
   "metadata": {},
   "outputs": [
    {
     "name": "stdout",
     "output_type": "stream",
     "text": [
      "Mira de nuevo ese punto. \n",
      "Eso es aquí. Ese es el hogar. \n",
      "Esos somos nosotros. \n",
      "\n",
      "\"Mira de nuevo ese punto. \n",
      " \tEso es aquí. Ese es el hogar. \n",
      " \t\tEsos somos nosotros.\"\n"
     ]
    }
   ],
   "source": [
    "frase = \"Mira de nuevo ese punto. \\nEso es aquí. Ese es el hogar. \\nEsos somos nosotros. \\n\"\n",
    "frase\n",
    "print(frase)\n",
    "\n",
    "frase = \"\\\"Mira de nuevo ese punto. \\n \\tEso es aquí. Ese es el hogar. \\n \\t\\tEsos somos nosotros.\\\"\"\n",
    "frase\n",
    "print(frase)"
   ]
  },
  {
   "cell_type": "markdown",
   "metadata": {},
   "source": [
    "## Concatenar `+`\n",
    "\n",
    "Se puden combinar string o variables en Python usando el operador `+`. Este operador sólo puede concatenar elementos de tipo `str`, no puede concatenar otro tipo de elementos como `int` o `float`.\n",
    "\n",
    "Python no agrega espacios cuando concatena strings con este operador, así que los espacios deben ser agregados de manera explícita.\n",
    "\n",
    "> La función `print()` agrega espacios entre cada argumento o elemento cuando los argumentos se separan por comas."
   ]
  },
  {
   "cell_type": "code",
   "execution_count": 4,
   "metadata": {},
   "outputs": [
    {
     "name": "stdout",
     "output_type": "stream",
     "text": [
      "EljugadorMichael Jordan usaba el número23en su camiseta.\n",
      "El jugador Michael Jordan usaba el número 23 en su camiseta.\n",
      "El jugador Michael Jordan usaba el número 23 en su camiseta.\n"
     ]
    }
   ],
   "source": [
    "valor = \"23\"\n",
    "palabra = \"jugador\"\n",
    "\n",
    "print(\"El\" + palabra + \"Michael Jordan usaba el número\" + valor + \"en su camiseta.\")\n",
    "\n",
    "print(\"El \" + palabra + \" Michael Jordan usaba el número \" + valor + \" en su camiseta.\")\n",
    "\n",
    "print(\"El\" , palabra , \"Michael Jordan usaba el número\" , valor , \"en su camiseta.\")"
   ]
  },
  {
   "cell_type": "markdown",
   "metadata": {},
   "source": [
    "## Duplicar strings\n",
    "\n",
    "Para multiplicar un string una cierta catidad de veces, es decir repetir un string un número de veces se usa el operador de multiplicación `*`."
   ]
  },
  {
   "cell_type": "code",
   "execution_count": 5,
   "metadata": {},
   "outputs": [
    {
     "name": "stdout",
     "output_type": "stream",
     "text": [
      "NaNaNaNaNa Taran Taran Taran \n"
     ]
    }
   ],
   "source": [
    "repetir = \"Na\" * 5\n",
    "repetir\n",
    "\n",
    "duplicar = \"Taran \" * 3\n",
    "duplicar\n",
    "\n",
    "print(repetir , duplicar)"
   ]
  },
  {
   "cell_type": "markdown",
   "metadata": {},
   "source": [
    "## Índices de los string `[ ]`\n",
    "\n",
    "Las cadenas de caracteres o string, tienen un índice para la posición que ocupa cada caracter dentro del texto completo. Para acceder a cada caracter se debe indicar su posición o índice mediante un corchete de apertura y cierre, dentro del cuál se escribe el índice del caracter que se desea obtener.\n",
    "\n",
    "**Las posiciones de los caracteres inician desde la posición cero ( 0 )** seguido de 1 y así sucesivamente hasta el valor de posición que tiene el último caracter. Los espacios también están indexados por lo tanto tienen su posición asignada a un índice.\n",
    "\n",
    "Estos índices positivos recorren el texto de izquierda a derecha para retornar el caracter correspondiente."
   ]
  },
  {
   "cell_type": "code",
   "execution_count": 6,
   "metadata": {},
   "outputs": [
    {
     "data": {
      "text/plain": [
       "'0'"
      ]
     },
     "execution_count": 6,
     "metadata": {},
     "output_type": "execute_result"
    }
   ],
   "source": [
    "# acceder a los caracteres de izquierda a derecha.\n",
    "\n",
    "mi_texto = \"Esto es un texto que contiene números 04624 y letras oidf.\"\n",
    "\n",
    "# para acceder al caracter que se encuentra en la posición cero o en la primera posición del texto:\n",
    "mi_texto[0]\n",
    "\n",
    "# para acceder al caracter que se encuentra en la posición cinco del texto:\n",
    "mi_texto[5]\n",
    "\n",
    "# para acceder al caracter que se encuentra en la posición treinta y ocho del texto:\n",
    "mi_texto[38]"
   ]
  },
  {
   "cell_type": "markdown",
   "metadata": {},
   "source": [
    "También podemos recorrer el texto de derecha a izquierda para obtener los caracteres correspondientes, esto se hace escribiendo el índice como un número negativo, de esta manera la posición -1 sería el primer caracter del texto de derecha a izquierda, en el ejemplo anterior, obtendríamos el caracter `.` el cuál es el último del texto si lo recorremos de izquierda a derecha."
   ]
  },
  {
   "cell_type": "code",
   "execution_count": 14,
   "metadata": {},
   "outputs": [
    {
     "name": "stdout",
     "output_type": "stream",
     "text": [
      ".\n",
      "o\n",
      " \n"
     ]
    }
   ],
   "source": [
    "# acceder a los caracteres de derecha a izquierda.\n",
    "\n",
    "mi_texto = \"Esto es un texto que contiene números 04624 y letras oidf.\"\n",
    "\n",
    "# para acceder al caracter que se encuentra en la última posición del texto:\n",
    "print(mi_texto[-1])\n",
    "\n",
    "# para acceder al caracter que se encuentra en la posición cinco de derecha a izquierda:\n",
    "print(mi_texto[-5])\n",
    "\n",
    "# para acceder al caracter que se encuentra en la posición treinta y ocho del texto:\n",
    "print(mi_texto[-38])"
   ]
  },
  {
   "cell_type": "markdown",
   "metadata": {},
   "source": [
    "## Subcadenas o Subconjunto de Caracteres\n",
    "\n",
    "Podemos lograr obtener una subcadena de una cadena o string mediante el uso de los índices en un slice:\n",
    "\n",
    "* `[:]` extrae la secuencia de caracteres completa desde la primera posición (0) hasta la última.\n",
    "\n",
    "* `[i : ]` extrae desde la posición i (diferente de cero) hasta la última posición. \n",
    "\n",
    "* `[ : j]` extrae desde la posición inicial (0) hasta la posición j.\n",
    "\n",
    "* `[i : j]` extrae desde la posición i hasta la posición j. \n",
    "\n",
    "* `[i : j : n]` extrae desde la posición i hasta la posición j, dando saltos de n. "
   ]
  },
  {
   "cell_type": "markdown",
   "metadata": {},
   "source": [
    "> **Python no incluye el valor final en el subconjunto, es decir excluye el argumento `j`de la expresión y trae hasta la posición `j-1`, es decir que si le indicamos que traiga hasta la posición j = 6, Python traerá los caracteres hasta la posición 5.** Esto es importante para obetener la posición correcta a la cual queremos acceder y conseguir el resultado deseado."
   ]
  },
  {
   "cell_type": "code",
   "execution_count": 15,
   "metadata": {},
   "outputs": [
    {
     "data": {
      "text/plain": [
       "'rpnljh'"
      ]
     },
     "execution_count": 15,
     "metadata": {},
     "output_type": "execute_result"
    }
   ],
   "source": [
    "abcdario = \"abcdefghijklmnopqrstuvwxyz\"\n",
    "\n",
    "abcdario[:]\n",
    "\n",
    "abcdario[ :5] # recordar 5 - 1\n",
    "\n",
    "abcdario[5: ]\n",
    "\n",
    "abcdario[10:26]\n",
    "\n",
    "abcdario[-3: ]\n",
    "\n",
    "abcdario[1 : -3]\n",
    "\n",
    "abcdario[-6 : -2]\n",
    "\n",
    "abcdario[ :: 2]\n",
    "\n",
    "abcdario[3 : 15 : 3]\n",
    "\n",
    "abcdario[4 : : 2]\n",
    "\n",
    "abcdario[ : 24 : 2 ]\n",
    "\n",
    "# de derecha a izquierda\n",
    "\n",
    "abcdario[-3 : : -2]\n",
    "\n",
    "abcdario[-9 : -20 : -2]"
   ]
  },
  {
   "cell_type": "code",
   "execution_count": 16,
   "metadata": {},
   "outputs": [
    {
     "data": {
      "text/plain": [
       "''"
      ]
     },
     "execution_count": 16,
     "metadata": {},
     "output_type": "execute_result"
    }
   ],
   "source": [
    "# Algunos resultados a tener en cuenta\n",
    "\n",
    "abcdario[-36 : ]\n",
    "\n",
    "abcdario[-36 : -35]\n",
    "\n",
    "abcdario[0 : 40]\n",
    "\n",
    "abcdario[40 : 41]"
   ]
  },
  {
   "cell_type": "markdown",
   "metadata": {},
   "source": [
    "## Reemplazar Caracteres `replace()`\n",
    "\n",
    "Para reemplazar un caracter o una cadena de caracteres por otra dentro de un string se usa la función `replace()`. Esto realiza una sustitución de subconjuntos de string presentes en el texto original, sustituye una subcadena por una nueva cadena.\n",
    "\n",
    "La cadena que se va a sustituir debe definirse exactamente igual como aparece en el texto original, incluyendo los espacios si es el caso. NO es lo mismo, sustituir `\"a \"` que `\"a\"`.\n",
    "\n",
    "> Esta función retorna la sustitución solicitada, pero NO modifica el string original. Para mantener el resultado, este debe ser asignado a una nueva variable."
   ]
  },
  {
   "cell_type": "code",
   "execution_count": 62,
   "metadata": {},
   "outputs": [
    {
     "data": {
      "text/plain": [
       "'Esto es un texto que contiene números 04624 y letras oidf.'"
      ]
     },
     "execution_count": 62,
     "metadata": {},
     "output_type": "execute_result"
    }
   ],
   "source": [
    "mi_texto = \"Esto es un texto que contiene números 04624 y letras oidf.\"\n",
    "\n",
    "mi_texto.replace(\"o\", \"X\")\n",
    "\n",
    "mi_texto\n"
   ]
  },
  {
   "cell_type": "code",
   "execution_count": 61,
   "metadata": {},
   "outputs": [
    {
     "data": {
      "text/plain": [
       "'EstX es un textX que cXntiene númerXs 04624 y letras Xidf.'"
      ]
     },
     "execution_count": 61,
     "metadata": {},
     "output_type": "execute_result"
    }
   ],
   "source": [
    "textoX = mi_texto.replace(\"o\", \"X\")\n",
    "\n",
    "textoX"
   ]
  },
  {
   "cell_type": "code",
   "execution_count": 66,
   "metadata": {},
   "outputs": [
    {
     "data": {
      "text/plain": [
       "'EstXes un textXque contiene números 04624 y letras oidf.'"
      ]
     },
     "execution_count": 66,
     "metadata": {},
     "output_type": "execute_result"
    }
   ],
   "source": [
    "mi_texto = \"Esto es un texto que contiene números 04624 y letras oidf.\"\n",
    "\n",
    "mi_texto.replace(\"o \", \"X\")"
   ]
  },
  {
   "cell_type": "code",
   "execution_count": 19,
   "metadata": {},
   "outputs": [
    {
     "name": "stdout",
     "output_type": "stream",
     "text": [
      "Un armadillo se encuentra nadando en una laguna.\n",
      "Un---pato---se---encuentra---nadando---en---una---laguna.\n"
     ]
    },
    {
     "data": {
      "text/plain": [
       "'Un armadillo se encuentra nadando en una laguna.'"
      ]
     },
     "execution_count": 19,
     "metadata": {},
     "output_type": "execute_result"
    }
   ],
   "source": [
    "cadena = \"Un pato se encuentra nadando en una laguna.\"\n",
    "\n",
    "print(cadena.replace(\"pato\", \"armadillo\"))\n",
    "\n",
    "print(cadena.replace(\" \", \"---\"))\n",
    "\n",
    "cadenax = cadena.replace(\"pato\", \"armadillo\")\n",
    "\n",
    "acadena"
   ]
  },
  {
   "cell_type": "markdown",
   "metadata": {},
   "source": [
    "## Contar Caracteres `len()`\n",
    "\n",
    "Cuenta el número de caracteres presente en un string."
   ]
  },
  {
   "cell_type": "code",
   "execution_count": 20,
   "metadata": {},
   "outputs": [
    {
     "data": {
      "text/plain": [
       "38"
      ]
     },
     "execution_count": 20,
     "metadata": {},
     "output_type": "execute_result"
    }
   ],
   "source": [
    "longitud = \"La velocidad de la luz es 300000 km/s.\"\n",
    "\n",
    "len(longitud)"
   ]
  },
  {
   "cell_type": "markdown",
   "metadata": {},
   "source": [
    "## `split()`\n",
    "\n",
    "Divide un string en una lista de string más cortos, basado en algún tipo de separador. El resultado es una lista.\n",
    "\n",
    "Se crea una lista donde los elementos en ella, son los string formados de acuerdo a la partición que se hizo, ubicando el separador.\n",
    "\n",
    "Si no se especifica el separador en la función, esta tomará por defecto cualquier secuencia de espacios, saltos de línea y tabulaciones presentes para partir la cadena de caracteres."
   ]
  },
  {
   "cell_type": "code",
   "execution_count": 21,
   "metadata": {},
   "outputs": [
    {
     "name": "stdout",
     "output_type": "stream",
     "text": [
      "['comprar camisa, llevar maleta, hacer check in']\n",
      "['comprar', 'camisa,', 'llevar', 'maleta,', 'hacer', 'check', 'in']\n",
      "['compr', 'r c', 'mis', ', llev', 'r m', 'let', ', h', 'cer check in']\n",
      "['comprar', 'camisa,', 'llevar', 'maleta,', 'hacer', 'check', 'in']\n"
     ]
    }
   ],
   "source": [
    "tareas = \"comprar camisa, llevar maleta, hacer check in\"\n",
    "\n",
    "print(tareas.split(\" , \")) # separador coma , \n",
    "\n",
    "print(tareas.split(\" \")) # separador (espacio)\n",
    "\n",
    "print(tareas.split(\"a\")) # separador a\n",
    "\n",
    "print(tareas.split()) # por defecto"
   ]
  },
  {
   "cell_type": "markdown",
   "metadata": {},
   "source": [
    "## `join()`\n",
    "\n",
    "Esta función hace lo opuesto a la función `split()`. Es como realizar el proceso inverso, ya que se especifica el caracter o cadena que va a unir todo y después la lista de strings a pegar."
   ]
  },
  {
   "cell_type": "code",
   "execution_count": 22,
   "metadata": {},
   "outputs": [
    {
     "name": "stdout",
     "output_type": "stream",
     "text": [
      "Galletas+Manzanas+Cereal+Detergente\n",
      "Galletas(###)Manzanas(###)Cereal(###)Detergente\n",
      "GalletasXXXManzanasXXXCerealXXXDetergente\n"
     ]
    }
   ],
   "source": [
    "compras = [\"Galletas\", \"Manzanas\", \"Cereal\", \"Detergente\"]\n",
    "\n",
    "juntar = \"+\".join(compras)\n",
    "\n",
    "print(juntar)\n",
    "\n",
    "juntar = \"(###)\".join(compras)\n",
    "\n",
    "print(juntar)\n",
    "\n",
    "juntar = \"XXX\".join(compras)\n",
    "\n",
    "print(juntar)"
   ]
  },
  {
   "cell_type": "markdown",
   "metadata": {},
   "source": [
    "## `strip()`\n",
    "\n",
    "Es muy común eliminar los caracteres de relleno iniciales o finales de una cadena, especialmente los espacios. Las funciones `strip()` mostradas aquí asumen que usted quiere deshacerse de los caracteres de espacio en blanco (`' '`, `'\\t'`, `'\\n'`). \n",
    "\n",
    "Si no les da un argumento,  `strip()` elimina ambos extremos, `lstrip()` sólo desde la izquierda, y `rstrip()` sólo desde la derecha.       \n"
   ]
  },
  {
   "cell_type": "code",
   "execution_count": 26,
   "metadata": {},
   "outputs": [
    {
     "data": {
      "text/plain": [
       "'  Tierra'"
      ]
     },
     "execution_count": 26,
     "metadata": {},
     "output_type": "execute_result"
    }
   ],
   "source": [
    "# Ejecutar cada uno de los comandos en celdas separadas para ver el resultado de cada uno\n",
    "\n",
    "planeta = \"  Tierra  \"\n",
    "\n",
    "planeta.strip()\n",
    "\n",
    "planeta.strip(\" \")\n",
    "\n",
    "planeta.lstrip()\n",
    "\n",
    "planeta.rstrip()"
   ]
  },
  {
   "cell_type": "markdown",
   "metadata": {},
   "source": [
    "También es posible indicar dentro de `strip()` que se elimine cualquier caracter de una cadena con varios caracteres."
   ]
  },
  {
   "cell_type": "code",
   "execution_count": 28,
   "metadata": {},
   "outputs": [
    {
     "data": {
      "text/plain": [
       "'El Sol es gigante'"
      ]
     },
     "execution_count": 28,
     "metadata": {},
     "output_type": "execute_result"
    }
   ],
   "source": [
    "texto = \"¡¡El Sol es gigante!! ...?\"\n",
    "\n",
    "texto.strip(\" ¡!.?\")"
   ]
  },
  {
   "cell_type": "markdown",
   "metadata": {},
   "source": [
    "Hay algunos grupos de caracteres establecidos que pueden ser ingresados a la función. Estos grupos de caracteres están definidos dentro de la biblioteca o paquete llamano `string`."
   ]
  },
  {
   "cell_type": "code",
   "execution_count": 17,
   "metadata": {},
   "outputs": [
    {
     "data": {
      "text/plain": [
       "'NO hay espacio'"
      ]
     },
     "execution_count": 17,
     "metadata": {},
     "output_type": "execute_result"
    }
   ],
   "source": [
    "import string\n",
    "\n",
    "string.whitespace\n",
    "\n",
    "string.punctuation\n",
    "\n",
    "expresion = \"*!#$# NO hay espacio !!! ?.\"\n",
    "\n",
    "expresion.strip(string.punctuation + string.whitespace)"
   ]
  },
  {
   "cell_type": "markdown",
   "metadata": {},
   "source": [
    "De esta manera definimos todo el conjunto de caracteres que componen los grupos de espacios en blanco y de puntuación para que sean eliminados, si se encuentran al final o al inicio de un string."
   ]
  },
  {
   "cell_type": "markdown",
   "metadata": {},
   "source": [
    "## Buscar - Seleccionar\n",
    "\n",
    "Python posee un gran conjunto de funciones para los string. Vamos a ver algunas de las más usadas."
   ]
  },
  {
   "cell_type": "markdown",
   "metadata": {},
   "source": [
    "* `len()`\n",
    "\n",
    "Para conocer cuántos caracteres hay en un texto o string. Los espacios y los saltos de línea se incluyen en el conteo."
   ]
  },
  {
   "cell_type": "code",
   "execution_count": 20,
   "metadata": {},
   "outputs": [
    {
     "data": {
      "text/plain": [
       "248"
      ]
     },
     "execution_count": 20,
     "metadata": {},
     "output_type": "execute_result"
    }
   ],
   "source": [
    "fragmento = '''¿Deseas que te amen? \n",
    "No pierdas, pues,\n",
    "El rumbo de tu corazón.\n",
    "Sólo aquello que eres has de ser\n",
    "Y aquello que no eres, no.\n",
    "Así, en el mundo, tu modo sutil,\n",
    "Tu gracia, tu bellísimo ser,\n",
    "Serán objeto de elogio sin fin\n",
    "Y el amor... un sencillo deber.'''\n",
    "\n",
    "len(fragmento)"
   ]
  },
  {
   "cell_type": "markdown",
   "metadata": {},
   "source": [
    "* `startswith()`\n",
    "\n",
    "Para saber si el texto inicia con ciertos caracteres."
   ]
  },
  {
   "cell_type": "code",
   "execution_count": 22,
   "metadata": {},
   "outputs": [
    {
     "data": {
      "text/plain": [
       "True"
      ]
     },
     "execution_count": 22,
     "metadata": {},
     "output_type": "execute_result"
    }
   ],
   "source": [
    "fragmento = '''¿Deseas que te amen? \n",
    "No pierdas, pues,\n",
    "El rumbo de tu corazón.\n",
    "Sólo aquello que eres has de ser\n",
    "Y aquello que no eres, no.\n",
    "Así, en el mundo, tu modo sutil,\n",
    "Tu gracia, tu bellísimo ser,\n",
    "Serán objeto de elogio sin fin\n",
    "Y el amor... un sencillo deber.'''\n",
    "\n",
    "fragmento.startswith(\"¿\")\n",
    "\n",
    "fragmento.startswith(\"¿Deseas que\")"
   ]
  },
  {
   "cell_type": "markdown",
   "metadata": {},
   "source": [
    "* `endswith()`\n",
    "\n",
    "Para conocer si el texto finaliza con ciertos caracteres."
   ]
  },
  {
   "cell_type": "code",
   "execution_count": 25,
   "metadata": {},
   "outputs": [
    {
     "data": {
      "text/plain": [
       "False"
      ]
     },
     "execution_count": 25,
     "metadata": {},
     "output_type": "execute_result"
    }
   ],
   "source": [
    "fragmento = '''¿Deseas que te amen? \n",
    "No pierdas, pues,\n",
    "El rumbo de tu corazón.\n",
    "Sólo aquello que eres has de ser\n",
    "Y aquello que no eres, no.\n",
    "Así, en el mundo, tu modo sutil,\n",
    "Tu gracia, tu bellísimo ser,\n",
    "Serán objeto de elogio sin fin\n",
    "Y el amor... un sencillo deber.'''\n",
    "\n",
    "fragmento.endswith(\"¿Deseas que\")\n",
    "\n",
    "fragmento.endswith(\"deber.\")\n",
    "\n",
    "fragmento.endswith(\"deber\")"
   ]
  },
  {
   "cell_type": "markdown",
   "metadata": {},
   "source": [
    "Python tiene dos métodos (`find()`, `index()`) para encontrar el posicionamiento de una subcadena, y tiene dos versiones de cada una de ellas, una para iniciar la búsqueda desde el inicio de la cadena de texto (de izquierda a derecha) y otra para comenzar la búsqueda desde el final del texto (de derecha a izquierda).\n",
    "\n",
    "Funcionan de las misma manera si la subcadena se encuentra dentro del texto.\n",
    "\n",
    "Por el contrario, si la subcadena no se encuentra en el texto, `find()` arroja como resultado un `-1`. \n",
    "\n",
    "`index()` arroja una excepción o alerta."
   ]
  },
  {
   "cell_type": "code",
   "execution_count": 48,
   "metadata": {},
   "outputs": [
    {
     "data": {
      "text/plain": [
       "8"
      ]
     },
     "execution_count": 48,
     "metadata": {},
     "output_type": "execute_result"
    }
   ],
   "source": [
    "fragmento = '''¿Deseas que te amen? \n",
    "No pierdas, pues,\n",
    "El rumbo de tu corazón.\n",
    "Sólo aquello que eres has de ser\n",
    "Y aquello que no eres, no.\n",
    "Así, en el mundo, tu modo sutil,\n",
    "Tu gracia, tu bellísimo ser,\n",
    "Serán objeto de elogio sin fin\n",
    "Y el amor... un sencillo deber.'''\n",
    "\n",
    "# para encontrar la posición en la que aparece\n",
    "# por primera vez la subcadena \"que\"\n",
    "# de izquierda a derecha.\n",
    "\n",
    "palabra = \"que\"\n",
    "palabrax = \"reto\" # sucadena no está en fragmento.\n",
    "\n",
    "#fragmento.find(palabrax)\n",
    "fragmento.find(palabra)\n",
    "\n",
    "#fragmento.index(palabrax)\n",
    "fragmento.index(palabra)"
   ]
  },
  {
   "cell_type": "code",
   "execution_count": 63,
   "metadata": {},
   "outputs": [
    {
     "data": {
      "text/plain": [
       "107"
      ]
     },
     "execution_count": 63,
     "metadata": {},
     "output_type": "execute_result"
    }
   ],
   "source": [
    "fragmento = '''¿Deseas que te amen? \n",
    "No pierdas, pues,\n",
    "El rumbo de tu corazón.\n",
    "Sólo aquello que eres has de ser\n",
    "Y aquello que no eres, no.\n",
    "Así, en el mundo, tu modo sutil,\n",
    "Tu gracia, tu bellísimo ser,\n",
    "Serán objeto de elogio sin fin\n",
    "Y el amor... un sencillo deber.'''\n",
    "\n",
    "# para encontrar la posición en la que aparece por primera vez\n",
    "# primera vez la palabra \"que\" \n",
    "\n",
    "subcad1 = \"que\"\n",
    "subcad2 = \"reto\"\n",
    "\n",
    "#fragmento.rfind(subcad2)\n",
    "fragmento.rfind(subcad1)\n",
    "\n",
    "#fragmento.rindex(subcad2)\n",
    "fragmento.rindex(subcad1)"
   ]
  },
  {
   "cell_type": "markdown",
   "metadata": {},
   "source": [
    "* `count()`\n",
    "\n",
    "Para contar el número de veces que aparece una subcadena dentro de un string.\n"
   ]
  },
  {
   "cell_type": "code",
   "execution_count": 64,
   "metadata": {},
   "outputs": [
    {
     "data": {
      "text/plain": [
       "0"
      ]
     },
     "execution_count": 64,
     "metadata": {},
     "output_type": "execute_result"
    }
   ],
   "source": [
    "fragmento = '''¿Deseas que te amen? \n",
    "No pierdas, pues,\n",
    "El rumbo de tu corazón.\n",
    "Sólo aquello que eres has de ser\n",
    "Y aquello que no eres, no.\n",
    "Así, en el mundo, tu modo sutil,\n",
    "Tu gracia, tu bellísimo ser,\n",
    "Serán objeto de elogio sin fin\n",
    "Y el amor... un sencillo deber.'''\n",
    "\n",
    "subcade1 = \"que\"\n",
    "subcade2 = \"se\"\n",
    "subcade3 = \" se \"\n",
    "\n",
    "fragmento.count(subcade1)\n",
    "fragmento.count(subcade2)\n",
    "fragmento.count(subcade3)"
   ]
  },
  {
   "cell_type": "markdown",
   "metadata": {},
   "source": [
    "* `isalnum()`\n",
    "\n",
    "Si deseamos saber si todos los caracteres  dentro de la cadena son únicamente **letras** o **números**."
   ]
  },
  {
   "cell_type": "code",
   "execution_count": 74,
   "metadata": {},
   "outputs": [
    {
     "data": {
      "text/plain": [
       "False"
      ]
     },
     "execution_count": 74,
     "metadata": {},
     "output_type": "execute_result"
    }
   ],
   "source": [
    "fragmento = '''¿Deseas que te amen? \n",
    "No pierdas, pues,\n",
    "El rumbo de tu corazón.\n",
    "Sólo aquello que eres has de ser\n",
    "Y aquello que no eres, no.\n",
    "Así, en el mundo, tu modo sutil,\n",
    "Tu gracia, tu bellísimo ser,\n",
    "Serán objeto de elogio sin fin\n",
    "Y el amor... un sencillo deber.'''\n",
    "\n",
    "fragmento.isalnum()"
   ]
  },
  {
   "cell_type": "markdown",
   "metadata": {},
   "source": [
    "En el caso anterior la respuesta es `False` debido a que hay caracteres de puntuación y espacios, si por el contrario sólo hubieran letras la respuesta sería `True`."
   ]
  },
  {
   "cell_type": "code",
   "execution_count": 75,
   "metadata": {},
   "outputs": [
    {
     "data": {
      "text/plain": [
       "True"
      ]
     },
     "execution_count": 75,
     "metadata": {},
     "output_type": "execute_result"
    }
   ],
   "source": [
    "fragmento = '''Deseasdfiubweubew'''\n",
    "\n",
    "fragmento.isalnum()"
   ]
  }
 ],
 "metadata": {
  "kernelspec": {
   "display_name": "Python 3",
   "language": "python",
   "name": "python3"
  },
  "language_info": {
   "codemirror_mode": {
    "name": "ipython",
    "version": 3
   },
   "file_extension": ".py",
   "mimetype": "text/x-python",
   "name": "python",
   "nbconvert_exporter": "python",
   "pygments_lexer": "ipython3",
   "version": "3.10.12"
  }
 },
 "nbformat": 4,
 "nbformat_minor": 2
}
