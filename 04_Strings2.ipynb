{
 "cells": [
  {
   "cell_type": "markdown",
   "metadata": {},
   "source": [
    "# Más funciones para manejo de Strings\n"
   ]
  },
  {
   "cell_type": "markdown",
   "metadata": {},
   "source": [
    "# `capitalize()`\n",
    "\n",
    "Pone mayúscula sólo a la primera palabra que encuentra."
   ]
  },
  {
   "cell_type": "code",
   "execution_count": 4,
   "metadata": {},
   "outputs": [
    {
     "data": {
      "text/plain": [
       "'En el centro del universo habita un agujero negro.'"
      ]
     },
     "execution_count": 4,
     "metadata": {},
     "output_type": "execute_result"
    }
   ],
   "source": [
    "oracion = \"en el centro de la galaxia habita un agujero negro.\"\n",
    "\n",
    "oracion.capitalize()"
   ]
  },
  {
   "cell_type": "markdown",
   "metadata": {},
   "source": [
    "# `title()`\n",
    "\n",
    "Pone mayúscula a cada una de las palabras del texto."
   ]
  },
  {
   "cell_type": "code",
   "execution_count": 1,
   "metadata": {},
   "outputs": [
    {
     "data": {
      "text/plain": [
       "'En El Centro De La Galaxia Habita Un Agujero Negro.'"
      ]
     },
     "execution_count": 1,
     "metadata": {},
     "output_type": "execute_result"
    }
   ],
   "source": [
    "oracion = \"en el centro de la galaxia habita un agujero negro.\"\n",
    "\n",
    "oracion.title()"
   ]
  },
  {
   "cell_type": "markdown",
   "metadata": {},
   "source": [
    "# `upper()`\n",
    "\n",
    "Convierte cada una de las letras a mayúsculas."
   ]
  },
  {
   "cell_type": "code",
   "execution_count": 2,
   "metadata": {},
   "outputs": [
    {
     "data": {
      "text/plain": [
       "'EN EL CENTRO DE LA GALAXIA HABITA UN AGUJERO NEGRO.'"
      ]
     },
     "execution_count": 2,
     "metadata": {},
     "output_type": "execute_result"
    }
   ],
   "source": [
    "oracion = \"en el centro de la galaxia habita un agujero negro.\"\n",
    "\n",
    "oracion.upper()"
   ]
  },
  {
   "cell_type": "markdown",
   "metadata": {},
   "source": [
    "# `lower()`\n",
    "\n",
    "Convierte cada una de las letras a minúsculas."
   ]
  },
  {
   "cell_type": "code",
   "execution_count": 3,
   "metadata": {},
   "outputs": [
    {
     "data": {
      "text/plain": [
       "'en el centro de la galaxia habita un agujero negro'"
      ]
     },
     "execution_count": 3,
     "metadata": {},
     "output_type": "execute_result"
    }
   ],
   "source": [
    "oracionl = \"EN EL CENTRO DE LA GALAXIA HABITA UN AGUJERO NEGRO\"\n",
    "\n",
    "oracionl.lower()"
   ]
  },
  {
   "cell_type": "markdown",
   "metadata": {},
   "source": [
    "# swapcase()\n",
    "\n",
    "Intercambia las letras mayúsculas por minusculas y viceversa."
   ]
  },
  {
   "cell_type": "code",
   "execution_count": 4,
   "metadata": {},
   "outputs": [
    {
     "data": {
      "text/plain": [
       "'eN eL cENTRO dE lA gALAXIA hABITA uN aGUJERO nEGRO.'"
      ]
     },
     "execution_count": 4,
     "metadata": {},
     "output_type": "execute_result"
    }
   ],
   "source": [
    "oracions = \"En El Centro De La Galaxia Habita Un Agujero Negro.\"\n",
    "oracions.swapcase()"
   ]
  },
  {
   "cell_type": "markdown",
   "metadata": {},
   "source": [
    "# Alineación\n",
    "\n",
    "Algunas funciones de alineación del diseño permiten que la cadena se alinee dentro de el número total de espacios especificado.\n",
    "\n",
    "En el siguiente caso por ejemplo, la cadena se centra en 30 espacios."
   ]
  },
  {
   "cell_type": "code",
   "execution_count": 6,
   "metadata": {},
   "outputs": [
    {
     "data": {
      "text/plain": [
       "'Un anillo para gobernarlos a todos.'"
      ]
     },
     "execution_count": 6,
     "metadata": {},
     "output_type": "execute_result"
    }
   ],
   "source": [
    "anillos = \"Un anillo para gobernarlos a todos.\"\n",
    "\n",
    "anillos.center(30)"
   ]
  },
  {
   "cell_type": "markdown",
   "metadata": {},
   "source": [
    "Justificar la cadena de caracteres hacia el lado izquierdo."
   ]
  },
  {
   "cell_type": "code",
   "execution_count": 7,
   "metadata": {},
   "outputs": [
    {
     "data": {
      "text/plain": [
       "'Un anillo para gobernarlos a todos.'"
      ]
     },
     "execution_count": 7,
     "metadata": {},
     "output_type": "execute_result"
    }
   ],
   "source": [
    "anillos = \"Un anillo para gobernarlos a todos.\"\n",
    "\n",
    "anillos.ljust(30)"
   ]
  },
  {
   "cell_type": "markdown",
   "metadata": {},
   "source": [
    "Justificar la cadena de caracteres hacia el lado derecho."
   ]
  },
  {
   "cell_type": "code",
   "execution_count": 8,
   "metadata": {},
   "outputs": [
    {
     "data": {
      "text/plain": [
       "'Un anillo para gobernarlos a todos.'"
      ]
     },
     "execution_count": 8,
     "metadata": {},
     "output_type": "execute_result"
    }
   ],
   "source": [
    "anillos = \"Un anillo para gobernarlos a todos.\"\n",
    "\n",
    "anillos.rjust(30)"
   ]
  },
  {
   "cell_type": "markdown",
   "metadata": {},
   "source": [
    "# Formateado\n",
    "\n",
    "Además de poder concatenar string con el caracter `+` , es posible realizar interpolación de cadenas utilizando otros formatos. Esto es de utilidad cuando se quieren producir informes, formularios entro otros."
   ]
  },
  {
   "cell_type": "markdown",
   "metadata": {},
   "source": [
    "## `{}.format()`\n",
    "\n",
    "Esta es otra manera de llevar un dato a un formato string."
   ]
  },
  {
   "cell_type": "code",
   "execution_count": 7,
   "metadata": {},
   "outputs": [
    {
     "data": {
      "text/plain": [
       "'1.34'"
      ]
     },
     "execution_count": 7,
     "metadata": {},
     "output_type": "execute_result"
    }
   ],
   "source": [
    "objeto1 = \"termostato\"\n",
    "\"{}\".format(objeto1)\n",
    "\n",
    "objeto = 1.34\n",
    "\"{}\".format(objeto)"
   ]
  },
  {
   "cell_type": "markdown",
   "metadata": {},
   "source": [
    "En el siguiente ejemplo, es necesario manetener el orden en el que desea que aparezcan las variables."
   ]
  },
  {
   "cell_type": "code",
   "execution_count": 8,
   "metadata": {},
   "outputs": [
    {
     "data": {
      "text/plain": [
       "'La actriz Zendaya nació en Estados Unidos'"
      ]
     },
     "execution_count": 8,
     "metadata": {},
     "output_type": "execute_result"
    }
   ],
   "source": [
    "actor = \"Zendaya\"\n",
    "pais = \"Estados Unidos\"\n",
    "\n",
    "\"La actriz {} nació en {}\".format(actor, pais)"
   ]
  },
  {
   "cell_type": "code",
   "execution_count": 15,
   "metadata": {},
   "outputs": [
    {
     "data": {
      "text/plain": [
       "'La actriz Estados Unidos nació en Zendaya'"
      ]
     },
     "execution_count": 15,
     "metadata": {},
     "output_type": "execute_result"
    }
   ],
   "source": [
    "\"La actriz {} nació en {}\".format(pais, actor)"
   ]
  },
  {
   "cell_type": "markdown",
   "metadata": {},
   "source": [
    "También es posible especificar los argumentos escribiendo su posición, donde el valor cero (`0`)corresponde a la posición del primer argumento y el uno (`1`) a la variable `pais`."
   ]
  },
  {
   "cell_type": "code",
   "execution_count": 16,
   "metadata": {},
   "outputs": [
    {
     "data": {
      "text/plain": [
       "'La actriz Zendaya nació en Estados Unidos'"
      ]
     },
     "execution_count": 16,
     "metadata": {},
     "output_type": "execute_result"
    }
   ],
   "source": [
    "actor = \"Zendaya\"\n",
    "pais = \"Estados Unidos\"\n",
    "\n",
    "\"La actriz {0} nació en {1}\".format(actor, pais)"
   ]
  },
  {
   "cell_type": "markdown",
   "metadata": {},
   "source": [
    "Se pueden definir de manera explícita los argumentos dentro de la función `format()`."
   ]
  },
  {
   "cell_type": "code",
   "execution_count": 9,
   "metadata": {},
   "outputs": [
    {
     "data": {
      "text/plain": [
       "'La actriz Gal Gadot nació en Israel'"
      ]
     },
     "execution_count": 9,
     "metadata": {},
     "output_type": "execute_result"
    }
   ],
   "source": [
    "\"La actriz {actor} nació en {pais}\".format(actor = \"Gal Gadot\", pais = \"Israel\")"
   ]
  },
  {
   "cell_type": "markdown",
   "metadata": {},
   "source": [
    "Se pueden especificar los argumentos dentro de un diccionario:"
   ]
  },
  {
   "cell_type": "code",
   "execution_count": 10,
   "metadata": {},
   "outputs": [
    {
     "data": {
      "text/plain": [
       "'La actriz Jenna Ortega nació en EEUU'"
      ]
     },
     "execution_count": 10,
     "metadata": {},
     "output_type": "execute_result"
    }
   ],
   "source": [
    "d = {\"actor\": \"Jenna Ortega\", \"pais\": \"EEUU\"}\n",
    "\n",
    "\"La actriz {0[actor]} nació en {0[pais]}\".format(d)"
   ]
  },
  {
   "cell_type": "markdown",
   "metadata": {},
   "source": [
    "## La manera más reciente de dar formato `f-strings`\n",
    "\n",
    "Este formato `f-strings` apareció en la versión de Python 3.6 y es hoy en día el formato más recomendado para los string.\n",
    "\n",
    "Su implementación se realiza digitando la letra `f` o `F` justo antes de cadena de caracteres. Para incluir las variables, se hace dentro de las llaves `{ }`."
   ]
  },
  {
   "cell_type": "code",
   "execution_count": 27,
   "metadata": {},
   "outputs": [
    {
     "data": {
      "text/plain": [
       "'La actriz Zendaya nación en Estados Unidos'"
      ]
     },
     "execution_count": 27,
     "metadata": {},
     "output_type": "execute_result"
    }
   ],
   "source": [
    "actor = \"Zendaya\"\n",
    "pais = \"Estados Unidos\"\n",
    "\n",
    "f\"La actriz {actor} nació en {pais}.\"\n",
    "F\"La actriz {actor} nació en {pais}\""
   ]
  },
  {
   "cell_type": "markdown",
   "metadata": {},
   "source": [
    "Python tiene muchas más funciones para el manejo de strings. Se puede encontrar más información y detalles sobre estas funciones en la [documentación oficial.](https://docs.python.org/3/library/stdtypes.html#string-methods)"
   ]
  }
 ],
 "metadata": {
  "kernelspec": {
   "display_name": "Python 3",
   "language": "python",
   "name": "python3"
  },
  "language_info": {
   "codemirror_mode": {
    "name": "ipython",
    "version": 3
   },
   "file_extension": ".py",
   "mimetype": "text/x-python",
   "name": "python",
   "nbconvert_exporter": "python",
   "pygments_lexer": "ipython3",
   "version": "3.10.12"
  }
 },
 "nbformat": 4,
 "nbformat_minor": 2
}
