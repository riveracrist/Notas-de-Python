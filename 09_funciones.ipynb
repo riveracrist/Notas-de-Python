{
 "cells": [
  {
   "cell_type": "markdown",
   "metadata": {},
   "source": [
    "# Funciones\n",
    "\n",
    "Una función en Python es un bloque de código realiza una tarea espcífica.\n",
    "\n",
    "Si un procedimiento o fragmento de ćodigo comienza a aparecer en más de una ocasión, es decir se vuelve repetitivo dentro de un programa, se debe considerar la posibilidad de crear una función para ese procedimiento en particular.\n",
    "\n",
    "Puede suceder que el algoritmo que se desea implementar sea tan complejo que el código comience a crecer y se vuelva difícil su lectura o navegación. Usar funciones permite reutilizar estos fragmentos de código para descomponer grandes piezas de software en piezas más pequeñas de código independientes.\n",
    "\n",
    "Esto facilita la revisión y detección de errores dentro de un programa.\n",
    "\n",
    "Al final se obtiene un producto conformado por un conjunto de funciones escritas por separado empaquetadas en diferentes módulos.\n",
    "\n",
    "Las funciones provienen por lo general:\n",
    "\n",
    "De Python, el cual tiene algunas ya integradas que realizan operaciones específicas. Algunos módulos preinstalados de Python traen una serie de funciones para hacer tareas particulares. Algunos ejemplos de estas funciones son `print()`, `len()`, `range()`. [Librería de funciones](https://docs.python.org/3/library/functions.html).\n",
    "\n",
    "También existen las funciones creadas por el mismo programador para cumplir con una necesidad propia del programa que está realizando.\n",
    "\n",
    "## ¿Cómo se define una función?\n",
    "\n",
    "* Siempre comienza con la palabra reservada `def` que siginifica definir.\n",
    "\n",
    "* Después de `def` se escribe el nombre de la función. **Las reglas para dar nombre a las funciones son las mismas que las reglas para nombrar las variables. No deben comenzar con un número, no deben llevar espacios ni caracteres especiales, etc.**\n",
    "\n",
    "* Seguido del nombre la función se abre y se cierra paréntesis. Dentro de los paŕentesis van los argumentos que recibe la función, si así los requiere, de lo contrario los paŕentesis pueden ir vacíos.\n",
    "\n",
    "* Al final del paréntesis de cierre, la línea termina con dos puntos.\n",
    " \n",
    "* La línea inmediatamente después de `def` marca el comienzo del cuerpo de la función - donde varias o (al menos una) instrucción anidada, será ejecutada cada vez que la función sea invocada.\n",
    "\n",
    "> Nota: la función termina donde el anidamiento termina, se debe ser cauteloso y tener certeza de esto para crear la función correctamente.\n",
    "\n",
    "Para hacer uso de la función, la llamamos o invocamos por su nombre seguido de los paréntesis.\n",
    "\n",
    "Las funciones contienen parámetros y pueden retornar valores."
   ]
  },
  {
   "cell_type": "code",
   "execution_count": null,
   "metadata": {},
   "outputs": [
    {
     "name": "stdout",
     "output_type": "stream",
     "text": [
      "Este es mi mensaje\n"
     ]
    }
   ],
   "source": [
    "# Ejemplo de construcción de una función.\n",
    "\n",
    "def mi_mensaje():\n",
    "    print(\"Este es mi mensaje\") # cuerpo de la función\n",
    "    \n",
    "    \n",
    "mi_mensaje() # Invocar o llamar la función creada"
   ]
  },
  {
   "cell_type": "markdown",
   "metadata": {},
   "source": [
    "La función creada anteriormente imprime el mensaje `\"Este es mi mensaje\"`, una función sencilla que ilustra cómo se construye una función. El cuerpo de la función está constituida por la línea `print(\"Este es mi mensaje\")`, la cual es la operación que realiza, imprimir un mensaje.\n",
    "\n",
    "De este modo podemos hacer uso de la función cuando sea necesario."
   ]
  },
  {
   "cell_type": "code",
   "execution_count": 4,
   "metadata": {},
   "outputs": [
    {
     "name": "stdout",
     "output_type": "stream",
     "text": [
      "Inicia aqui.\n",
      "Este es mi mensaje\n",
      "Termina aqui.\n"
     ]
    }
   ],
   "source": [
    "print(\"Inicia aqui.\")\n",
    "mi_mensaje()\n",
    "print(\"Termina aqui.\")"
   ]
  },
  {
   "cell_type": "markdown",
   "metadata": {},
   "source": [
    "Cuando se invoca una función, Python recuerda el lugar donde esto ocurre y salta hacia dentro de la función invocada; el cuerpo de la función es entonces ejecutado; al llegar al final de la función, Python regresa al lugar inmediato después de donde ocurrió la invocación.\n",
    "\n",
    "> La función debe ser definia antes de ser invocada."
   ]
  },
  {
   "cell_type": "markdown",
   "metadata": {},
   "source": [
    "> Otro dato importante a tener en cuenta es que una función no puede compartir el mismo nombre de una variable."
   ]
  },
  {
   "cell_type": "code",
   "execution_count": 5,
   "metadata": {},
   "outputs": [],
   "source": [
    "def mi_mensaje():\n",
    "    print(\"Este es mi mensaje\")\n",
    "    \n",
    "mi_mensaje = \"Hola\""
   ]
  },
  {
   "cell_type": "markdown",
   "metadata": {},
   "source": [
    "El asignar un valor al nombre message causa que Python olvide su rol anterior. La función con el nombre de message ya no estará disponible.\n",
    "\n",
    "Lo que si es posible, es asignar a una variable, una función."
   ]
  },
  {
   "cell_type": "markdown",
   "metadata": {},
   "source": [
    "## Argumentos\n",
    "\n",
    "En Python, los argumentos de una función son los valores que se pasan a la función para que esta realice una tarea específica.\n",
    "\n",
    "### Definición de Argumentos y Parámetros\n",
    "\n",
    "Los parámetros son las variables definidas en la firma de la función, mientras que los argumentos son los valores reales que se pasan a la función cuando se llama o invoca."
   ]
  },
  {
   "cell_type": "markdown",
   "metadata": {},
   "source": [
    "### Argumentos y Tipos de Datos\n",
    "\n",
    "Los argumentos pueden ser de cualquier tipo de dato válido en Python, incluyendo pero no limitado a:\n",
    "\n",
    "* Enteros (int)\n",
    "* Flotantes (float)\n",
    "* Cadenas (str)\n",
    "* Listas (list)\n",
    "* Tuplas (tuple)\n",
    "* Diccionarios (dict)\n",
    "* Conjuntos (set)\n",
    "* Booleanos (bool)\n",
    "* NoneType (None)"
   ]
  },
  {
   "cell_type": "markdown",
   "metadata": {},
   "source": [
    "## Funciones Parametrizadas\n",
    "\n",
    "El potencial completo de una función se revela cuando puede ser equipada con una interface que es capaz de aceptar datos provenientes de la invocación. Dichos datos pueden modificar el comportamiento de la función, haciéndola más flexible y adaptable a condiciones cambiantes.\n",
    "\n",
    "Un parámetro es una variable, pero existen dos factores que hacen a un parámetro diferente:\n",
    "\n",
    "* los parámetros solo existen dentro de las funciones en donde han sido definidos, y el único lugar donde un parámetro puede ser definido es entre los paréntesis después del nombre de la función, donde se encuentra la palabra clave reservada `def`.\n",
    "\n",
    "* la asignación de un valor a un parámetro de una función se hace en el momento en que la función se manda llamar o se invoca, especificando el argumento correspondiente.\n",
    "\n",
    "Recuerda que:\n",
    "\n",
    "* los parámetros solo existen dentro de las funciones (este es su entorno natural).\n",
    "\n",
    "* los argumentos existen fuera de las funciones, y son los que pasan los valores a los parámetros correspondientes."
   ]
  },
  {
   "cell_type": "code",
   "execution_count": 10,
   "metadata": {},
   "outputs": [
    {
     "name": "stdout",
     "output_type": "stream",
     "text": [
      "Hola, buenos días Karla\n",
      "Hola, buenos días 932\n",
      "Hola, buenos días Selena\n"
     ]
    }
   ],
   "source": [
    "def mensaje(parametro):\n",
    "    print(\"Hola, buenos días\", parametro)\n",
    "    \n",
    "mensaje(\"Karla\")\n",
    "\n",
    "mensaje(932)\n",
    "\n",
    "mensaje(parametro = \"Selena\")"
   ]
  },
  {
   "cell_type": "markdown",
   "metadata": {},
   "source": [
    "Existe una circunstancia importante que se debe mencionar.\n",
    "\n",
    "> Es posible tener una variable con el mismo nombre del parámetro de la función."
   ]
  },
  {
   "cell_type": "code",
   "execution_count": 12,
   "metadata": {},
   "outputs": [
    {
     "name": "stdout",
     "output_type": "stream",
     "text": [
      "Ingresa un número: 1\n",
      "1234\n"
     ]
    }
   ],
   "source": [
    "def mifuncion(numero):\n",
    "    print(\"Ingresa un número:\", numero)\n",
    " \n",
    "numero = 1234\n",
    "mifuncion(1)\n",
    "print(numero)"
   ]
  },
  {
   "cell_type": "markdown",
   "metadata": {},
   "source": [
    "Una función puede tener tantos parámetros como se desee, pero entre más parámetros, es más difícil memorizar su rol y propósito."
   ]
  },
  {
   "cell_type": "code",
   "execution_count": 16,
   "metadata": {},
   "outputs": [
    {
     "name": "stdout",
     "output_type": "stream",
     "text": [
      "Hoy es 12 del mes Marzo\n"
     ]
    }
   ],
   "source": [
    "def lafuncion(dia, mes):\n",
    "    print(\"Hoy es\", dia, \"del mes\", mes)\n",
    "    \n",
    "lafuncion(12, \"Marzo\")"
   ]
  },
  {
   "cell_type": "markdown",
   "metadata": {},
   "source": [
    "## Argumentos Posicionales\n",
    "\n",
    "La técnica que asigna cada argumento al parámetro correspondiente, es llamada paso de parámetros posicionales, los argumentos pasados de esta manera son llamados argumentos posicionales."
   ]
  },
  {
   "cell_type": "code",
   "execution_count": 17,
   "metadata": {},
   "outputs": [
    {
     "name": "stdout",
     "output_type": "stream",
     "text": [
      "1 2 3\n"
     ]
    }
   ],
   "source": [
    "def lfuncion(a, b, c):\n",
    "    print(a, b, c)\n",
    " \n",
    "lfuncion(1, 2, 3)"
   ]
  },
  {
   "cell_type": "markdown",
   "metadata": {},
   "source": [
    "## Paso de Argumentos Clave\n",
    "\n",
    "Python ofrece otra manera de pasar argumentos, donde el significado del argumento está definido por su nombre, no su posición. A esto se le denomina paso de argumentos con palabra clave.\n",
    "\n",
    "Los valores pasados a los parámetros son precedidos por el nombre del parámetro al que se le va a pasar el valor, seguido por el signo de `=`."
   ]
  },
  {
   "cell_type": "code",
   "execution_count": 19,
   "metadata": {},
   "outputs": [
    {
     "name": "stdout",
     "output_type": "stream",
     "text": [
      "1 2 3\n",
      "1 2 3\n"
     ]
    }
   ],
   "source": [
    "def lfuncion(a, b, c):\n",
    "    print(a, b, c)\n",
    " \n",
    "lfuncion(a = 1, b =  2, c =  3)\n",
    "\n",
    "lfuncion(c = 3, a =  1, b =  2)"
   ]
  },
  {
   "cell_type": "markdown",
   "metadata": {},
   "source": [
    "La posición no es relevante aquí - cada argumento conoce su destino con base en el nombre utilizado."
   ]
  },
  {
   "cell_type": "code",
   "execution_count": 1,
   "metadata": {},
   "outputs": [
    {
     "name": "stdout",
     "output_type": "stream",
     "text": [
      "3 2 1\n"
     ]
    },
    {
     "ename": "TypeError",
     "evalue": "lfuncion() got multiple values for argument 'a'",
     "output_type": "error",
     "traceback": [
      "\u001b[0;31m---------------------------------------------------------------------------\u001b[0m",
      "\u001b[0;31mTypeError\u001b[0m                                 Traceback (most recent call last)",
      "Cell \u001b[0;32mIn[1], line 6\u001b[0m\n\u001b[1;32m      2\u001b[0m     \u001b[38;5;28mprint\u001b[39m(a, b, c)\n\u001b[1;32m      4\u001b[0m lfuncion(\u001b[38;5;241m3\u001b[39m, c \u001b[38;5;241m=\u001b[39m  \u001b[38;5;241m1\u001b[39m, b \u001b[38;5;241m=\u001b[39m  \u001b[38;5;241m2\u001b[39m)\n\u001b[0;32m----> 6\u001b[0m \u001b[43mlfuncion\u001b[49m\u001b[43m(\u001b[49m\u001b[38;5;241;43m3\u001b[39;49m\u001b[43m,\u001b[49m\u001b[43m \u001b[49m\u001b[43ma\u001b[49m\u001b[43m \u001b[49m\u001b[38;5;241;43m=\u001b[39;49m\u001b[43m  \u001b[49m\u001b[38;5;241;43m1\u001b[39;49m\u001b[43m,\u001b[49m\u001b[43m \u001b[49m\u001b[43mb\u001b[49m\u001b[43m \u001b[49m\u001b[38;5;241;43m=\u001b[39;49m\u001b[43m  \u001b[49m\u001b[38;5;241;43m2\u001b[39;49m\u001b[43m)\u001b[49m \u001b[38;5;66;03m# esto arroja error\u001b[39;00m\n",
      "\u001b[0;31mTypeError\u001b[0m: lfuncion() got multiple values for argument 'a'"
     ]
    }
   ],
   "source": [
    "def lfuncion(a, b, c):\n",
    "    print(a, b, c)\n",
    "\n",
    "lfuncion(3, c =  1, b =  2)\n",
    "\n",
    "lfuncion(3, a =  1, b =  2) # esto arroja error"
   ]
  },
  {
   "cell_type": "markdown",
   "metadata": {},
   "source": [
    "## Funciones Parametrizadas\n"
   ]
  },
  {
   "cell_type": "code",
   "execution_count": null,
   "metadata": {},
   "outputs": [
    {
     "name": "stdout",
     "output_type": "stream",
     "text": [
      "-2\n"
     ]
    }
   ],
   "source": [
    "def resta(a = 5, b = 3):\n",
    "    resultado = b - a\n",
    "    print(resultado)\n",
    "    \n",
    "resta()"
   ]
  },
  {
   "cell_type": "markdown",
   "metadata": {},
   "source": [
    "En este caso se definen valores por defecto para los argumentos de las funciones, de manera que cuando se invoca a la función sin argumentos arroja el valor obtenido con los valores predefinidos.\n",
    "\n",
    "Para dar otro valor a los argumentos simplemente se le asigna el valor deseado."
   ]
  },
  {
   "cell_type": "code",
   "execution_count": 29,
   "metadata": {},
   "outputs": [
    {
     "name": "stdout",
     "output_type": "stream",
     "text": [
      "-15\n"
     ]
    }
   ],
   "source": [
    "def resta(a = 5, b = 3):\n",
    "    resultado = b - a\n",
    "    print(resultado)\n",
    "    \n",
    "resta(43, 28)"
   ]
  },
  {
   "cell_type": "markdown",
   "metadata": {},
   "source": [
    "Resumen:\n",
    "\n",
    "Puedes pasar argumentos a una función utilizando las siguientes técnicas:\n",
    "\n",
    "* paso de argumentos posicionales en la cual el orden de los parámetros es relevante.\n",
    "\n",
    "* paso de argumentos con palabras clave en la cual el orden de los argumentos es irrelevante.\n",
    "\n",
    "* una mezcla de argumentos posicionales y con palabras clave."
   ]
  },
  {
   "cell_type": "markdown",
   "metadata": {},
   "source": [
    "Es importante recordar que primero se especifican los argumentos posicionales y después los de palabras clave. Es por esa razón que si se intenta ejecutar el siguiente código, arroja un error de sintáxis (`SyntaxError`)."
   ]
  },
  {
   "cell_type": "code",
   "execution_count": 30,
   "metadata": {},
   "outputs": [
    {
     "ename": "SyntaxError",
     "evalue": "positional argument follows keyword argument (464598998.py, line 5)",
     "output_type": "error",
     "traceback": [
      "\u001b[0;36m  Cell \u001b[0;32mIn[30], line 5\u001b[0;36m\u001b[0m\n\u001b[0;31m    resta(a = 43, 28)\u001b[0m\n\u001b[0m                    ^\u001b[0m\n\u001b[0;31mSyntaxError\u001b[0m\u001b[0;31m:\u001b[0m positional argument follows keyword argument\n"
     ]
    }
   ],
   "source": [
    "def resta(a = 5, b = 3):\n",
    "    resultado = b - a\n",
    "    print(resultado)\n",
    "    \n",
    "    resta(a = 43, 28)"
   ]
  },
  {
   "cell_type": "code",
   "execution_count": 33,
   "metadata": {},
   "outputs": [
    {
     "name": "stdout",
     "output_type": "stream",
     "text": [
      "-15\n"
     ]
    }
   ],
   "source": [
    "# esta es la forma correcta\n",
    "def resta(a = 5, b = 3):\n",
    "    resultado = b - a\n",
    "    print(resultado)\n",
    "    \n",
    "resta(43, b = 28)\n"
   ]
  },
  {
   "cell_type": "markdown",
   "metadata": {},
   "source": [
    "## Retornando el Resultado de una Función\n",
    "\n",
    "## `return`\n",
    "\n",
    "Para lograr que las funciones devuelvan un valor (pero no solo para ese propósito) se utiliza la instrucción `return` (regresar o retornar) y es una palabra clave reservada de Python.\n",
    "\n",
    "Cuando una función realiza un cálculo o procesamiento, puede devolver un resultado utilizando la declaración `return`. Esto permite que el resultado de la función sea utilizado por otras partes del programa.\n",
    "\n",
    "Como vimos anteriormente el uso de esta sentencia no es obligatorio, pero si deseamos trabajar con el valor obtenido es bueno hacer uso de ella. Por ejemplo, es posible asignar a una variable el valor obtenido con la función.\n",
    "\n",
    "Una función puede tener múltiples puntos de \"retorno\" una vez la función alcanza esta declaración `return` la función finaliza y devuelve el valor especificado."
   ]
  },
  {
   "cell_type": "code",
   "execution_count": null,
   "metadata": {},
   "outputs": [
    {
     "name": "stdout",
     "output_type": "stream",
     "text": [
      "-3\n"
     ]
    }
   ],
   "source": [
    "def resta(a = 5, b = 3):\n",
    "    resultado = b - a\n",
    "    return resultado\n",
    "    \n",
    "operacion = resta(7, 4)\n",
    "print(operacion)"
   ]
  },
  {
   "cell_type": "markdown",
   "metadata": {},
   "source": [
    "## `return` sin una Expresión"
   ]
  },
  {
   "cell_type": "code",
   "execution_count": 2,
   "metadata": {},
   "outputs": [
    {
     "name": "stdout",
     "output_type": "stream",
     "text": [
      "Tres...\n",
      "Dos...\n",
      "Uno...\n",
      "¡Feliz año nuevo!\n"
     ]
    }
   ],
   "source": [
    "def felices_fiestas(deseos = True):\n",
    "    print(\"Tres...\")\n",
    "    print(\"Dos...\")\n",
    "    print(\"Uno...\")\n",
    "    if not deseos:\n",
    "        return\n",
    "\n",
    "    print(\"¡Feliz año nuevo!\")\n",
    "    \n",
    "felices_fiestas()"
   ]
  },
  {
   "cell_type": "code",
   "execution_count": 4,
   "metadata": {},
   "outputs": [
    {
     "name": "stdout",
     "output_type": "stream",
     "text": [
      "Tres...\n",
      "Dos...\n",
      "Uno...\n"
     ]
    }
   ],
   "source": [
    "felices_fiestas(False)"
   ]
  },
  {
   "cell_type": "markdown",
   "metadata": {},
   "source": [
    "## `return` con una Expresión"
   ]
  },
  {
   "cell_type": "markdown",
   "metadata": {},
   "source": [
    "Existen dos consecuencias de usarla:\n",
    "\n",
    "* provoca la terminación inmediata de la ejecución de la función.\n",
    "  \n",
    "* la función evaluará el valor de la expresión y lo devolverá (de ahí el nombre una vez más) como el resultado de la función."
   ]
  },
  {
   "cell_type": "code",
   "execution_count": 5,
   "metadata": {},
   "outputs": [
    {
     "name": "stdout",
     "output_type": "stream",
     "text": [
      "El resultado de la operación es:  -3\n"
     ]
    }
   ],
   "source": [
    "def resta(a = 5, b = 3):\n",
    "    resultado = b - a\n",
    "    return resultado\n",
    "    \n",
    "operacion = resta(7, 4)\n",
    "print(\"El resultado de la operación es: \", operacion)"
   ]
  },
  {
   "cell_type": "markdown",
   "metadata": {},
   "source": [
    "# Valor `None`\n",
    "\n",
    "En Python, el valor None es un concepto fundamental que representa la ausencia de un valor o la falta de definición. \n",
    "\n",
    "### Significado\n",
    "\n",
    "None es un valor especial que indica que una variable no tiene asignado ningún valor específico. No es lo mismo que una cadena vacía (\"\"), el número cero (0), o el valor booleano False. Es un tipo de dato único diseñado para representar la ausencia de cualquier objeto o valor.\n",
    "\n",
    "### Tipo de Dato\n",
    "\n",
    "`None` es un objeto de tipo `NoneType`, lo que significa que es un tipo de dato distinto y exclusivo. Este tipo de dato es único, y solo `None` puede ser None.\n",
    "\n",
    "### Uso\n",
    "\n",
    "**Inicialización de Variables:** Puedes asignar `None` a una variable para indicar que no tiene un valor asignado."
   ]
  },
  {
   "cell_type": "code",
   "execution_count": 7,
   "metadata": {},
   "outputs": [
    {
     "name": "stdout",
     "output_type": "stream",
     "text": [
      "None\n"
     ]
    },
    {
     "data": {
      "text/plain": [
       "NoneType"
      ]
     },
     "execution_count": 7,
     "metadata": {},
     "output_type": "execute_result"
    }
   ],
   "source": [
    "nombre = None\n",
    "print(nombre)  # Salida: None\n",
    "\n",
    "type(nombre)\n"
   ]
  },
  {
   "cell_type": "markdown",
   "metadata": {},
   "source": [
    "**Retorno de Funciones:** Si una función no devuelve un valor explícito, devuelve `None` por defecto."
   ]
  },
  {
   "cell_type": "code",
   "execution_count": null,
   "metadata": {},
   "outputs": [
    {
     "name": "stdout",
     "output_type": "stream",
     "text": [
      "Hola, mundo!\n",
      "None\n"
     ]
    }
   ],
   "source": [
    "def imprimir_mensaje():\n",
    "    print(\"Hola, mundo!\")\n",
    "resultado = imprimir_mensaje()\n",
    "print(resultado)  # Salida: None\n"
   ]
  },
  {
   "cell_type": "markdown",
   "metadata": {},
   "source": [
    "**Verificación de Variables:** se puede usar el operador `is` para verificar si una variable es `None`."
   ]
  },
  {
   "cell_type": "code",
   "execution_count": 42,
   "metadata": {},
   "outputs": [
    {
     "name": "stdout",
     "output_type": "stream",
     "text": [
      "La variable no tiene valor asignado\n"
     ]
    }
   ],
   "source": [
    "valor = None\n",
    "if valor is None:\n",
    "    print(\"La variable no tiene valor asignado\")\n",
    "else:\n",
    "    print(\"La variable tiene un valor asignado\")\n"
   ]
  },
  {
   "cell_type": "markdown",
   "metadata": {},
   "source": [
    "**Parámetros por Defecto:** `None` se puede usar como valor por defecto para parámetros de funciones."
   ]
  },
  {
   "cell_type": "code",
   "execution_count": 44,
   "metadata": {},
   "outputs": [
    {
     "name": "stdout",
     "output_type": "stream",
     "text": [
      "Hola, ¿cómo estás?\n",
      "Hola Juan\n"
     ]
    }
   ],
   "source": [
    "def saludar(nombre=None):\n",
    "    if nombre is None:\n",
    "        print(\"Hola, ¿cómo estás?\")\n",
    "    else:\n",
    "        print(\"Hola\", nombre)\n",
    "        \n",
    "saludar(None)\n",
    "saludar(\"Juan\")\n"
   ]
  },
  {
   "cell_type": "markdown",
   "metadata": {},
   "source": [
    "**Comparaciones:** En contextos booleanos, `None` es considerado `False`, pero no es igual a `False`. Para verificar si una variable es `None`, debes usar el operador `is` en lugar de comparaciones con `==` o en contextos booleanos."
   ]
  },
  {
   "cell_type": "code",
   "execution_count": 8,
   "metadata": {},
   "outputs": [
    {
     "name": "stdout",
     "output_type": "stream",
     "text": [
      "None no es True, o False, None is solo None...\n"
     ]
    }
   ],
   "source": [
    "x = None\n",
    "if x:\n",
    "    print(\"¿Es None, True?\")\n",
    "elif x is False:\n",
    "    print(\"¿ Es None, False?\")\n",
    "else:\n",
    "    print(\"None no es True, o False, None is solo None...\")\n"
   ]
  },
  {
   "cell_type": "markdown",
   "metadata": {},
   "source": [
    ">  Si una función no devuelve un cierto valor utilizando una cláusula de expresión return, se asume que devuelve implícitamente `None`."
   ]
  },
  {
   "cell_type": "markdown",
   "metadata": {},
   "source": [
    "## Ejemplos de Funciones"
   ]
  },
  {
   "cell_type": "code",
   "execution_count": 8,
   "metadata": {},
   "outputs": [
    {
     "data": {
      "text/plain": [
       "9"
      ]
     },
     "execution_count": 8,
     "metadata": {},
     "output_type": "execute_result"
    }
   ],
   "source": [
    "def sum_lista(lista):\n",
    "        suma = sum(lista)\n",
    "        return suma\n",
    "    \n",
    "        print(suma)\n",
    "\n",
    "sum_lista([3, 2, 4])"
   ]
  },
  {
   "cell_type": "code",
   "execution_count": 10,
   "metadata": {},
   "outputs": [
    {
     "name": "stdout",
     "output_type": "stream",
     "text": [
      "12\n"
     ]
    }
   ],
   "source": [
    "def lista_suma(lst):\n",
    "    s = 0\n",
    " \n",
    "    for elem in lst:\n",
    "        s += elem\n",
    " \n",
    "    return s\n",
    "\n",
    "print(lista_suma([5, 4, 3]))"
   ]
  },
  {
   "cell_type": "code",
   "execution_count": 11,
   "metadata": {},
   "outputs": [
    {
     "name": "stdout",
     "output_type": "stream",
     "text": [
      "[4, 3, 2, 1, 0]\n"
     ]
    }
   ],
   "source": [
    "def strange_list_fun(n):\n",
    "    strange_list = []\n",
    "    \n",
    "    for i in range(0, n):\n",
    "        strange_list.insert(0, i)\n",
    "    \n",
    "    return strange_list\n",
    "\n",
    "print(strange_list_fun(5))"
   ]
  },
  {
   "cell_type": "code",
   "execution_count": 12,
   "metadata": {},
   "outputs": [
    {
     "name": "stdout",
     "output_type": "stream",
     "text": [
      "1900 -> OK\n",
      "2000 -> OK\n",
      "2016 -> OK\n",
      "1987 -> OK\n"
     ]
    }
   ],
   "source": [
    "# Año bisiesto\n",
    "\n",
    "def is_year_leap(year):\n",
    "    if year % 4 != 0:\n",
    "        return False\n",
    "    elif year % 100 != 0:\n",
    "        return True\n",
    "    elif year % 400 != 0:\n",
    "        return False\n",
    "    else:\n",
    "        return True\n",
    "\n",
    "test_data = [1900, 2000, 2016, 1987]\n",
    "test_results = [False, True, True, False]\n",
    "for i in range(len(test_data)):\n",
    "    yr = test_data[i]\n",
    "    print(yr,\"-> \",end=\"\")\n",
    "    result = is_year_leap(yr)\n",
    "    if result == test_results[i]:\n",
    "        print(\"OK\")\n",
    "    else:\n",
    "        print(\"Fallido\")"
   ]
  },
  {
   "cell_type": "code",
   "execution_count": null,
   "metadata": {},
   "outputs": [
    {
     "name": "stdout",
     "output_type": "stream",
     "text": [
      "1900 2 -> OK\n",
      "2000 2 -> OK\n",
      "2016 1 -> OK\n",
      "1987 11 -> OK\n"
     ]
    }
   ],
   "source": [
    "# Número de días\n",
    "def is_year_leap(year):\n",
    "    if year % 4 != 0:\n",
    "        return False\n",
    "    elif year % 100 != 0:\n",
    "        return True\n",
    "    elif year % 400 != 0:\n",
    "        return False\n",
    "    else:\n",
    "        return True\n",
    "\n",
    "def days_in_month(year,month):\n",
    "    if year < 1582 or month < 1 or month > 12:\n",
    "        return None\n",
    "    days = [31, 28, 31, 30, 31, 30, 31, 31, 30, 31, 30, 31]\n",
    "    res  = days[month - 1]\n",
    "    if month == 2 and is_year_leap(year):\n",
    "        res = 29\n",
    "    return res\n",
    "\n",
    "test_years = [1900, 2000, 2016, 1987]\n",
    "test_months = [ 2, 2, 1, 11]\n",
    "test_results = [28, 29, 31, 30]\n",
    "for i in range(len(test_years)):\n",
    "    yr = test_years[i]\n",
    "    mo = test_months[i]\n",
    "    print(yr,mo,\"-> \",end=\"\")\n",
    "    result = days_in_month(yr, mo)\n",
    "    if result == test_results[i]:\n",
    "        print(\"OK\")\n",
    "    else:\n",
    "        print(\"Fallido\")"
   ]
  },
  {
   "cell_type": "code",
   "execution_count": 15,
   "metadata": {},
   "outputs": [
    {
     "name": "stdout",
     "output_type": "stream",
     "text": [
      "2 3 5 7 11 13 17 19 \n"
     ]
    }
   ],
   "source": [
    "# Números primos\n",
    "def is_prime(num):\n",
    "    for i in range(2, int(1 + num ** 0.5)):\n",
    "        if num % i == 0:\n",
    "            return False\n",
    "    return True\n",
    "\n",
    "for i in range(1, 20):\n",
    "    if is_prime(i + 1):\n",
    "        print(i + 1, end=\" \")\n",
    "print()\n",
    "\n"
   ]
  },
  {
   "cell_type": "code",
   "execution_count": 16,
   "metadata": {},
   "outputs": [
    {
     "name": "stdout",
     "output_type": "stream",
     "text": [
      "60.31143162393162\n",
      "31.36194444444444\n",
      "23.52145833333333\n",
      "3.9007393587617467\n",
      "7.490910297239916\n",
      "10.009131205673757\n"
     ]
    }
   ],
   "source": [
    "# Conversión del consumo de combustible\n",
    "\n",
    "# 1 milla = 1609.344 metros.\n",
    "# 1 galón = 3.785411784 litros.\n",
    "\n",
    "def liters_100km_to_miles_gallon(liters):\n",
    "    gallons = liters / 3.785411784\n",
    "    miles = 100 * 1000 / 1609.344\n",
    "    return miles / gallons\n",
    "\n",
    "def miles_gallon_to_liters_100km(miles):\n",
    "    km100 = miles * 1609.344 / 1000 / 100\n",
    "    liters = 3.785411784\n",
    "    return liters / km100\n",
    "\n",
    "print(liters_100km_to_miles_gallon(3.9))\n",
    "print(liters_100km_to_miles_gallon(7.5))\n",
    "print(liters_100km_to_miles_gallon(10.))\n",
    "print(miles_gallon_to_liters_100km(60.3))\n",
    "print(miles_gallon_to_liters_100km(31.4))\n",
    "print(miles_gallon_to_liters_100km(23.5))"
   ]
  }
 ],
 "metadata": {
  "kernelspec": {
   "display_name": "Python 3",
   "language": "python",
   "name": "python3"
  },
  "language_info": {
   "codemirror_mode": {
    "name": "ipython",
    "version": 3
   },
   "file_extension": ".py",
   "mimetype": "text/x-python",
   "name": "python",
   "nbconvert_exporter": "python",
   "pygments_lexer": "ipython3",
   "version": "3.10.12"
  }
 },
 "nbformat": 4,
 "nbformat_minor": 2
}
