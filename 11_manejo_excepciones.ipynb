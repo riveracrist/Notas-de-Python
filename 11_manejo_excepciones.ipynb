{
 "cells": [
  {
   "cell_type": "markdown",
   "metadata": {},
   "source": [
    "# Excepciones\n",
    "\n",
    "Presta atención a la palabra excepción, ya que la veremos de nuevo muy pronto en un significado que no tiene nada que ver con el común.\n",
    "\n",
    "Errar es humano, es imposible no cometer errores y es imposible escribir código sin errores.\n",
    "\n",
    "## Errores en los datos frente a errores en el código\n",
    "\n",
    "El lidiar con errores de programación tiene (al menos) dos partes. La primera es cuando te metes en problemas porque tu código, aparentemente correcto, se alimenta con datos incorrectos. \n",
    "\n",
    "Por ejemplo, esperas que se ingrese al código un valor entero, pero tu usuario descuidado ingresa algunas letras al azar. Puede suceder que tu código termine en ese momento y el usuario se quede solo con un mensaje de error conciso y a la vez ambiguo en la pantalla. El usuario estará insatisfecho y tu también deberías estarlo.\n",
    "\n",
    "La segunda parte de lidiar con errores de programación se revela cuando ocurre un comportamiento no deseado del programa debido a errores que se cometieron cuando se estaba escribiendo el código. Este tipo de error se denomina comúnmente \"bug\" (bicho en inglés), que es una manifestación de una creencia bien establecida de que, si un programa funciona mal, esto debe ser causado por bichos maliciosos que viven dentro del hardware de la computadora y causan cortocircuitos u otras interferencias."
   ]
  },
  {
   "cell_type": "markdown",
   "metadata": {},
   "source": [
    "# Manejo de Errores y Excepciones\n",
    "\n",
    "Hay al menos dos tipos de errores, errores de sintáxis y excepciones.\n",
    "\n",
    "## Errores de Sintáxis\n",
    "\n",
    "También conocidos como errores de interpretación, son quizás el tipo de error más común que se comete cuando se está aprendiendo Python.\n",
    "\n",
    "Son errores donde se hace mal uso de la sintáxis de Python y el intérprete no puede ejecutar el código, el código no puede ser interpretado.\n",
    "\n",
    "Por ejemplo cuando no escribimos los dos puntos en una sentencia `while`, `if` o `for`, cuando escribimos mal el nombre de una función o no usamos los paréntesis para definir sus argumentos, etc."
   ]
  },
  {
   "cell_type": "code",
   "execution_count": 1,
   "metadata": {},
   "outputs": [
    {
     "ename": "SyntaxError",
     "evalue": "expected ':' (2701172991.py, line 1)",
     "output_type": "error",
     "traceback": [
      "\u001b[0;36m  Cell \u001b[0;32mIn[1], line 1\u001b[0;36m\u001b[0m\n\u001b[0;31m    while True\u001b[0m\n\u001b[0m              ^\u001b[0m\n\u001b[0;31mSyntaxError\u001b[0m\u001b[0;31m:\u001b[0m expected ':'\n"
     ]
    }
   ],
   "source": [
    "while True\n",
    "    print(\"Hola mundo\")"
   ]
  },
  {
   "cell_type": "markdown",
   "metadata": {},
   "source": [
    "## Excepciones\n",
    "\n",
    "Incluso si una declaración o expresión es sintácticamente correcta, puede generar un error cuando se intenta ejecutar. Los errores detectados durante la ejecución se llaman excepciones, y no son incondicionalemente fatales.\n",
    "\n",
    "La mayoría de las excepciones no son gestionadas por el código, y resultan en mensajes de error.\n",
    "\n",
    "### Tipos de Excepciones\n",
    "\n",
    "* `TypeError`: cuando se realiza una operación en un tipo de dato que no es compatible con esa operación. Por ejemplo, sumar un string con un entero, la operación `+` no puede sumar estos dos tipos de datos."
   ]
  },
  {
   "cell_type": "code",
   "execution_count": 3,
   "metadata": {},
   "outputs": [
    {
     "ename": "TypeError",
     "evalue": "can only concatenate str (not \"int\") to str",
     "output_type": "error",
     "traceback": [
      "\u001b[0;31m---------------------------------------------------------------------------\u001b[0m",
      "\u001b[0;31mTypeError\u001b[0m                                 Traceback (most recent call last)",
      "Cell \u001b[0;32mIn[3], line 1\u001b[0m\n\u001b[0;32m----> 1\u001b[0m \u001b[38;5;124;43m\"\u001b[39;49m\u001b[38;5;124;43m2\u001b[39;49m\u001b[38;5;124;43m\"\u001b[39;49m\u001b[43m \u001b[49m\u001b[38;5;241;43m+\u001b[39;49m\u001b[43m \u001b[49m\u001b[38;5;241;43m2\u001b[39;49m\n",
      "\u001b[0;31mTypeError\u001b[0m: can only concatenate str (not \"int\") to str"
     ]
    }
   ],
   "source": [
    "\"2\" + 2"
   ]
  },
  {
   "cell_type": "markdown",
   "metadata": {},
   "source": [
    "* `ZeroDivisionError`: cuando se intenta dividir un número por cero."
   ]
  },
  {
   "cell_type": "code",
   "execution_count": 4,
   "metadata": {},
   "outputs": [
    {
     "ename": "ZeroDivisionError",
     "evalue": "division by zero",
     "output_type": "error",
     "traceback": [
      "\u001b[0;31m---------------------------------------------------------------------------\u001b[0m",
      "\u001b[0;31mZeroDivisionError\u001b[0m                         Traceback (most recent call last)",
      "Cell \u001b[0;32mIn[4], line 1\u001b[0m\n\u001b[0;32m----> 1\u001b[0m \u001b[38;5;241;43m53\u001b[39;49m\u001b[38;5;241;43m/\u001b[39;49m\u001b[38;5;241;43m0\u001b[39;49m\n",
      "\u001b[0;31mZeroDivisionError\u001b[0m: division by zero"
     ]
    }
   ],
   "source": [
    "53/0"
   ]
  },
  {
   "cell_type": "markdown",
   "metadata": {},
   "source": [
    "* `IndexError`: cuando se desea acceder a un índice que está fuera del rango de una lista o secuencia."
   ]
  },
  {
   "cell_type": "code",
   "execution_count": 5,
   "metadata": {},
   "outputs": [
    {
     "ename": "IndexError",
     "evalue": "list index out of range",
     "output_type": "error",
     "traceback": [
      "\u001b[0;31m---------------------------------------------------------------------------\u001b[0m",
      "\u001b[0;31mIndexError\u001b[0m                                Traceback (most recent call last)",
      "Cell \u001b[0;32mIn[5], line 3\u001b[0m\n\u001b[1;32m      1\u001b[0m lista \u001b[38;5;241m=\u001b[39m [\u001b[38;5;241m5\u001b[39m, \u001b[38;5;241m3\u001b[39m, \u001b[38;5;241m7\u001b[39m, \u001b[38;5;241m2\u001b[39m]\n\u001b[0;32m----> 3\u001b[0m \u001b[43mlista\u001b[49m\u001b[43m[\u001b[49m\u001b[38;5;241;43m10\u001b[39;49m\u001b[43m]\u001b[49m\n",
      "\u001b[0;31mIndexError\u001b[0m: list index out of range"
     ]
    }
   ],
   "source": [
    "lista = [5, 3, 7, 2]\n",
    "\n",
    "lista[10]"
   ]
  },
  {
   "cell_type": "markdown",
   "metadata": {},
   "source": [
    "* `NameError`: cuando se intenta usar una variable que no ha sido definida."
   ]
  },
  {
   "cell_type": "code",
   "execution_count": 6,
   "metadata": {},
   "outputs": [
    {
     "ename": "NameError",
     "evalue": "name 'suma' is not defined",
     "output_type": "error",
     "traceback": [
      "\u001b[0;31m---------------------------------------------------------------------------\u001b[0m",
      "\u001b[0;31mNameError\u001b[0m                                 Traceback (most recent call last)",
      "Cell \u001b[0;32mIn[6], line 1\u001b[0m\n\u001b[0;32m----> 1\u001b[0m \u001b[38;5;241m3\u001b[39m \u001b[38;5;241m+\u001b[39m \u001b[43msuma\u001b[49m\n",
      "\u001b[0;31mNameError\u001b[0m: name 'suma' is not defined"
     ]
    }
   ],
   "source": [
    "3 + suma"
   ]
  },
  {
   "cell_type": "markdown",
   "metadata": {},
   "source": [
    "* `KeyError`: cuando se intenta acceder a una clave de un diccionario, pero esta no existe."
   ]
  },
  {
   "cell_type": "code",
   "execution_count": 7,
   "metadata": {},
   "outputs": [
    {
     "ename": "KeyError",
     "evalue": "'Telefono'",
     "output_type": "error",
     "traceback": [
      "\u001b[0;31m---------------------------------------------------------------------------\u001b[0m",
      "\u001b[0;31mKeyError\u001b[0m                                  Traceback (most recent call last)",
      "Cell \u001b[0;32mIn[7], line 4\u001b[0m\n\u001b[1;32m      1\u001b[0m datos \u001b[38;5;241m=\u001b[39m {\u001b[38;5;124m\"\u001b[39m\u001b[38;5;124mNombre\u001b[39m\u001b[38;5;124m\"\u001b[39m : \u001b[38;5;124m\"\u001b[39m\u001b[38;5;124mLina\u001b[39m\u001b[38;5;124m\"\u001b[39m,\n\u001b[1;32m      2\u001b[0m          \u001b[38;5;124m\"\u001b[39m\u001b[38;5;124mApellido\u001b[39m\u001b[38;5;124m\"\u001b[39m : \u001b[38;5;124m\"\u001b[39m\u001b[38;5;124mLinares\u001b[39m\u001b[38;5;124m\"\u001b[39m}\n\u001b[0;32m----> 4\u001b[0m \u001b[43mdatos\u001b[49m\u001b[43m[\u001b[49m\u001b[38;5;124;43m\"\u001b[39;49m\u001b[38;5;124;43mTelefono\u001b[39;49m\u001b[38;5;124;43m\"\u001b[39;49m\u001b[43m]\u001b[49m\n",
      "\u001b[0;31mKeyError\u001b[0m: 'Telefono'"
     ]
    }
   ],
   "source": [
    "datos = {\"Nombre\" : \"Lina\",\n",
    "         \"Apellido\" : \"Linares\"}\n",
    "\n",
    "datos[\"Telefono\"]"
   ]
  },
  {
   "cell_type": "markdown",
   "metadata": {},
   "source": [
    "* `ValueError`: cuando una función recibe en su argumento un valor incorrecto."
   ]
  },
  {
   "cell_type": "code",
   "execution_count": null,
   "metadata": {},
   "outputs": [
    {
     "ename": "ValueError",
     "evalue": "invalid literal for int() with base 10: 'q'",
     "output_type": "error",
     "traceback": [
      "\u001b[0;31m---------------------------------------------------------------------------\u001b[0m",
      "\u001b[0;31mValueError\u001b[0m                                Traceback (most recent call last)",
      "Cell \u001b[0;32mIn[8], line 1\u001b[0m\n\u001b[0;32m----> 1\u001b[0m numero \u001b[38;5;241m=\u001b[39m \u001b[38;5;28;43mint\u001b[39;49m\u001b[43m(\u001b[49m\u001b[38;5;28;43minput\u001b[39;49m\u001b[43m(\u001b[49m\u001b[38;5;124;43m\"\u001b[39;49m\u001b[38;5;124;43mIngrese un número: \u001b[39;49m\u001b[38;5;124;43m\"\u001b[39;49m\u001b[43m)\u001b[49m\u001b[43m)\u001b[49m\n\u001b[1;32m      3\u001b[0m \u001b[38;5;28mprint\u001b[39m(numero)\n",
      "\u001b[0;31mValueError\u001b[0m: invalid literal for int() with base 10: 'q'"
     ]
    }
   ],
   "source": [
    "numero = int(input(\"Ingrese un número: \"))\n",
    "\n",
    "# Suponiendo que ingresamos \"a\" como argumento\n",
    "\n",
    "print(numero)"
   ]
  },
  {
   "cell_type": "markdown",
   "metadata": {},
   "source": [
    "La cadena mostrada como tipo de la excepción es el nombre de la excepción predefinida que ha ocurrido. Esto es válido para todas las excepciones predefinidas del intérprete, pero no tiene por que ser así para excepciones definidas por el usuario (aunque es una convención útil). Los nombres de las excepciones estándar son identificadores incorporados al intérprete (no son palabras clave reservadas)."
   ]
  },
  {
   "cell_type": "markdown",
   "metadata": {},
   "source": [
    "## Gestionando Excepciones\n",
    "\n",
    "Es posible escribir programas que gestionen determinadas excepciones. Cuando queramos realizar una operación que pueda provocar una excepción, pero no se desea que se detenga la ejecución, podemos manejar las excepciones usando las sentencias `try` y `except`.\n",
    "\n",
    "En un ejemplo, que le pide al usuario una entrada hasta que ingrese un entero válido, pero permite al usuario interrumpir el programa (usando Control-C o lo que soporte el sistema operativo); nótese que una interrupción generada por el usuario es señalizada generando la excepción `KeyboardInterrupt`.\n",
    "\n",
    "En el siguiente código;\n",
    "\n",
    "* Si el usuario ingresa algo que no es un número, se lanza una excepción `ValueError`.\n",
    "  \n",
    "* Si el usuario ingresa 0, se lanza una excepción `ZeroDivisionError`."
   ]
  },
  {
   "cell_type": "code",
   "execution_count": 4,
   "metadata": {},
   "outputs": [
    {
     "name": "stdout",
     "output_type": "stream",
     "text": [
      "¡Error! No se puede dividir por cero.\n"
     ]
    }
   ],
   "source": [
    "try:\n",
    "    x = int(input(\"Ingresa un número: \"))\n",
    "    resultado = 10 / x\n",
    "except ZeroDivisionError:\n",
    "    print(\"¡Error! No se puede dividir por cero.\")\n",
    "except ValueError:\n",
    "    print(\"¡Error! Debes ingresar un número válido.\")\n",
    "else:\n",
    "    print(resultado)    "
   ]
  },
  {
   "cell_type": "markdown",
   "metadata": {},
   "source": [
    "Puedes ver dos bloques aquí:\n",
    "\n",
    "El primero, comienza con la palabra clave reservada `try` este es el lugar donde se coloca el código que se sospecha que es riesgoso y puede terminar en caso de un error.\n",
    "\n",
    "> Nota: este tipo de error lleva por nombre excepción, mientras que la ocurrencia de la excepción se le denomina generar - podemos decir que se genera (o se generó) una excepción.\n",
    "\n",
    "El segundo, la parte del código que comienza con la palabra clave reservada `except` esta parte fue diseñada para manejar la excepción; depende de ti lo que quieras hacer aquí.\n",
    "\n",
    "Cualquier fragmento de código colocado entre `try` y `except` se ejecuta de una manera muy especial: cualquier error que ocurra aquí dentro no terminará la ejecución del programa.\n",
    "\n",
    "En cambio, el control saltará inmediatamente a la primera línea situada después de la palabra clave reservada `except`, y no se ejecutará ninguna otra línea del bloque `try`.\n",
    "\n",
    "El código en el bloque `except` se activa solo cuando se ha encontrado una excepción dentro del bloque `try`. No hay forma de llegar por ningún otro medio.\n",
    "\n",
    "Cuando el bloque `try` o `except` se ejecutan con éxito, el control vuelve al proceso normal de ejecución y cualquier código ubicado más allá en el archivo fuente se ejecuta como si no hubiera pasado nada."
   ]
  },
  {
   "cell_type": "markdown",
   "metadata": {},
   "source": [
    "La sentencia `try` funciona de la siguiente manera:\n",
    "\n",
    "* Primero, se ejecuta la claúsula `try`, las líneas entre las palabras reservadas `try` y `except`.\n",
    "\n",
    "* Si no ocurre ninguna excepción, la claúsula `except` se omite y la ejecución de la claúsula `try` finaliza.\n",
    "\n",
    "* Si ocurre una excepción durante la ejecución de la claúsula `try`, se omite el resto de la cláusula. Luego si su tipo coincide con la excepción nombrada después de la palabra `except`, se ejecuta la claúsula `except`, y luego la ejecución continúa después del bloque (`try` / `except`).\n",
    "\n",
    "* Si se produce una excepción que no coincide con la excepción nombrada en la cláusula `except`, se pasa a las sentencias `try` externas; si no se encuentra ningún manejador, se trata de una excepción no manejada y la ejecución se detiene con un mensaje de error.\n",
    "\n",
    "Una declaración `try` puede tener más de una cláusula `except`, para especificar gestores para diferentes excepciones. Como máximo, se ejecutará un gestor. Los gestores solo manejan las excepciones que ocurren en la cláusula `try` correspondiente, no en otros gestores de la misma declaración `try`. Una cláusula `except` puede nombrar múltiples excepciones como una tupla entre paréntesis, por ejemplo:"
   ]
  },
  {
   "cell_type": "code",
   "execution_count": 9,
   "metadata": {},
   "outputs": [
    {
     "name": "stdout",
     "output_type": "stream",
     "text": [
      "¡Error! No se puede dividir por cero.\n",
      "¡Error! Debes ingresar un número válido.\n"
     ]
    }
   ],
   "source": [
    "try:\n",
    "    x = int(input(\"Ingresa un número: \"))\n",
    "    resultado = 10 / x\n",
    "except (ZeroDivisionError, ValueError):\n",
    "    print(\"¡Error! No se puede dividir por cero.\")\n",
    "    print(\"¡Error! Debes ingresar un número válido.\")\n",
    "else:\n",
    "    print(resultado) "
   ]
  },
  {
   "cell_type": "markdown",
   "metadata": {},
   "source": [
    "## Excepciones Personalizadas\n",
    "\n",
    "La declaración `raise` permite al programador forzar a que ocurra una excepción específica.\n",
    "\n",
    "Es  una excepción que podemos crear en situaciones específicas, indicando que algo inusual o inesperado ha ocurrido y que el flujo normal del programa debe ser interrumpido.\n",
    "\n",
    "Lanzar una excepción predefinida\n",
    "En el siguiente ejemplo, lanzamos una excepción `ValueError` si un número ingresado por el usuario no cumple con una condición específica:"
   ]
  },
  {
   "cell_type": "code",
   "execution_count": 10,
   "metadata": {},
   "outputs": [
    {
     "ename": "ValueError",
     "evalue": "invalid literal for int() with base 10: 'q'",
     "output_type": "error",
     "traceback": [
      "\u001b[0;31m---------------------------------------------------------------------------\u001b[0m",
      "\u001b[0;31mValueError\u001b[0m                                Traceback (most recent call last)",
      "Cell \u001b[0;32mIn[10], line 1\u001b[0m\n\u001b[0;32m----> 1\u001b[0m numero \u001b[38;5;241m=\u001b[39m \u001b[38;5;28;43mint\u001b[39;49m\u001b[43m(\u001b[49m\u001b[38;5;28;43minput\u001b[39;49m\u001b[43m(\u001b[49m\u001b[38;5;124;43m\"\u001b[39;49m\u001b[38;5;124;43mIngresa un número positivo: \u001b[39;49m\u001b[38;5;124;43m\"\u001b[39;49m\u001b[43m)\u001b[49m\u001b[43m)\u001b[49m\n\u001b[1;32m      2\u001b[0m \u001b[38;5;28;01mif\u001b[39;00m numero \u001b[38;5;241m<\u001b[39m \u001b[38;5;241m0\u001b[39m:\n\u001b[1;32m      3\u001b[0m     \u001b[38;5;28;01mraise\u001b[39;00m \u001b[38;5;167;01mValueError\u001b[39;00m(\u001b[38;5;124m\"\u001b[39m\u001b[38;5;124mEl número debe ser positivo.\u001b[39m\u001b[38;5;124m\"\u001b[39m)\n",
      "\u001b[0;31mValueError\u001b[0m: invalid literal for int() with base 10: 'q'"
     ]
    }
   ],
   "source": [
    "numero = int(input(\"Ingresa un número positivo: \"))\n",
    "if numero < 0:\n",
    "    raise ValueError(\"El número debe ser positivo.\")\n",
    "print(numero)"
   ]
  },
  {
   "cell_type": "markdown",
   "metadata": {},
   "source": [
    "## La excepción predeterminada y cómo usarla\n",
    "\n"
   ]
  },
  {
   "cell_type": "code",
   "execution_count": 10,
   "metadata": {},
   "outputs": [
    {
     "name": "stdout",
     "output_type": "stream",
     "text": [
      "El recíproco de -5 es -0.2\n"
     ]
    }
   ],
   "source": [
    "try:\n",
    "    value = int(input('Ingresa un número natural: '))\n",
    "    print('El recíproco de', value, 'es', 1/value)        \n",
    "except ValueError:\n",
    "    print('No sé que hacer con este número.')    \n",
    "except ZeroDivisionError:\n",
    "    print('La división entre cero no está permitida en nuestro Universo.')    \n",
    "except:\n",
    "    print('Ha sucedido algo extraño, ¡lo siento!')"
   ]
  },
  {
   "cell_type": "markdown",
   "metadata": {},
   "source": [
    "Hemos agregado un tercer except, pero esta vez no tiene un nombre de excepción específico – podemos decir que es anónimo o (lo que está más cerca de su función real) es el por defecto. Puedes esperar que cuando se genere una excepción y no haya un except dedicado a esa excepción, esta será manejada por la excepción por defecto.\n",
    "\n",
    "> **¡El except por defecto debe ser el último except! ¡Siempre!**"
   ]
  },
  {
   "cell_type": "markdown",
   "metadata": {},
   "source": [
    "## Error frente a depuración (Bug vs. debug)\n",
    "\n",
    "La medida básica que un desarrollador puede utilizar contra los errores es - como era de esperarse - un depurador, mientras que el proceso durante el cual se eliminan los errores del código se llama depuración.\n",
    "\n",
    "Un depurador es un software especializado que puede controlar cómo se ejecuta tu programa. Con el depurador, puedes ejecutar tu código línea por línea, inspeccionar todos los estados de las variables y cambiar sus valores en cualquier momento sin modificar el código fuente, detener la ejecución del programa cuando se cumplen o no ciertas condiciones, y hacer muchas otras tareas útiles."
   ]
  },
  {
   "cell_type": "markdown",
   "metadata": {},
   "source": [
    "# Excepciones\n",
    "\n",
    "Python 3 define 63 excepciones integradas, y todas ellas forman una jerarquía en forma de árbol, aunque el árbol es un poco extraño ya que su raíz se encuentra en la parte superior.\n",
    "\n",
    "Algunas de las excepciones integradas son más generales (incluyen otras excepciones) mientras que otras son completamente concretas (solo se representan a sí mismas). Podemos decir que cuanto más cerca de la raíz se encuentra una excepción, más general (abstracta) es. A su vez, las excepciones ubicadas en los extremos del árbol (podemos llamarlas hojas) son concretas.\n",
    "\n",
    "![](excepciones.png)"
   ]
  },
  {
   "cell_type": "markdown",
   "metadata": {},
   "source": [
    "Nota:\n",
    "\n",
    "* `ZeroDivisionError` es un caso especial de una clase de excepción más general llamada `ArithmeticError`.\n",
    "\n",
    "* `ArithmeticError` es un caso especial de una clase de excepción más general llamada solo `Exception`. Es un caso especial de una clase más general llamada `BaseException`.\n",
    "\n",
    "Podemos describirlo de la siguiente manera (observa la dirección de las flechas; siempre apuntan a la entidad más general):"
   ]
  },
  {
   "cell_type": "code",
   "execution_count": null,
   "metadata": {},
   "outputs": [],
   "source": [
    "try:\n",
    "    y = 1 / 0\n",
    "except ZeroDivisionError:\n",
    "    print(\"Uuupsss...\")\n",
    "\n",
    "print(\"FIN.\")"
   ]
  },
  {
   "cell_type": "markdown",
   "metadata": {},
   "source": [
    "Algo ha cambiado: hemos reemplazado `ZeroDivisionError` con `ArithmeticError`.\n",
    "\n",
    "Ya se sabe que `ArithmeticError` es una clase general que incluye (entre otras) la excepción `ZeroDivisionError`.\n",
    "\n",
    "Por lo tanto, la salida del código permanece sin cambios. Pruébalo.\n",
    "\n",
    "Esto también significa que reemplazar el nombre de la excepción ya sea con `Exception` o `BaseException` no cambiará el comportamiento del programa.\n",
    "\n",
    "Vamos a resumir:\n",
    "\n",
    "Cada excepción generada cae dentro de la primer coincidencia.\n",
    "\n",
    "La coincidencia correspondiente no tiene que especificar exactamente la misma excepción, es suficiente que la excepción sea más general (más abstracta) que la generada."
   ]
  },
  {
   "cell_type": "code",
   "execution_count": null,
   "metadata": {},
   "outputs": [],
   "source": [
    "try:\n",
    "    y = 1 / 0\n",
    "except ZeroDivisionError:\n",
    "    print(\"¡División entre cero!\")\n",
    "except ArithmeticError:\n",
    "    print(\"¡Problema Aritmético!\")\n",
    "\n",
    "print(\"FIN.\")"
   ]
  },
  {
   "cell_type": "code",
   "execution_count": null,
   "metadata": {},
   "outputs": [],
   "source": [
    "try:\n",
    "    y = 1 / 0\n",
    "except ArithmeticError:\n",
    "    print(\"¡Problema aritmético!\")\n",
    "except ZeroDivisionError:\n",
    "    print(\"¡División entre cero!\")\n",
    " \n",
    "print(\"FIN.\")"
   ]
  },
  {
   "cell_type": "markdown",
   "metadata": {},
   "source": [
    "¿Por qué se obtienen resultados diferentes en los dos anteriores códigos, si la excepción planteada es la misma que anteriormente?\n",
    "\n",
    "La excepción es la misma, pero la excepción más general ahora aparece primero: también capturará todas las divisiones entre cero. También significa que no hay posibilidad de que alguna excepción llegue a `ZeroDivisionError`. Ahora es completamente inalcanzable.\n",
    "\n",
    "Recuerda:\n",
    "\n",
    "¡El orden de las excepciones importa!\n",
    "No coloques excepciones más generales antes que otras más concretas.\n",
    "\n",
    "Esto hará que el último sea inalcanzable e inútil.\n",
    "\n",
    "Además, hará que el código sea desordenado e inconsistente.\n",
    "Python no generará ningún mensaje de error con respecto a este problema.\n",
    "\n",
    "Si una excepción es generada dentro de una función, puede ser manejada:\n",
    "\n",
    "* Dentro de la función.\n",
    "\n",
    "* Fuera de la función."
   ]
  },
  {
   "cell_type": "code",
   "execution_count": null,
   "metadata": {},
   "outputs": [],
   "source": [
    "def bad_fun(n):\n",
    "    try:\n",
    "        return 1 / n\n",
    "    except ArithmeticError:\n",
    "        print(\"¡Problema aritmético!\")\n",
    "    return None\n",
    "\n",
    "bad_fun(0)\n",
    "\n",
    "print(\"FIN.\")"
   ]
  },
  {
   "cell_type": "markdown",
   "metadata": {},
   "source": [
    "La excepción `ZeroDivisionError` (la cual es un caso concreto de la clase `ArithmeticError`) es generada dentro de la función badfun(), y la función en sí misma se encarga de ella."
   ]
  },
  {
   "cell_type": "markdown",
   "metadata": {},
   "source": [
    "También es posible dejar que la excepción se propague fuera de la función. Probémoslo ahora."
   ]
  },
  {
   "cell_type": "code",
   "execution_count": null,
   "metadata": {},
   "outputs": [],
   "source": [
    "def bad_fun(n):\n",
    "    return 1 / n\n",
    " \n",
    "try:\n",
    "    bad_fun(0)\n",
    "except ArithmeticError:\n",
    "    print(\"¿Que ocurrió? ¡Se generó una excepción!\")\n",
    " \n",
    "print(\"FIN.\")"
   ]
  },
  {
   "cell_type": "markdown",
   "metadata": {},
   "source": [
    "El problema tiene que ser resuelto por el invocador (o por el invocador del invocador, y así sucesivamente).\n",
    "\n",
    "> Nota: la excepción generada puede cruzar la función y los límites del módulo, y viajar a través de la cadena de invocación buscando una cláusula except capaz de manejarla.\n",
    "\n",
    "Si no existe tal cláusula, la excepción no se controla y Python resuelve el problema de la manera estándar, terminando el código y emitiendo un mensaje de diagnóstico.\n",
    "\n",
    "# `raise`\n",
    "\n",
    "La instrucción `raise` genera la excepción especificada denominada `exc` como si se hubiera generado de forma normal (natural).\n",
    "\n",
    "Nota: `raise` es una palabra clave reservada.\n",
    "\n",
    "La instrucción te permite:\n",
    "\n",
    "Simular excepciones reales (por ejemplo, para probar tu estrategia de manejo de excepciones).\n",
    "\n",
    "Parcialmente manejar una excepción y hacer que otra parte del código sea responsable de completar el manejo."
   ]
  },
  {
   "cell_type": "code",
   "execution_count": null,
   "metadata": {},
   "outputs": [],
   "source": [
    "def bad_fun(n):\n",
    "    raise ZeroDivisionError\n",
    "\n",
    "\n",
    "try:\n",
    "    bad_fun(0)\n",
    "except ArithmeticError:\n",
    "    print(\"¿Qué pasó? ¿Un error?\")\n",
    "\n",
    "print(\"FIN.\")"
   ]
  },
  {
   "cell_type": "markdown",
   "metadata": {},
   "source": [
    "La salida del programa permanece sin cambios.\n",
    "\n",
    "De esta forma, puedes probar tu rutina de manejo de excepciones sin obligar al código a hacer cosas peligrosas.\n",
    "\n",
    "La instrucción raise también se puede utilizar de la siguiente manera (toma en cuenta la ausencia del nombre de la excepción): `raise`\n",
    "\n",
    "Existe una seria restricción: esta variante de la instrucción `raise` puede ser utilizada solamente dentro del bloque `except`; usarla en cualquier otro contexto causa un error.\n",
    "\n",
    "La instrucción volverá a generar la misma excepción que se maneja actualmente.\n",
    "\n",
    "Gracias a esto, puedes distribuir el manejo de excepciones entre diferentes partes del código."
   ]
  },
  {
   "cell_type": "code",
   "execution_count": null,
   "metadata": {},
   "outputs": [],
   "source": [
    "def bad_fun(n):\n",
    "    try:\n",
    "        return n / 0\n",
    "    except:\n",
    "        print(\"¡Lo hice otra vez!\")\n",
    "        raise\n",
    "\n",
    "\n",
    "try:\n",
    "    bad_fun(0)\n",
    "except ArithmeticError:\n",
    "    print(\"¡Ya veo!\")\n",
    "\n",
    "print(\"FIN.\")"
   ]
  },
  {
   "cell_type": "markdown",
   "metadata": {},
   "source": [
    "La excepción `ZeroDivisionError` es generada dos veces:\n",
    "\n",
    "Primero, dentro del `try` debido a que se intentó realizar una división entre cero.\n",
    "\n",
    "Segundo, dentro de la parte `except` por la instrucción `raise`.\n",
    "\n",
    "La sentencia de Python `raise NombreDeExcepción` puede generar una excepción bajo demanda. La misma sentencia pero sin `NombreDeExcepción`, se puede usar solamente dentro del bloque except, y genera la misma excepción que se está manejando actualmente.\n",
    "\n",
    "## `ArithmeticError`\n",
    "\n",
    "*Ubicación*: BaseException ← Exception ← ArithmeticError\n",
    "\n",
    "*Descripción*: una excepción abstracta que incluye todas las excepciones causadas por operaciones aritméticas como división cero o dominio inválido de un argumento.\n",
    "\n",
    "## `AssertionError`\n",
    "\n",
    "*Ubicación*: BaseException ← Exception ← AssertionError\n",
    "\n",
    "*Descripción*: una excepción concreta generada por la instrucción `assert` cuando su argumento se evalúa a `False` (falso), `None` (ninguno), 0, o una cadena vacía."
   ]
  },
  {
   "cell_type": "code",
   "execution_count": 1,
   "metadata": {},
   "outputs": [
    {
     "name": "stdout",
     "output_type": "stream",
     "text": [
      "0.9999999999999999\n"
     ]
    }
   ],
   "source": [
    "from math import tan, radians\n",
    "angle = int(input('Ingresa un angulo entero en grados: '))\n",
    "\n",
    "# Debemos estar seguros de que angle != 90 + k * 180\n",
    "assert angle % 180 != 90\n",
    "print(tan(radians(angle)))"
   ]
  },
  {
   "cell_type": "markdown",
   "metadata": {},
   "source": [
    "## `BaseException`\n",
    "\n",
    "*Ubicación*: BaseException\n",
    "\n",
    "*Descripción*: la excepción más general (abstracta) de todas las excepciones de Python, todas las demás excepciones se incluyen en esta; se puede decir que las siguientes dos excepciones son equivalentes, excep y except BaseException:.\n",
    "\n",
    "\n",
    "## `IndexError`\n",
    "\n",
    "*Ubicación*: BaseException ← Exception ← LookupError ← IndexError\n",
    "\n",
    "*Descripción*: una excepción concreta que surge cuando se intenta acceder al elemento de una secuencia inexistente (por ejemplo, el elemento de una lista).\n"
   ]
  },
  {
   "cell_type": "code",
   "execution_count": null,
   "metadata": {},
   "outputs": [],
   "source": [
    "# El codigo muestra una forma extravagante\n",
    "# de dejar el bucle.\n",
    "\n",
    "the_list = [1, 2, 3, 4, 5]\n",
    "ix = 0\n",
    "do_it = True\n",
    "\n",
    "while do_it:\n",
    "    try:\n",
    "        print(the_list[ix])\n",
    "        ix += 1\n",
    "    except IndexError:\n",
    "        do_it = False\n",
    "\n",
    "print('Listo')"
   ]
  },
  {
   "cell_type": "markdown",
   "metadata": {},
   "source": [
    "## `KeyboardInterrupt`\n",
    "\n",
    "*Ubicación*: BaseException ← KeyboardInterrupt\n",
    "\n",
    "*Descripción*: una excepción concreta que surge cuando el usuario usa un atajo de teclado diseñado para terminar la ejecución de un programa (Ctrl-C en la mayoría de los Sistemas Operativos); si manejar esta excepción no conduce a la terminación del programa, el programa continúa su ejecución.\n",
    "\n",
    "> Nota: esta excepción no se deriva de la clase Exception. Ejecuta el programa en IDLE."
   ]
  },
  {
   "cell_type": "code",
   "execution_count": null,
   "metadata": {},
   "outputs": [],
   "source": [
    "# Este código no puede ser abortado\n",
    "# presionando Ctrl-C.\n",
    "\n",
    "from time import sleep\n",
    "\n",
    "seconds = 0\n",
    "\n",
    "while True:\n",
    "    try:\n",
    "        print(seconds)\n",
    "        seconds += 1\n",
    "        sleep(1)\n",
    "    except KeyboardInterrupt:\n",
    "        print(\"¡No hagas eso!\")\n",
    "\n"
   ]
  },
  {
   "cell_type": "markdown",
   "metadata": {},
   "source": [
    "## `LookupError`\n",
    "\n",
    "*Ubicación*: BaseException ← Exception ← LookupError\n",
    "\n",
    "*Descripción*: una excepción abstracta que incluye todas las excepciones causadas por errores resultantes de referencias no válidas a diferentes colecciones (listas, diccionarios, tuplas, etc.).\n",
    "\n",
    "\n",
    "## `MemoryError`\n",
    "\n",
    "*Ubicación*: BaseException ← Exception ← MemoryError\n",
    "\n",
    "*Descripción*: se genera una excepción concreta cuando no se puede completar una operación debido a la falta de memoria libre."
   ]
  },
  {
   "cell_type": "code",
   "execution_count": null,
   "metadata": {},
   "outputs": [],
   "source": [
    "# Este código causa la excepción MemoryError.\n",
    "# Advertencia: el ejecutar este código puede afectar tu Sistema Operativo.\n",
    "# ¡No lo ejecutes en entornos de producción!\n",
    "\n",
    "string = 'x'\n",
    "try:\n",
    "    while True:\n",
    "        string = string + string\n",
    "        print(len(string))\n",
    "except MemoryError:\n",
    "    print('¡Esto no es gracioso!')"
   ]
  },
  {
   "cell_type": "markdown",
   "metadata": {},
   "source": [
    "## `OverflowError`\n",
    "\n",
    "*Ubicación*: BaseException ← Exception ← ArithmeticError ← OverflowError\n",
    "\n",
    "*Descripción*: una excepción concreta que surge cuando una operación produce un número demasiado grande para ser almacenado con éxito."
   ]
  },
  {
   "cell_type": "code",
   "execution_count": null,
   "metadata": {},
   "outputs": [],
   "source": [
    "# El código imprime los valores subsequentes\n",
    "# de exp(k), k = 1, 2, 4, 8, 16, ...\n",
    "\n",
    "from math import exp\n",
    "\n",
    "ex = 1\n",
    "\n",
    "try:\n",
    "    while True:\n",
    "        print(exp(ex))\n",
    "        ex *= 2\n",
    "except OverflowError:\n",
    "    print('El número es demasiado grande.')"
   ]
  },
  {
   "cell_type": "markdown",
   "metadata": {},
   "source": [
    "## `ImportError`\n",
    "\n",
    "*Ubicación*: BaseException ← Exception ← StandardError ← ImportError\n",
    "\n",
    "*Descripción*: se genera una excepción concreta cuando falla una operación de importación."
   ]
  },
  {
   "cell_type": "code",
   "execution_count": null,
   "metadata": {},
   "outputs": [],
   "source": [
    "># Una de estas importaciones fallará, ¿cuál será?\n",
    "\n",
    "try:\n",
    "    import math\n",
    "    import time\n",
    "    import abracadabra:\n",
    "\n",
    "except:\n",
    "    print('Una de tus importaciones ha fallado.')"
   ]
  },
  {
   "cell_type": "markdown",
   "metadata": {},
   "source": [
    "## `KeyError`\n",
    "\n",
    "*Ubicación*: BaseException ← Exception ← LookupError ← KeyError\n",
    "\n",
    "*Descripción*: una excepción concreta que se genera cuando intentas acceder al elemento inexistente de una colección (por ejemplo, el elemento de un diccionario)."
   ]
  },
  {
   "cell_type": "code",
   "execution_count": null,
   "metadata": {},
   "outputs": [],
   "source": [
    "# ¿Cómo abusar del diccionario\n",
    "# y cómo lidiar con ello?\n",
    "\n",
    "dictionary = {'a': 'b', 'b': 'c', 'c': 'd'}\n",
    "ch = 'a'\n",
    "\n",
    "try:\n",
    "    while True:\n",
    "        ch = dictionary[ch]\n",
    "        print(ch)\n",
    "except KeyError:\n",
    "    print('No existe tal clave:', ch)"
   ]
  },
  {
   "cell_type": "markdown",
   "metadata": {},
   "source": [
    "Si deseas obtener más información sobre las excepciones por tu cuenta, consulta la Biblioteca Estándar de Python en https://docs.python.org/3.6/library/exceptions.html."
   ]
  },
  {
   "cell_type": "markdown",
   "metadata": {},
   "source": [
    "# `assert`\n",
    "\n",
    "Es una palabra reservada.\n",
    "\n",
    "¿Cómo funciona?\n",
    "\n",
    "Se evalúa la expresión.\n",
    "\n",
    "Si la expresión se evalúa como True (Verdadera), o un valor numérico distinto de cero, o una cadena no vacía, o cualquier otro valor diferente de None, no hará nada más.\n",
    "\n",
    "De lo contrario, automáticamente e inmediatamente se genera una excepción llamada `AssertionError` (en este caso, decimos que la afirmación ha fallado).\n",
    "\n",
    "¿Cómo puede ser utilizada?\n",
    "\n",
    "Puedes ponerlo en la parte del código donde quieras estar absolutamente a salvo de datos incorrectos, y donde no estés absolutamente seguro de que los datos hayan sido examinados cuidadosamente antes (por ejemplo, dentro de una función utilizada por otra persona).\n",
    "\n",
    "El generar una excepción `AssertionError` asegura que tu código no produzca resultados no válidos y muestra claramente la naturaleza de la falla.\n",
    "\n",
    "Las aserciones no reemplazan las excepciones ni validan los datos, son suplementos.\n",
    "\n",
    "Si las excepciones y la validación de datos son como conducir con cuidado, la aserción puede desempeñar el papel de una bolsa de aire."
   ]
  },
  {
   "cell_type": "code",
   "execution_count": null,
   "metadata": {},
   "outputs": [],
   "source": [
    "import math\n",
    "\n",
    "x = float(input(\"Ingresa un número: \"))\n",
    "assert x >= 0.0\n",
    "\n",
    "x = math.sqrt(x)\n",
    "\n",
    "print(x)"
   ]
  },
  {
   "cell_type": "markdown",
   "metadata": {},
   "source": [
    "El programa se ejecuta sin problemas si se ingresa un valor numérico válido mayor o igual a cero; de lo contrario, se detiene y emite el siguiente mensaje:\n",
    "\n",
    "`Traceback (most recent call last):\n",
    "File \".main.py\", line 4, in <module>\n",
    "assert x >= 0.0\n",
    "AssertionError`\n",
    "\n",
    "\n",
    "La sentencia de Python `assert expression` evalúa la expresión y genera la excepción `AssertError` cuando la expresión es igual a cero, una cadena vacía o None. Puedes usarla para proteger algunas partes críticas de tu código de datos devastadores."
   ]
  },
  {
   "cell_type": "code",
   "execution_count": null,
   "metadata": {},
   "outputs": [],
   "source": [
    "try:\n",
    "    y = 1 / 0\n",
    "except ArithmeticError:\n",
    "    print(\"Uuuppsss...\")\n",
    " \n",
    "print(\"FIN.\")"
   ]
  },
  {
   "cell_type": "code",
   "execution_count": 25,
   "metadata": {},
   "outputs": [
    {
     "name": "stdout",
     "output_type": "stream",
     "text": [
      "Entrada muy errónea...\n"
     ]
    }
   ],
   "source": [
    "try:\n",
    "    value = input(\"Ingresa un valor: \")\n",
    "    print(value/value)\n",
    "except ValueError:\n",
    "    print(\"Entrada incorrecta...\")\n",
    "except ZeroDivisionError:\n",
    "    print(\"Entrada errónea...\")\n",
    "except TypeError:\n",
    "    print(\"Entrada muy errónea...\")\n",
    "except:\n",
    "    print(\"¡Buuu!\")"
   ]
  },
  {
   "cell_type": "code",
   "execution_count": 11,
   "metadata": {},
   "outputs": [
    {
     "name": "stdout",
     "output_type": "stream",
     "text": [
      "5.0\n"
     ]
    }
   ],
   "source": [
    "try:\n",
    "    value = input(\"Ingresa un valor: \")\n",
    "    print(int(value)/len(value))\n",
    "except ValueError:\n",
    "    print(\"Entrada incorrecta...\")\n",
    "except ZeroDivisionError:\n",
    "    print(\"Entrada erronea...\")\n",
    "except TypeError:\n",
    "    print(\"Entrada muy erronea...\")\n",
    "except:\n",
    "    print(\"¡Buuu!\")"
   ]
  },
  {
   "cell_type": "code",
   "execution_count": 12,
   "metadata": {},
   "outputs": [
    {
     "ename": "SyntaxError",
     "evalue": "'break' outside loop (4257532828.py, line 3)",
     "output_type": "error",
     "traceback": [
      "\u001b[0;36m  Cell \u001b[0;32mIn[12], line 3\u001b[0;36m\u001b[0m\n\u001b[0;31m    break\u001b[0m\n\u001b[0m    ^\u001b[0m\n\u001b[0;31mSyntaxError\u001b[0m\u001b[0;31m:\u001b[0m 'break' outside loop\n"
     ]
    }
   ],
   "source": [
    "try:\n",
    "    print(5/0)\n",
    "    break\n",
    "except:\n",
    "    print(\"Lo siento, algo salió mal...\")\n",
    "except (ValueError, ZeroDivisionError):\n",
    "    print(\"Mala suerte...\")"
   ]
  }
 ],
 "metadata": {
  "kernelspec": {
   "display_name": "Python 3",
   "language": "python",
   "name": "python3"
  },
  "language_info": {
   "codemirror_mode": {
    "name": "ipython",
    "version": 3
   },
   "file_extension": ".py",
   "mimetype": "text/x-python",
   "name": "python",
   "nbconvert_exporter": "python",
   "pygments_lexer": "ipython3",
   "version": "3.10.12"
  }
 },
 "nbformat": 4,
 "nbformat_minor": 2
}
