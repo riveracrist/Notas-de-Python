{
 "cells": [
  {
   "cell_type": "markdown",
   "metadata": {},
   "source": [
    "# Alcances o Ámbitos de Python\n",
    "\n",
    "## Funciones y Ámbitos\n",
    "\n",
    "El alcance de una variable es la parte de código donde la variable es reconocido correctamente.\n",
    "\n",
    "Por ejemplo, el alcance del parámetro de una función es la función en sí. El parámetro es inaccesible fuera de la función."
   ]
  },
  {
   "cell_type": "code",
   "execution_count": 1,
   "metadata": {},
   "outputs": [
    {
     "ename": "NameError",
     "evalue": "name 'x' is not defined",
     "output_type": "error",
     "traceback": [
      "\u001b[0;31m---------------------------------------------------------------------------\u001b[0m",
      "\u001b[0;31mNameError\u001b[0m                                 Traceback (most recent call last)",
      "Cell \u001b[0;32mIn[1], line 6\u001b[0m\n\u001b[1;32m      2\u001b[0m     x \u001b[38;5;241m=\u001b[39m \u001b[38;5;241m123\u001b[39m\n\u001b[1;32m      4\u001b[0m alcance()\n\u001b[0;32m----> 6\u001b[0m \u001b[38;5;28mprint\u001b[39m(\u001b[43mx\u001b[49m)\n",
      "\u001b[0;31mNameError\u001b[0m: name 'x' is not defined"
     ]
    }
   ],
   "source": [
    "def alcance():\n",
    "    x = 123\n",
    "\n",
    "alcance()\n",
    "\n",
    "print(x)"
   ]
  },
  {
   "cell_type": "markdown",
   "metadata": {},
   "source": [
    "En el ejemplo anterior, se presenta un error ya que para el programa la variable `x` no está definida fuera del ámbito de la función."
   ]
  },
  {
   "cell_type": "code",
   "execution_count": 3,
   "metadata": {},
   "outputs": [
    {
     "name": "stdout",
     "output_type": "stream",
     "text": [
      "¿Conozco a la variable? 1\n",
      "1\n"
     ]
    }
   ],
   "source": [
    "def my_function():\n",
    "    print(\"¿Conozco a la variable?\", var)\n",
    "\n",
    "\n",
    "var = 1\n",
    "my_function()\n",
    "print(var)"
   ]
  },
  {
   "cell_type": "markdown",
   "metadata": {},
   "source": [
    "Una variable que existe fuera de una función tiene alcance dentro del cuerpo de la función.\n",
    "\n",
    "Esta regla tiene una excepción muy importante:\n",
    "\n",
    "* Una variable que existe fuera de una función tiene un alcance dentro del cuerpo de la función, excluyendo a aquellas que tienen el mismo nombre.\n",
    "\n",
    "También significa que el alcance de una variable existente fuera de una función solo se puede implementar dentro de una función cuando su valor es leído. El asignar un valor hace que la función cree su propia variable."
   ]
  },
  {
   "cell_type": "code",
   "execution_count": 2,
   "metadata": {},
   "outputs": [
    {
     "name": "stdout",
     "output_type": "stream",
     "text": [
      "¿Conozco a la variable? 2\n",
      "1\n"
     ]
    }
   ],
   "source": [
    "def my_function():\n",
    "    var = 2\n",
    "    print(\"¿Conozco a la variable?\", var)\n",
    "\n",
    "\n",
    "var = 1\n",
    "my_function()\n",
    "print(var)"
   ]
  },
  {
   "cell_type": "markdown",
   "metadata": {},
   "source": [
    "## Funciones y alcances: palabra reservada `global`\n",
    "\n",
    "¿Una función es capaz de modificar una variable que fue definida fuera de ella? La respuesta es No.\n",
    "\n",
    "Existe un método especial en Python el cual puede extender el alcance de una variable incluyendo el cuerpo de las funciones (para poder no solo leer los valores de las variables sino también modificarlos).\n",
    "\n",
    "Este efecto es causado por la palabra clave reservada llamada `global`.\n",
    "\n"
   ]
  },
  {
   "cell_type": "code",
   "execution_count": null,
   "metadata": {},
   "outputs": [],
   "source": [
    "global name\n",
    "global name1, name2, name3"
   ]
  },
  {
   "cell_type": "markdown",
   "metadata": {},
   "source": [
    "El utilizar la palabra reservada dentro de una función con el nombre o nombres de las variables separados por comas, obliga a Python a abstenerse de crear una nueva variable dentro de la función - se empleará la que se puede acceder desde el exterior.\n",
    "\n",
    "En otras palabras, este nombre se convierte en global (tiene un alcance global, y no importa si se esta leyendo o asignando un valor)."
   ]
  },
  {
   "cell_type": "code",
   "execution_count": 5,
   "metadata": {},
   "outputs": [
    {
     "name": "stdout",
     "output_type": "stream",
     "text": [
      "¿Conozco a aquella variable? 2\n",
      "2\n"
     ]
    }
   ],
   "source": [
    "def my_function():\n",
    "    global var\n",
    "    var = 2\n",
    "    print(\"¿Conozco a aquella variable?\", var)\n",
    "\n",
    "\n",
    "var = 1\n",
    "my_function()\n",
    "print(var)"
   ]
  },
  {
   "cell_type": "markdown",
   "metadata": {},
   "source": [
    "Se ha agregado la palabra global a la función."
   ]
  },
  {
   "cell_type": "markdown",
   "metadata": {},
   "source": [
    "> **Recordar:** \n",
    "> * Una variable que existe fuera de una función tiene alcance dentro del cuerpo de la función, a menos que la función defina una variable con el mismo nombre.\n",
    ">\n",
    "> * Una variable que existe dentro de una función tiene un alcance solo dentro del cuerpo de la función.\n",
    ">\n",
    "> * Se puede emplear la palabra clave reservada global seguida por el nombre de una variable para que el alcance de la variable sea global."
   ]
  },
  {
   "cell_type": "markdown",
   "metadata": {},
   "source": [
    "## Funciones Multiparámetro"
   ]
  },
  {
   "cell_type": "markdown",
   "metadata": {},
   "source": [
    "### Índice de Masa Corporal\n",
    "\n",
    "Definamos una función que calcula el Índice de Masa Corporal (IMC).\n",
    "\n",
    "Como puedes observar, la fórmula ocupa dos valores:\n",
    "\n",
    "* peso (originalmente en kilogramos)\n",
    "* altura (originalmente en metros)\n",
    "\n",
    "La nueva función tendrá dos parámetros. Su nombre será `imc`, para este caso en paticular. Puede tener cualquier nombre que deseemos."
   ]
  },
  {
   "cell_type": "code",
   "execution_count": 5,
   "metadata": {},
   "outputs": [
    {
     "name": "stdout",
     "output_type": "stream",
     "text": [
      "19.28\n"
     ]
    }
   ],
   "source": [
    "def imc(peso, altura):\n",
    "    return round(peso / altura ** 2,  ndigits=2)\n",
    "\n",
    "\n",
    "print(imc(52.5, 1.65))"
   ]
  },
  {
   "cell_type": "code",
   "execution_count": 6,
   "metadata": {},
   "outputs": [
    {
     "name": "stdout",
     "output_type": "stream",
     "text": [
      "None\n"
     ]
    }
   ],
   "source": [
    "def imc(peso, altura):\n",
    "    if altura < 1.0 or altura > 2.5 or \\\n",
    "    peso < 20 or peso > 200:\n",
    "        return None\n",
    "\n",
    "    return peso / altura ** 2\n",
    "\n",
    "\n",
    "print(imc(352.5, 1.65))"
   ]
  },
  {
   "cell_type": "markdown",
   "metadata": {},
   "source": [
    "> El símbolo de diagonal invertida (`\\`) es empleado. Si se termina una línea de código con el, Python entenderá que la línea continua en la siguiente.\n",
    ">\n",
    "> Esto puede ser útil cuando se tienen largas líneas de código y se desea que sean más legibles."
   ]
  },
  {
   "cell_type": "markdown",
   "metadata": {},
   "source": [
    "### Funciones con Triángulos\n",
    "\n",
    "En un triángulo, la suma arbitraria de dos lados tiene que ser mayor que la longitud del tercer lado.\n",
    "\n",
    "Una función que valide esta afirmación tendrá tres parámetros - uno para cada lado.\n",
    "\n",
    "Regresará `True` si todos los lados pueden formar un triángulo, y `False` de lo contrario. \n"
   ]
  },
  {
   "cell_type": "code",
   "execution_count": 7,
   "metadata": {},
   "outputs": [
    {
     "name": "stdout",
     "output_type": "stream",
     "text": [
      "True\n",
      "False\n"
     ]
    }
   ],
   "source": [
    "def triangulo(a, b, c):\n",
    "    if a + b <= c:\n",
    "        return False\n",
    "    if b + c <= a:\n",
    "        return False\n",
    "    if c + a <= b:\n",
    "        return False\n",
    "    return True\n",
    "\n",
    "\n",
    "print(triangulo(1, 1, 1))\n",
    "print(triangulo(1, 1, 3))"
   ]
  },
  {
   "cell_type": "code",
   "execution_count": 8,
   "metadata": {},
   "outputs": [
    {
     "name": "stdout",
     "output_type": "stream",
     "text": [
      "True\n",
      "False\n"
     ]
    }
   ],
   "source": [
    "def triangulo(a, b, c):\n",
    "    return a + b > c and b + c > a and c + a > b\n",
    " \n",
    " \n",
    "print(triangulo(1, 1, 1))\n",
    "print(triangulo(1, 1, 3))"
   ]
  },
  {
   "cell_type": "markdown",
   "metadata": {},
   "source": [
    "### Teorema de Pitágoras"
   ]
  },
  {
   "cell_type": "code",
   "execution_count": 9,
   "metadata": {},
   "outputs": [
    {
     "name": "stdout",
     "output_type": "stream",
     "text": [
      "No, no puede ser un triángulo.\n"
     ]
    }
   ],
   "source": [
    "# Validamos si los valores ingresados pueden o no ser un triángulo.\n",
    "def triangulo(a, b, c):\n",
    "    return a + b > c and b + c > a and c + a > b\n",
    "\n",
    "\n",
    "a = float(input('Ingresa la longitud del primer lado: '))\n",
    "b = float(input('Ingresa la longitud del segundo lado: '))\n",
    "c = float(input('Ingresa la longitud del tercer lado: '))\n",
    "\n",
    "if triangulo(a, b, c):\n",
    "    print('Si, si puede ser un triángulo.')\n",
    "else:\n",
    "    print('No, no puede ser un triángulo.')"
   ]
  },
  {
   "cell_type": "code",
   "execution_count": 11,
   "metadata": {},
   "outputs": [
    {
     "name": "stdout",
     "output_type": "stream",
     "text": [
      "True\n",
      "False\n"
     ]
    }
   ],
   "source": [
    "# La hipotenusa es el lado más largo.\n",
    "\n",
    "def triangulo(a, b, c):\n",
    "    return a + b > c and b + c > a and c + a > b\n",
    "\n",
    "\n",
    "def triangulo_rectangulo(a, b, c):\n",
    "    if not triangulo(a, b, c):\n",
    "        return False\n",
    "    if c > a and c > b:\n",
    "        return c ** 2 == a ** 2 + b ** 2\n",
    "    if a > b and a > c:\n",
    "        return a ** 2 == b ** 2 + c ** 2\n",
    "    \n",
    "    \n",
    "print(triangulo_rectangulo(5, 3, 4))\n",
    "print(triangulo_rectangulo(1, 3, 4))\n"
   ]
  },
  {
   "cell_type": "markdown",
   "metadata": {},
   "source": [
    "### Funciones para Calcular Factoriales\n",
    "\n",
    "* $0! = 1$ \n",
    "\n",
    "* $1! = 1$\n",
    "\n",
    "* $2! = 1 * 2$\n",
    "\n",
    "* $3! = 1 * 2 * 3$\n",
    "\n",
    "* $4! = 1 * 2 * 3 * 4$\n",
    "\n",
    "\n",
    "$n! = 1 * 2 * 3 * 4 * ... * n-1 * n$"
   ]
  },
  {
   "cell_type": "code",
   "execution_count": 12,
   "metadata": {},
   "outputs": [
    {
     "name": "stdout",
     "output_type": "stream",
     "text": [
      "1 1\n",
      "2 2\n",
      "3 6\n",
      "4 24\n",
      "5 120\n"
     ]
    }
   ],
   "source": [
    "def factorial_function(n):\n",
    "    if n < 0:\n",
    "        return None\n",
    "    if n < 2:\n",
    "        return 1\n",
    "\n",
    "    product = 1\n",
    "    for i in range(2, n + 1):\n",
    "        product *= i\n",
    "    return product\n",
    "\n",
    "\n",
    "for n in range(1, 6):  # probando\n",
    "    print(n, factorial_function(n))"
   ]
  },
  {
   "cell_type": "markdown",
   "metadata": {},
   "source": [
    "### Números Fibonacci"
   ]
  },
  {
   "cell_type": "code",
   "execution_count": 14,
   "metadata": {},
   "outputs": [
    {
     "name": "stdout",
     "output_type": "stream",
     "text": [
      "1 -> 1\n",
      "2 -> 1\n",
      "3 -> 2\n",
      "4 -> 3\n",
      "5 -> 5\n",
      "6 -> 8\n",
      "7 -> 13\n",
      "8 -> 21\n",
      "9 -> 34\n"
     ]
    }
   ],
   "source": [
    "def fib(n):\n",
    "    if n < 1:\n",
    "        return None\n",
    "    if n < 3:\n",
    "        return 1\n",
    "\n",
    "    elem_1 = elem_2 = 1\n",
    "    the_sum = 0\n",
    "    for i in range(3, n + 1):\n",
    "        the_sum = elem_1 + elem_2\n",
    "        elem_1, elem_2 = elem_2, the_sum\n",
    "    return the_sum\n",
    "\n",
    "\n",
    "for n in range(1, 10):  # probando\n",
    "    print(n, \"->\", fib(n))\n",
    "\n"
   ]
  },
  {
   "cell_type": "markdown",
   "metadata": {},
   "source": [
    "## Recursividad\n",
    "\n",
    "Este término hace referencia a la programación computacional. Aquí, la recursividad es una técnica donde una función se invoca a si misma.\n",
    "\n",
    "Tanto el factorial como la serie Fibonacci, son las mejores opciones para ilustrar este fenómeno."
   ]
  },
  {
   "cell_type": "code",
   "execution_count": null,
   "metadata": {},
   "outputs": [],
   "source": [
    "def fib(n):\n",
    "    if n < 1:\n",
    "        return None\n",
    "    if n < 3:\n",
    "        return 1\n",
    "    return fib(n - 1) + fib(n - 2)"
   ]
  },
  {
   "cell_type": "markdown",
   "metadata": {},
   "source": [
    "> Si no se considera una condición que detenga las invocaciones recursivas, el programa puede entrar en un bucle infinito. Se debe ser cuidadoso."
   ]
  }
 ],
 "metadata": {
  "kernelspec": {
   "display_name": "Python 3",
   "language": "python",
   "name": "python3"
  },
  "language_info": {
   "codemirror_mode": {
    "name": "ipython",
    "version": 3
   },
   "file_extension": ".py",
   "mimetype": "text/x-python",
   "name": "python",
   "nbconvert_exporter": "python",
   "pygments_lexer": "ipython3",
   "version": "3.10.12"
  }
 },
 "nbformat": 4,
 "nbformat_minor": 2
}
